{
  "nbformat": 4,
  "nbformat_minor": 0,
  "metadata": {
    "kernelspec": {
      "name": "python3",
      "display_name": "Python 3"
    },
    "language_info": {
      "codemirror_mode": {
        "name": "ipython",
        "version": 3
      },
      "file_extension": ".py",
      "mimetype": "text/x-python",
      "name": "python",
      "nbconvert_exporter": "python",
      "pygments_lexer": "ipython3",
      "version": "3.7.3"
    },
    "colab": {
      "name": "Soft_Computing_project.ipynb",
      "provenance": [],
      "collapsed_sections": [],
      "machine_shape": "hm",
      "include_colab_link": true
    },
    "accelerator": "GPU"
  },
  "cells": [
    {
      "cell_type": "markdown",
      "metadata": {
        "id": "view-in-github",
        "colab_type": "text"
      },
      "source": [
        "<a href=\"https://colab.research.google.com/github/vimalkumarmdb/A-novel-SVM-kNN-PSO-Ensemble-method-for-intrusion-detection-system-/blob/master/Soft_Computing_project.ipynb\" target=\"_parent\"><img src=\"https://colab.research.google.com/assets/colab-badge.svg\" alt=\"Open In Colab\"/></a>"
      ]
    },
    {
      "cell_type": "markdown",
      "metadata": {
        "id": "38eKuaTOvfFr",
        "colab_type": "text"
      },
      "source": [
        "# Applied Soft Computing"
      ]
    },
    {
      "cell_type": "markdown",
      "metadata": {
        "id": "M4O3PeFqvfFt",
        "colab_type": "text"
      },
      "source": [
        "# Import all library which i need to preprocess the dataset"
      ]
    },
    {
      "cell_type": "code",
      "metadata": {
        "id": "xMlr-qmtq3Qd",
        "colab_type": "code",
        "outputId": "76e59434-f18f-42a7-e3c9-79e92844b30c",
        "colab": {
          "base_uri": "https://localhost:8080/",
          "height": 35
        }
      },
      "source": [
        "import zipfile\n",
        "from google.colab import drive\n",
        "drive.mount('/content/drive/')"
      ],
      "execution_count": 0,
      "outputs": [
        {
          "output_type": "stream",
          "text": [
            "Drive already mounted at /content/drive/; to attempt to forcibly remount, call drive.mount(\"/content/drive/\", force_remount=True).\n"
          ],
          "name": "stdout"
        }
      ]
    },
    {
      "cell_type": "code",
      "metadata": {
        "id": "fGI-e3lFrDZI",
        "colab_type": "code",
        "colab": {}
      },
      "source": [
        "zip_ref = zipfile.ZipFile(\"/content/drive/My Drive/SoftComputingProject/kddcup.zip\", 'r')\n",
        "zip_ref.extractall()\n",
        "zip_ref.close()"
      ],
      "execution_count": 0,
      "outputs": []
    },
    {
      "cell_type": "markdown",
      "metadata": {
        "id": "9EyutpjDOPxC",
        "colab_type": "text"
      },
      "source": [
        "# =============================Traning Datasets================ "
      ]
    },
    {
      "cell_type": "code",
      "metadata": {
        "id": "lk-80Ua8snHG",
        "colab_type": "code",
        "colab": {}
      },
      "source": [
        "feature_names = [\"duration\",\"protocol_type\",\"service\",\"flag\",\"src_bytes\",\n",
        "    \"dst_bytes\",\"land\",\"wrong_fragment\",\"urgent\",\"hot\",\"num_failed_logins\",\n",
        "    \"logged_in\",\"num_compromised\",\"root_shell\",\"su_attempted\",\"num_root\",\n",
        "    \"num_file_creations\",\"num_shells\",\"num_access_files\",\"num_outbound_cmds\",\n",
        "    \"is_host_login\",\"is_guest_login\",\"count\",\"srv_count\",\"serror_rate\",\n",
        "    \"srv_serror_rate\",\"rerror_rate\",\"srv_rerror_rate\",\"same_srv_rate\",\n",
        "    \"diff_srv_rate\",\"srv_diff_host_rate\",\"dst_host_count\",\"dst_host_srv_count\",\n",
        "    \"dst_host_same_srv_rate\",\"dst_host_diff_srv_rate\",\"dst_host_same_src_port_rate\",\n",
        "    \"dst_host_srv_diff_host_rate\",\"dst_host_serror_rate\",\"dst_host_srv_serror_rate\",\n",
        "    \"dst_host_rerror_rate\",\"dst_host_srv_rerror_rate\",\"attack_types\"]\n",
        "\n",
        "\n",
        "R2L=['warezmaster.','warezclient.','spy.','phf.','multihop.','imap.','guess_passwd.','ftp_write.']\n",
        "\n",
        "U2R=['rootkit.','perl.','loadmodule.','buffer_overflow.']\n",
        "DoS=['smurf.','teardrop.','back.','land.','neptune.','pod.']\n",
        "Probe=['ipsweep.','nmap.','portsweep.','satan.']"
      ],
      "execution_count": 0,
      "outputs": []
    },
    {
      "cell_type": "code",
      "metadata": {
        "id": "B0iiFj0Rss7B",
        "colab_type": "code",
        "colab": {}
      },
      "source": [
        "import numpy as np\n",
        "import pandas as pd"
      ],
      "execution_count": 0,
      "outputs": []
    },
    {
      "cell_type": "code",
      "metadata": {
        "id": "8QDdwgsCvfFz",
        "colab_type": "code",
        "colab": {}
      },
      "source": [
        "df = pd.read_csv(\"/content/kddcup.data_10_percent_corrected\",names =feature_names)"
      ],
      "execution_count": 0,
      "outputs": []
    },
    {
      "cell_type": "markdown",
      "metadata": {
        "id": "NXGq8XHHvfF1",
        "colab_type": "text"
      },
      "source": [
        "## Top five row and column"
      ]
    },
    {
      "cell_type": "code",
      "metadata": {
        "id": "74_itqFgvfF2",
        "colab_type": "code",
        "outputId": "66a15e24-9288-4c52-942e-0628807cc685",
        "colab": {
          "base_uri": "https://localhost:8080/",
          "height": 218
        }
      },
      "source": [
        "df.head()"
      ],
      "execution_count": 0,
      "outputs": [
        {
          "output_type": "execute_result",
          "data": {
            "text/html": [
              "<div>\n",
              "<style scoped>\n",
              "    .dataframe tbody tr th:only-of-type {\n",
              "        vertical-align: middle;\n",
              "    }\n",
              "\n",
              "    .dataframe tbody tr th {\n",
              "        vertical-align: top;\n",
              "    }\n",
              "\n",
              "    .dataframe thead th {\n",
              "        text-align: right;\n",
              "    }\n",
              "</style>\n",
              "<table border=\"1\" class=\"dataframe\">\n",
              "  <thead>\n",
              "    <tr style=\"text-align: right;\">\n",
              "      <th></th>\n",
              "      <th>duration</th>\n",
              "      <th>protocol_type</th>\n",
              "      <th>service</th>\n",
              "      <th>flag</th>\n",
              "      <th>src_bytes</th>\n",
              "      <th>dst_bytes</th>\n",
              "      <th>land</th>\n",
              "      <th>wrong_fragment</th>\n",
              "      <th>urgent</th>\n",
              "      <th>hot</th>\n",
              "      <th>num_failed_logins</th>\n",
              "      <th>logged_in</th>\n",
              "      <th>num_compromised</th>\n",
              "      <th>root_shell</th>\n",
              "      <th>su_attempted</th>\n",
              "      <th>num_root</th>\n",
              "      <th>num_file_creations</th>\n",
              "      <th>num_shells</th>\n",
              "      <th>num_access_files</th>\n",
              "      <th>num_outbound_cmds</th>\n",
              "      <th>is_host_login</th>\n",
              "      <th>is_guest_login</th>\n",
              "      <th>count</th>\n",
              "      <th>srv_count</th>\n",
              "      <th>serror_rate</th>\n",
              "      <th>srv_serror_rate</th>\n",
              "      <th>rerror_rate</th>\n",
              "      <th>srv_rerror_rate</th>\n",
              "      <th>same_srv_rate</th>\n",
              "      <th>diff_srv_rate</th>\n",
              "      <th>srv_diff_host_rate</th>\n",
              "      <th>dst_host_count</th>\n",
              "      <th>dst_host_srv_count</th>\n",
              "      <th>dst_host_same_srv_rate</th>\n",
              "      <th>dst_host_diff_srv_rate</th>\n",
              "      <th>dst_host_same_src_port_rate</th>\n",
              "      <th>dst_host_srv_diff_host_rate</th>\n",
              "      <th>dst_host_serror_rate</th>\n",
              "      <th>dst_host_srv_serror_rate</th>\n",
              "      <th>dst_host_rerror_rate</th>\n",
              "      <th>dst_host_srv_rerror_rate</th>\n",
              "      <th>attack_types</th>\n",
              "    </tr>\n",
              "  </thead>\n",
              "  <tbody>\n",
              "    <tr>\n",
              "      <th>0</th>\n",
              "      <td>0</td>\n",
              "      <td>tcp</td>\n",
              "      <td>http</td>\n",
              "      <td>SF</td>\n",
              "      <td>181</td>\n",
              "      <td>5450</td>\n",
              "      <td>0</td>\n",
              "      <td>0</td>\n",
              "      <td>0</td>\n",
              "      <td>0</td>\n",
              "      <td>0</td>\n",
              "      <td>1</td>\n",
              "      <td>0</td>\n",
              "      <td>0</td>\n",
              "      <td>0</td>\n",
              "      <td>0</td>\n",
              "      <td>0</td>\n",
              "      <td>0</td>\n",
              "      <td>0</td>\n",
              "      <td>0</td>\n",
              "      <td>0</td>\n",
              "      <td>0</td>\n",
              "      <td>8</td>\n",
              "      <td>8</td>\n",
              "      <td>0.0</td>\n",
              "      <td>0.0</td>\n",
              "      <td>0.0</td>\n",
              "      <td>0.0</td>\n",
              "      <td>1.0</td>\n",
              "      <td>0.0</td>\n",
              "      <td>0.0</td>\n",
              "      <td>9</td>\n",
              "      <td>9</td>\n",
              "      <td>1.0</td>\n",
              "      <td>0.0</td>\n",
              "      <td>0.11</td>\n",
              "      <td>0.0</td>\n",
              "      <td>0.0</td>\n",
              "      <td>0.0</td>\n",
              "      <td>0.0</td>\n",
              "      <td>0.0</td>\n",
              "      <td>normal.</td>\n",
              "    </tr>\n",
              "    <tr>\n",
              "      <th>1</th>\n",
              "      <td>0</td>\n",
              "      <td>tcp</td>\n",
              "      <td>http</td>\n",
              "      <td>SF</td>\n",
              "      <td>239</td>\n",
              "      <td>486</td>\n",
              "      <td>0</td>\n",
              "      <td>0</td>\n",
              "      <td>0</td>\n",
              "      <td>0</td>\n",
              "      <td>0</td>\n",
              "      <td>1</td>\n",
              "      <td>0</td>\n",
              "      <td>0</td>\n",
              "      <td>0</td>\n",
              "      <td>0</td>\n",
              "      <td>0</td>\n",
              "      <td>0</td>\n",
              "      <td>0</td>\n",
              "      <td>0</td>\n",
              "      <td>0</td>\n",
              "      <td>0</td>\n",
              "      <td>8</td>\n",
              "      <td>8</td>\n",
              "      <td>0.0</td>\n",
              "      <td>0.0</td>\n",
              "      <td>0.0</td>\n",
              "      <td>0.0</td>\n",
              "      <td>1.0</td>\n",
              "      <td>0.0</td>\n",
              "      <td>0.0</td>\n",
              "      <td>19</td>\n",
              "      <td>19</td>\n",
              "      <td>1.0</td>\n",
              "      <td>0.0</td>\n",
              "      <td>0.05</td>\n",
              "      <td>0.0</td>\n",
              "      <td>0.0</td>\n",
              "      <td>0.0</td>\n",
              "      <td>0.0</td>\n",
              "      <td>0.0</td>\n",
              "      <td>normal.</td>\n",
              "    </tr>\n",
              "    <tr>\n",
              "      <th>2</th>\n",
              "      <td>0</td>\n",
              "      <td>tcp</td>\n",
              "      <td>http</td>\n",
              "      <td>SF</td>\n",
              "      <td>235</td>\n",
              "      <td>1337</td>\n",
              "      <td>0</td>\n",
              "      <td>0</td>\n",
              "      <td>0</td>\n",
              "      <td>0</td>\n",
              "      <td>0</td>\n",
              "      <td>1</td>\n",
              "      <td>0</td>\n",
              "      <td>0</td>\n",
              "      <td>0</td>\n",
              "      <td>0</td>\n",
              "      <td>0</td>\n",
              "      <td>0</td>\n",
              "      <td>0</td>\n",
              "      <td>0</td>\n",
              "      <td>0</td>\n",
              "      <td>0</td>\n",
              "      <td>8</td>\n",
              "      <td>8</td>\n",
              "      <td>0.0</td>\n",
              "      <td>0.0</td>\n",
              "      <td>0.0</td>\n",
              "      <td>0.0</td>\n",
              "      <td>1.0</td>\n",
              "      <td>0.0</td>\n",
              "      <td>0.0</td>\n",
              "      <td>29</td>\n",
              "      <td>29</td>\n",
              "      <td>1.0</td>\n",
              "      <td>0.0</td>\n",
              "      <td>0.03</td>\n",
              "      <td>0.0</td>\n",
              "      <td>0.0</td>\n",
              "      <td>0.0</td>\n",
              "      <td>0.0</td>\n",
              "      <td>0.0</td>\n",
              "      <td>normal.</td>\n",
              "    </tr>\n",
              "    <tr>\n",
              "      <th>3</th>\n",
              "      <td>0</td>\n",
              "      <td>tcp</td>\n",
              "      <td>http</td>\n",
              "      <td>SF</td>\n",
              "      <td>219</td>\n",
              "      <td>1337</td>\n",
              "      <td>0</td>\n",
              "      <td>0</td>\n",
              "      <td>0</td>\n",
              "      <td>0</td>\n",
              "      <td>0</td>\n",
              "      <td>1</td>\n",
              "      <td>0</td>\n",
              "      <td>0</td>\n",
              "      <td>0</td>\n",
              "      <td>0</td>\n",
              "      <td>0</td>\n",
              "      <td>0</td>\n",
              "      <td>0</td>\n",
              "      <td>0</td>\n",
              "      <td>0</td>\n",
              "      <td>0</td>\n",
              "      <td>6</td>\n",
              "      <td>6</td>\n",
              "      <td>0.0</td>\n",
              "      <td>0.0</td>\n",
              "      <td>0.0</td>\n",
              "      <td>0.0</td>\n",
              "      <td>1.0</td>\n",
              "      <td>0.0</td>\n",
              "      <td>0.0</td>\n",
              "      <td>39</td>\n",
              "      <td>39</td>\n",
              "      <td>1.0</td>\n",
              "      <td>0.0</td>\n",
              "      <td>0.03</td>\n",
              "      <td>0.0</td>\n",
              "      <td>0.0</td>\n",
              "      <td>0.0</td>\n",
              "      <td>0.0</td>\n",
              "      <td>0.0</td>\n",
              "      <td>normal.</td>\n",
              "    </tr>\n",
              "    <tr>\n",
              "      <th>4</th>\n",
              "      <td>0</td>\n",
              "      <td>tcp</td>\n",
              "      <td>http</td>\n",
              "      <td>SF</td>\n",
              "      <td>217</td>\n",
              "      <td>2032</td>\n",
              "      <td>0</td>\n",
              "      <td>0</td>\n",
              "      <td>0</td>\n",
              "      <td>0</td>\n",
              "      <td>0</td>\n",
              "      <td>1</td>\n",
              "      <td>0</td>\n",
              "      <td>0</td>\n",
              "      <td>0</td>\n",
              "      <td>0</td>\n",
              "      <td>0</td>\n",
              "      <td>0</td>\n",
              "      <td>0</td>\n",
              "      <td>0</td>\n",
              "      <td>0</td>\n",
              "      <td>0</td>\n",
              "      <td>6</td>\n",
              "      <td>6</td>\n",
              "      <td>0.0</td>\n",
              "      <td>0.0</td>\n",
              "      <td>0.0</td>\n",
              "      <td>0.0</td>\n",
              "      <td>1.0</td>\n",
              "      <td>0.0</td>\n",
              "      <td>0.0</td>\n",
              "      <td>49</td>\n",
              "      <td>49</td>\n",
              "      <td>1.0</td>\n",
              "      <td>0.0</td>\n",
              "      <td>0.02</td>\n",
              "      <td>0.0</td>\n",
              "      <td>0.0</td>\n",
              "      <td>0.0</td>\n",
              "      <td>0.0</td>\n",
              "      <td>0.0</td>\n",
              "      <td>normal.</td>\n",
              "    </tr>\n",
              "  </tbody>\n",
              "</table>\n",
              "</div>"
            ],
            "text/plain": [
              "   duration protocol_type  ... dst_host_srv_rerror_rate attack_types\n",
              "0         0           tcp  ...                      0.0      normal.\n",
              "1         0           tcp  ...                      0.0      normal.\n",
              "2         0           tcp  ...                      0.0      normal.\n",
              "3         0           tcp  ...                      0.0      normal.\n",
              "4         0           tcp  ...                      0.0      normal.\n",
              "\n",
              "[5 rows x 42 columns]"
            ]
          },
          "metadata": {
            "tags": []
          },
          "execution_count": 7
        }
      ]
    },
    {
      "cell_type": "code",
      "metadata": {
        "id": "I00krUBQs9nC",
        "colab_type": "code",
        "colab": {}
      },
      "source": [
        "def classify(df,attack_types):\n",
        "    attack_type=[]\n",
        "    for i in df['attack_types']:\n",
        "        if i == 'normal.':\n",
        "            attack_type.append('Normal')\n",
        "        elif i in R2L:\n",
        "            attack_type.append('R2L')\n",
        "        elif i in U2R:\n",
        "            attack_type.append('U2R')\n",
        "        elif i in DoS:\n",
        "            attack_type.append('DoS')\n",
        "        else:\n",
        "            attack_type.append('Probe')\n",
        "    return attack_type\n",
        "df['label']=classify(df,'attack_types')"
      ],
      "execution_count": 0,
      "outputs": []
    },
    {
      "cell_type": "code",
      "metadata": {
        "id": "i2N4R1WetIV1",
        "colab_type": "code",
        "outputId": "f48900e6-69b3-407e-c75a-76c4c0bba9f9",
        "colab": {
          "base_uri": "https://localhost:8080/",
          "height": 218
        }
      },
      "source": [
        "df.head()"
      ],
      "execution_count": 0,
      "outputs": [
        {
          "output_type": "execute_result",
          "data": {
            "text/html": [
              "<div>\n",
              "<style scoped>\n",
              "    .dataframe tbody tr th:only-of-type {\n",
              "        vertical-align: middle;\n",
              "    }\n",
              "\n",
              "    .dataframe tbody tr th {\n",
              "        vertical-align: top;\n",
              "    }\n",
              "\n",
              "    .dataframe thead th {\n",
              "        text-align: right;\n",
              "    }\n",
              "</style>\n",
              "<table border=\"1\" class=\"dataframe\">\n",
              "  <thead>\n",
              "    <tr style=\"text-align: right;\">\n",
              "      <th></th>\n",
              "      <th>duration</th>\n",
              "      <th>protocol_type</th>\n",
              "      <th>service</th>\n",
              "      <th>flag</th>\n",
              "      <th>src_bytes</th>\n",
              "      <th>dst_bytes</th>\n",
              "      <th>land</th>\n",
              "      <th>wrong_fragment</th>\n",
              "      <th>urgent</th>\n",
              "      <th>hot</th>\n",
              "      <th>num_failed_logins</th>\n",
              "      <th>logged_in</th>\n",
              "      <th>num_compromised</th>\n",
              "      <th>root_shell</th>\n",
              "      <th>su_attempted</th>\n",
              "      <th>num_root</th>\n",
              "      <th>num_file_creations</th>\n",
              "      <th>num_shells</th>\n",
              "      <th>num_access_files</th>\n",
              "      <th>num_outbound_cmds</th>\n",
              "      <th>is_host_login</th>\n",
              "      <th>is_guest_login</th>\n",
              "      <th>count</th>\n",
              "      <th>srv_count</th>\n",
              "      <th>serror_rate</th>\n",
              "      <th>srv_serror_rate</th>\n",
              "      <th>rerror_rate</th>\n",
              "      <th>srv_rerror_rate</th>\n",
              "      <th>same_srv_rate</th>\n",
              "      <th>diff_srv_rate</th>\n",
              "      <th>srv_diff_host_rate</th>\n",
              "      <th>dst_host_count</th>\n",
              "      <th>dst_host_srv_count</th>\n",
              "      <th>dst_host_same_srv_rate</th>\n",
              "      <th>dst_host_diff_srv_rate</th>\n",
              "      <th>dst_host_same_src_port_rate</th>\n",
              "      <th>dst_host_srv_diff_host_rate</th>\n",
              "      <th>dst_host_serror_rate</th>\n",
              "      <th>dst_host_srv_serror_rate</th>\n",
              "      <th>dst_host_rerror_rate</th>\n",
              "      <th>dst_host_srv_rerror_rate</th>\n",
              "      <th>attack_types</th>\n",
              "      <th>label</th>\n",
              "    </tr>\n",
              "  </thead>\n",
              "  <tbody>\n",
              "    <tr>\n",
              "      <th>0</th>\n",
              "      <td>0</td>\n",
              "      <td>tcp</td>\n",
              "      <td>http</td>\n",
              "      <td>SF</td>\n",
              "      <td>181</td>\n",
              "      <td>5450</td>\n",
              "      <td>0</td>\n",
              "      <td>0</td>\n",
              "      <td>0</td>\n",
              "      <td>0</td>\n",
              "      <td>0</td>\n",
              "      <td>1</td>\n",
              "      <td>0</td>\n",
              "      <td>0</td>\n",
              "      <td>0</td>\n",
              "      <td>0</td>\n",
              "      <td>0</td>\n",
              "      <td>0</td>\n",
              "      <td>0</td>\n",
              "      <td>0</td>\n",
              "      <td>0</td>\n",
              "      <td>0</td>\n",
              "      <td>8</td>\n",
              "      <td>8</td>\n",
              "      <td>0.0</td>\n",
              "      <td>0.0</td>\n",
              "      <td>0.0</td>\n",
              "      <td>0.0</td>\n",
              "      <td>1.0</td>\n",
              "      <td>0.0</td>\n",
              "      <td>0.0</td>\n",
              "      <td>9</td>\n",
              "      <td>9</td>\n",
              "      <td>1.0</td>\n",
              "      <td>0.0</td>\n",
              "      <td>0.11</td>\n",
              "      <td>0.0</td>\n",
              "      <td>0.0</td>\n",
              "      <td>0.0</td>\n",
              "      <td>0.0</td>\n",
              "      <td>0.0</td>\n",
              "      <td>normal.</td>\n",
              "      <td>Normal</td>\n",
              "    </tr>\n",
              "    <tr>\n",
              "      <th>1</th>\n",
              "      <td>0</td>\n",
              "      <td>tcp</td>\n",
              "      <td>http</td>\n",
              "      <td>SF</td>\n",
              "      <td>239</td>\n",
              "      <td>486</td>\n",
              "      <td>0</td>\n",
              "      <td>0</td>\n",
              "      <td>0</td>\n",
              "      <td>0</td>\n",
              "      <td>0</td>\n",
              "      <td>1</td>\n",
              "      <td>0</td>\n",
              "      <td>0</td>\n",
              "      <td>0</td>\n",
              "      <td>0</td>\n",
              "      <td>0</td>\n",
              "      <td>0</td>\n",
              "      <td>0</td>\n",
              "      <td>0</td>\n",
              "      <td>0</td>\n",
              "      <td>0</td>\n",
              "      <td>8</td>\n",
              "      <td>8</td>\n",
              "      <td>0.0</td>\n",
              "      <td>0.0</td>\n",
              "      <td>0.0</td>\n",
              "      <td>0.0</td>\n",
              "      <td>1.0</td>\n",
              "      <td>0.0</td>\n",
              "      <td>0.0</td>\n",
              "      <td>19</td>\n",
              "      <td>19</td>\n",
              "      <td>1.0</td>\n",
              "      <td>0.0</td>\n",
              "      <td>0.05</td>\n",
              "      <td>0.0</td>\n",
              "      <td>0.0</td>\n",
              "      <td>0.0</td>\n",
              "      <td>0.0</td>\n",
              "      <td>0.0</td>\n",
              "      <td>normal.</td>\n",
              "      <td>Normal</td>\n",
              "    </tr>\n",
              "    <tr>\n",
              "      <th>2</th>\n",
              "      <td>0</td>\n",
              "      <td>tcp</td>\n",
              "      <td>http</td>\n",
              "      <td>SF</td>\n",
              "      <td>235</td>\n",
              "      <td>1337</td>\n",
              "      <td>0</td>\n",
              "      <td>0</td>\n",
              "      <td>0</td>\n",
              "      <td>0</td>\n",
              "      <td>0</td>\n",
              "      <td>1</td>\n",
              "      <td>0</td>\n",
              "      <td>0</td>\n",
              "      <td>0</td>\n",
              "      <td>0</td>\n",
              "      <td>0</td>\n",
              "      <td>0</td>\n",
              "      <td>0</td>\n",
              "      <td>0</td>\n",
              "      <td>0</td>\n",
              "      <td>0</td>\n",
              "      <td>8</td>\n",
              "      <td>8</td>\n",
              "      <td>0.0</td>\n",
              "      <td>0.0</td>\n",
              "      <td>0.0</td>\n",
              "      <td>0.0</td>\n",
              "      <td>1.0</td>\n",
              "      <td>0.0</td>\n",
              "      <td>0.0</td>\n",
              "      <td>29</td>\n",
              "      <td>29</td>\n",
              "      <td>1.0</td>\n",
              "      <td>0.0</td>\n",
              "      <td>0.03</td>\n",
              "      <td>0.0</td>\n",
              "      <td>0.0</td>\n",
              "      <td>0.0</td>\n",
              "      <td>0.0</td>\n",
              "      <td>0.0</td>\n",
              "      <td>normal.</td>\n",
              "      <td>Normal</td>\n",
              "    </tr>\n",
              "    <tr>\n",
              "      <th>3</th>\n",
              "      <td>0</td>\n",
              "      <td>tcp</td>\n",
              "      <td>http</td>\n",
              "      <td>SF</td>\n",
              "      <td>219</td>\n",
              "      <td>1337</td>\n",
              "      <td>0</td>\n",
              "      <td>0</td>\n",
              "      <td>0</td>\n",
              "      <td>0</td>\n",
              "      <td>0</td>\n",
              "      <td>1</td>\n",
              "      <td>0</td>\n",
              "      <td>0</td>\n",
              "      <td>0</td>\n",
              "      <td>0</td>\n",
              "      <td>0</td>\n",
              "      <td>0</td>\n",
              "      <td>0</td>\n",
              "      <td>0</td>\n",
              "      <td>0</td>\n",
              "      <td>0</td>\n",
              "      <td>6</td>\n",
              "      <td>6</td>\n",
              "      <td>0.0</td>\n",
              "      <td>0.0</td>\n",
              "      <td>0.0</td>\n",
              "      <td>0.0</td>\n",
              "      <td>1.0</td>\n",
              "      <td>0.0</td>\n",
              "      <td>0.0</td>\n",
              "      <td>39</td>\n",
              "      <td>39</td>\n",
              "      <td>1.0</td>\n",
              "      <td>0.0</td>\n",
              "      <td>0.03</td>\n",
              "      <td>0.0</td>\n",
              "      <td>0.0</td>\n",
              "      <td>0.0</td>\n",
              "      <td>0.0</td>\n",
              "      <td>0.0</td>\n",
              "      <td>normal.</td>\n",
              "      <td>Normal</td>\n",
              "    </tr>\n",
              "    <tr>\n",
              "      <th>4</th>\n",
              "      <td>0</td>\n",
              "      <td>tcp</td>\n",
              "      <td>http</td>\n",
              "      <td>SF</td>\n",
              "      <td>217</td>\n",
              "      <td>2032</td>\n",
              "      <td>0</td>\n",
              "      <td>0</td>\n",
              "      <td>0</td>\n",
              "      <td>0</td>\n",
              "      <td>0</td>\n",
              "      <td>1</td>\n",
              "      <td>0</td>\n",
              "      <td>0</td>\n",
              "      <td>0</td>\n",
              "      <td>0</td>\n",
              "      <td>0</td>\n",
              "      <td>0</td>\n",
              "      <td>0</td>\n",
              "      <td>0</td>\n",
              "      <td>0</td>\n",
              "      <td>0</td>\n",
              "      <td>6</td>\n",
              "      <td>6</td>\n",
              "      <td>0.0</td>\n",
              "      <td>0.0</td>\n",
              "      <td>0.0</td>\n",
              "      <td>0.0</td>\n",
              "      <td>1.0</td>\n",
              "      <td>0.0</td>\n",
              "      <td>0.0</td>\n",
              "      <td>49</td>\n",
              "      <td>49</td>\n",
              "      <td>1.0</td>\n",
              "      <td>0.0</td>\n",
              "      <td>0.02</td>\n",
              "      <td>0.0</td>\n",
              "      <td>0.0</td>\n",
              "      <td>0.0</td>\n",
              "      <td>0.0</td>\n",
              "      <td>0.0</td>\n",
              "      <td>normal.</td>\n",
              "      <td>Normal</td>\n",
              "    </tr>\n",
              "  </tbody>\n",
              "</table>\n",
              "</div>"
            ],
            "text/plain": [
              "   duration protocol_type  ... attack_types   label\n",
              "0         0           tcp  ...      normal.  Normal\n",
              "1         0           tcp  ...      normal.  Normal\n",
              "2         0           tcp  ...      normal.  Normal\n",
              "3         0           tcp  ...      normal.  Normal\n",
              "4         0           tcp  ...      normal.  Normal\n",
              "\n",
              "[5 rows x 43 columns]"
            ]
          },
          "metadata": {
            "tags": []
          },
          "execution_count": 9
        }
      ]
    },
    {
      "cell_type": "markdown",
      "metadata": {
        "id": "OQyiwgPQvfF4",
        "colab_type": "text"
      },
      "source": [
        "## Bottom five row and columns"
      ]
    },
    {
      "cell_type": "code",
      "metadata": {
        "id": "9yrrfvQpvfF5",
        "colab_type": "code",
        "outputId": "31e22605-409b-4716-fd46-7f87c6008d90",
        "colab": {
          "base_uri": "https://localhost:8080/",
          "height": 218
        }
      },
      "source": [
        "df.tail()"
      ],
      "execution_count": 0,
      "outputs": [
        {
          "output_type": "execute_result",
          "data": {
            "text/html": [
              "<div>\n",
              "<style scoped>\n",
              "    .dataframe tbody tr th:only-of-type {\n",
              "        vertical-align: middle;\n",
              "    }\n",
              "\n",
              "    .dataframe tbody tr th {\n",
              "        vertical-align: top;\n",
              "    }\n",
              "\n",
              "    .dataframe thead th {\n",
              "        text-align: right;\n",
              "    }\n",
              "</style>\n",
              "<table border=\"1\" class=\"dataframe\">\n",
              "  <thead>\n",
              "    <tr style=\"text-align: right;\">\n",
              "      <th></th>\n",
              "      <th>duration</th>\n",
              "      <th>protocol_type</th>\n",
              "      <th>service</th>\n",
              "      <th>flag</th>\n",
              "      <th>src_bytes</th>\n",
              "      <th>dst_bytes</th>\n",
              "      <th>land</th>\n",
              "      <th>wrong_fragment</th>\n",
              "      <th>urgent</th>\n",
              "      <th>hot</th>\n",
              "      <th>num_failed_logins</th>\n",
              "      <th>logged_in</th>\n",
              "      <th>num_compromised</th>\n",
              "      <th>root_shell</th>\n",
              "      <th>su_attempted</th>\n",
              "      <th>num_root</th>\n",
              "      <th>num_file_creations</th>\n",
              "      <th>num_shells</th>\n",
              "      <th>num_access_files</th>\n",
              "      <th>num_outbound_cmds</th>\n",
              "      <th>is_host_login</th>\n",
              "      <th>is_guest_login</th>\n",
              "      <th>count</th>\n",
              "      <th>srv_count</th>\n",
              "      <th>serror_rate</th>\n",
              "      <th>srv_serror_rate</th>\n",
              "      <th>rerror_rate</th>\n",
              "      <th>srv_rerror_rate</th>\n",
              "      <th>same_srv_rate</th>\n",
              "      <th>diff_srv_rate</th>\n",
              "      <th>srv_diff_host_rate</th>\n",
              "      <th>dst_host_count</th>\n",
              "      <th>dst_host_srv_count</th>\n",
              "      <th>dst_host_same_srv_rate</th>\n",
              "      <th>dst_host_diff_srv_rate</th>\n",
              "      <th>dst_host_same_src_port_rate</th>\n",
              "      <th>dst_host_srv_diff_host_rate</th>\n",
              "      <th>dst_host_serror_rate</th>\n",
              "      <th>dst_host_srv_serror_rate</th>\n",
              "      <th>dst_host_rerror_rate</th>\n",
              "      <th>dst_host_srv_rerror_rate</th>\n",
              "      <th>attack_types</th>\n",
              "      <th>label</th>\n",
              "    </tr>\n",
              "  </thead>\n",
              "  <tbody>\n",
              "    <tr>\n",
              "      <th>494016</th>\n",
              "      <td>0</td>\n",
              "      <td>tcp</td>\n",
              "      <td>http</td>\n",
              "      <td>SF</td>\n",
              "      <td>310</td>\n",
              "      <td>1881</td>\n",
              "      <td>0</td>\n",
              "      <td>0</td>\n",
              "      <td>0</td>\n",
              "      <td>0</td>\n",
              "      <td>0</td>\n",
              "      <td>1</td>\n",
              "      <td>0</td>\n",
              "      <td>0</td>\n",
              "      <td>0</td>\n",
              "      <td>0</td>\n",
              "      <td>0</td>\n",
              "      <td>0</td>\n",
              "      <td>0</td>\n",
              "      <td>0</td>\n",
              "      <td>0</td>\n",
              "      <td>0</td>\n",
              "      <td>4</td>\n",
              "      <td>5</td>\n",
              "      <td>0.00</td>\n",
              "      <td>0.00</td>\n",
              "      <td>0.0</td>\n",
              "      <td>0.0</td>\n",
              "      <td>1.0</td>\n",
              "      <td>0.0</td>\n",
              "      <td>0.40</td>\n",
              "      <td>86</td>\n",
              "      <td>255</td>\n",
              "      <td>1.0</td>\n",
              "      <td>0.0</td>\n",
              "      <td>0.01</td>\n",
              "      <td>0.05</td>\n",
              "      <td>0.00</td>\n",
              "      <td>0.01</td>\n",
              "      <td>0.0</td>\n",
              "      <td>0.0</td>\n",
              "      <td>normal.</td>\n",
              "      <td>Normal</td>\n",
              "    </tr>\n",
              "    <tr>\n",
              "      <th>494017</th>\n",
              "      <td>0</td>\n",
              "      <td>tcp</td>\n",
              "      <td>http</td>\n",
              "      <td>SF</td>\n",
              "      <td>282</td>\n",
              "      <td>2286</td>\n",
              "      <td>0</td>\n",
              "      <td>0</td>\n",
              "      <td>0</td>\n",
              "      <td>0</td>\n",
              "      <td>0</td>\n",
              "      <td>1</td>\n",
              "      <td>0</td>\n",
              "      <td>0</td>\n",
              "      <td>0</td>\n",
              "      <td>0</td>\n",
              "      <td>0</td>\n",
              "      <td>0</td>\n",
              "      <td>0</td>\n",
              "      <td>0</td>\n",
              "      <td>0</td>\n",
              "      <td>0</td>\n",
              "      <td>6</td>\n",
              "      <td>6</td>\n",
              "      <td>0.00</td>\n",
              "      <td>0.00</td>\n",
              "      <td>0.0</td>\n",
              "      <td>0.0</td>\n",
              "      <td>1.0</td>\n",
              "      <td>0.0</td>\n",
              "      <td>0.00</td>\n",
              "      <td>6</td>\n",
              "      <td>255</td>\n",
              "      <td>1.0</td>\n",
              "      <td>0.0</td>\n",
              "      <td>0.17</td>\n",
              "      <td>0.05</td>\n",
              "      <td>0.00</td>\n",
              "      <td>0.01</td>\n",
              "      <td>0.0</td>\n",
              "      <td>0.0</td>\n",
              "      <td>normal.</td>\n",
              "      <td>Normal</td>\n",
              "    </tr>\n",
              "    <tr>\n",
              "      <th>494018</th>\n",
              "      <td>0</td>\n",
              "      <td>tcp</td>\n",
              "      <td>http</td>\n",
              "      <td>SF</td>\n",
              "      <td>203</td>\n",
              "      <td>1200</td>\n",
              "      <td>0</td>\n",
              "      <td>0</td>\n",
              "      <td>0</td>\n",
              "      <td>0</td>\n",
              "      <td>0</td>\n",
              "      <td>1</td>\n",
              "      <td>0</td>\n",
              "      <td>0</td>\n",
              "      <td>0</td>\n",
              "      <td>0</td>\n",
              "      <td>0</td>\n",
              "      <td>0</td>\n",
              "      <td>0</td>\n",
              "      <td>0</td>\n",
              "      <td>0</td>\n",
              "      <td>0</td>\n",
              "      <td>6</td>\n",
              "      <td>18</td>\n",
              "      <td>0.17</td>\n",
              "      <td>0.11</td>\n",
              "      <td>0.0</td>\n",
              "      <td>0.0</td>\n",
              "      <td>1.0</td>\n",
              "      <td>0.0</td>\n",
              "      <td>0.17</td>\n",
              "      <td>16</td>\n",
              "      <td>255</td>\n",
              "      <td>1.0</td>\n",
              "      <td>0.0</td>\n",
              "      <td>0.06</td>\n",
              "      <td>0.05</td>\n",
              "      <td>0.06</td>\n",
              "      <td>0.01</td>\n",
              "      <td>0.0</td>\n",
              "      <td>0.0</td>\n",
              "      <td>normal.</td>\n",
              "      <td>Normal</td>\n",
              "    </tr>\n",
              "    <tr>\n",
              "      <th>494019</th>\n",
              "      <td>0</td>\n",
              "      <td>tcp</td>\n",
              "      <td>http</td>\n",
              "      <td>SF</td>\n",
              "      <td>291</td>\n",
              "      <td>1200</td>\n",
              "      <td>0</td>\n",
              "      <td>0</td>\n",
              "      <td>0</td>\n",
              "      <td>0</td>\n",
              "      <td>0</td>\n",
              "      <td>1</td>\n",
              "      <td>0</td>\n",
              "      <td>0</td>\n",
              "      <td>0</td>\n",
              "      <td>0</td>\n",
              "      <td>0</td>\n",
              "      <td>0</td>\n",
              "      <td>0</td>\n",
              "      <td>0</td>\n",
              "      <td>0</td>\n",
              "      <td>0</td>\n",
              "      <td>6</td>\n",
              "      <td>12</td>\n",
              "      <td>0.00</td>\n",
              "      <td>0.00</td>\n",
              "      <td>0.0</td>\n",
              "      <td>0.0</td>\n",
              "      <td>1.0</td>\n",
              "      <td>0.0</td>\n",
              "      <td>0.17</td>\n",
              "      <td>26</td>\n",
              "      <td>255</td>\n",
              "      <td>1.0</td>\n",
              "      <td>0.0</td>\n",
              "      <td>0.04</td>\n",
              "      <td>0.05</td>\n",
              "      <td>0.04</td>\n",
              "      <td>0.01</td>\n",
              "      <td>0.0</td>\n",
              "      <td>0.0</td>\n",
              "      <td>normal.</td>\n",
              "      <td>Normal</td>\n",
              "    </tr>\n",
              "    <tr>\n",
              "      <th>494020</th>\n",
              "      <td>0</td>\n",
              "      <td>tcp</td>\n",
              "      <td>http</td>\n",
              "      <td>SF</td>\n",
              "      <td>219</td>\n",
              "      <td>1234</td>\n",
              "      <td>0</td>\n",
              "      <td>0</td>\n",
              "      <td>0</td>\n",
              "      <td>0</td>\n",
              "      <td>0</td>\n",
              "      <td>1</td>\n",
              "      <td>0</td>\n",
              "      <td>0</td>\n",
              "      <td>0</td>\n",
              "      <td>0</td>\n",
              "      <td>0</td>\n",
              "      <td>0</td>\n",
              "      <td>0</td>\n",
              "      <td>0</td>\n",
              "      <td>0</td>\n",
              "      <td>0</td>\n",
              "      <td>6</td>\n",
              "      <td>35</td>\n",
              "      <td>0.00</td>\n",
              "      <td>0.00</td>\n",
              "      <td>0.0</td>\n",
              "      <td>0.0</td>\n",
              "      <td>1.0</td>\n",
              "      <td>0.0</td>\n",
              "      <td>0.14</td>\n",
              "      <td>6</td>\n",
              "      <td>255</td>\n",
              "      <td>1.0</td>\n",
              "      <td>0.0</td>\n",
              "      <td>0.17</td>\n",
              "      <td>0.05</td>\n",
              "      <td>0.00</td>\n",
              "      <td>0.01</td>\n",
              "      <td>0.0</td>\n",
              "      <td>0.0</td>\n",
              "      <td>normal.</td>\n",
              "      <td>Normal</td>\n",
              "    </tr>\n",
              "  </tbody>\n",
              "</table>\n",
              "</div>"
            ],
            "text/plain": [
              "        duration protocol_type  ... attack_types   label\n",
              "494016         0           tcp  ...      normal.  Normal\n",
              "494017         0           tcp  ...      normal.  Normal\n",
              "494018         0           tcp  ...      normal.  Normal\n",
              "494019         0           tcp  ...      normal.  Normal\n",
              "494020         0           tcp  ...      normal.  Normal\n",
              "\n",
              "[5 rows x 43 columns]"
            ]
          },
          "metadata": {
            "tags": []
          },
          "execution_count": 10
        }
      ]
    },
    {
      "cell_type": "markdown",
      "metadata": {
        "id": "zVWHInnjvfF7",
        "colab_type": "text"
      },
      "source": [
        "## Data Size"
      ]
    },
    {
      "cell_type": "code",
      "metadata": {
        "id": "NDKbrztLvfF7",
        "colab_type": "code",
        "outputId": "8e1f4293-8d26-42ad-d659-51e747fe44b2",
        "colab": {
          "base_uri": "https://localhost:8080/",
          "height": 35
        }
      },
      "source": [
        "df.shape"
      ],
      "execution_count": 0,
      "outputs": [
        {
          "output_type": "execute_result",
          "data": {
            "text/plain": [
              "(494021, 43)"
            ]
          },
          "metadata": {
            "tags": []
          },
          "execution_count": 11
        }
      ]
    },
    {
      "cell_type": "markdown",
      "metadata": {
        "id": "UFrmmJ-EvfF9",
        "colab_type": "text"
      },
      "source": [
        "# ================== Preprocessing the dataset ====================="
      ]
    },
    {
      "cell_type": "markdown",
      "metadata": {
        "id": "Fgbxp0FRvfGD",
        "colab_type": "text"
      },
      "source": [
        "## Remove redundant features from dataset"
      ]
    },
    {
      "cell_type": "code",
      "metadata": {
        "id": "cTujUZVGvfGE",
        "colab_type": "code",
        "colab": {}
      },
      "source": [
        "df['num_outbound_cmds'].value_counts()\n",
        "df.drop('num_outbound_cmds', axis=1, inplace=True)\n",
        "df['is_host_login'].value_counts()\n",
        "df.drop('is_host_login', axis=1, inplace=True)"
      ],
      "execution_count": 0,
      "outputs": []
    },
    {
      "cell_type": "markdown",
      "metadata": {
        "id": "XNuOTjQbvfGH",
        "colab_type": "text"
      },
      "source": [
        "## Transform of categorical features"
      ]
    },
    {
      "cell_type": "code",
      "metadata": {
        "id": "JiMsWqqAvfGH",
        "colab_type": "code",
        "colab": {}
      },
      "source": [
        "df['protocol_type'] = df['protocol_type'].astype('category')\n",
        "df['service'] = df['service'].astype('category')\n",
        "df['flag'] = df['flag'].astype('category')\n",
        "cat_columns = df.select_dtypes(['category']).columns\n",
        "df[cat_columns] = df[cat_columns].apply(lambda x: x.cat.codes)"
      ],
      "execution_count": 0,
      "outputs": []
    },
    {
      "cell_type": "code",
      "metadata": {
        "id": "djfom_ZEvfGJ",
        "colab_type": "code",
        "outputId": "7756123b-6bee-4c15-af15-c127849ff5e6",
        "colab": {
          "base_uri": "https://localhost:8080/",
          "height": 218
        }
      },
      "source": [
        "df.head()"
      ],
      "execution_count": 0,
      "outputs": [
        {
          "output_type": "execute_result",
          "data": {
            "text/html": [
              "<div>\n",
              "<style scoped>\n",
              "    .dataframe tbody tr th:only-of-type {\n",
              "        vertical-align: middle;\n",
              "    }\n",
              "\n",
              "    .dataframe tbody tr th {\n",
              "        vertical-align: top;\n",
              "    }\n",
              "\n",
              "    .dataframe thead th {\n",
              "        text-align: right;\n",
              "    }\n",
              "</style>\n",
              "<table border=\"1\" class=\"dataframe\">\n",
              "  <thead>\n",
              "    <tr style=\"text-align: right;\">\n",
              "      <th></th>\n",
              "      <th>duration</th>\n",
              "      <th>protocol_type</th>\n",
              "      <th>service</th>\n",
              "      <th>flag</th>\n",
              "      <th>src_bytes</th>\n",
              "      <th>dst_bytes</th>\n",
              "      <th>land</th>\n",
              "      <th>wrong_fragment</th>\n",
              "      <th>urgent</th>\n",
              "      <th>hot</th>\n",
              "      <th>num_failed_logins</th>\n",
              "      <th>logged_in</th>\n",
              "      <th>num_compromised</th>\n",
              "      <th>root_shell</th>\n",
              "      <th>su_attempted</th>\n",
              "      <th>num_root</th>\n",
              "      <th>num_file_creations</th>\n",
              "      <th>num_shells</th>\n",
              "      <th>num_access_files</th>\n",
              "      <th>is_guest_login</th>\n",
              "      <th>count</th>\n",
              "      <th>srv_count</th>\n",
              "      <th>serror_rate</th>\n",
              "      <th>srv_serror_rate</th>\n",
              "      <th>rerror_rate</th>\n",
              "      <th>srv_rerror_rate</th>\n",
              "      <th>same_srv_rate</th>\n",
              "      <th>diff_srv_rate</th>\n",
              "      <th>srv_diff_host_rate</th>\n",
              "      <th>dst_host_count</th>\n",
              "      <th>dst_host_srv_count</th>\n",
              "      <th>dst_host_same_srv_rate</th>\n",
              "      <th>dst_host_diff_srv_rate</th>\n",
              "      <th>dst_host_same_src_port_rate</th>\n",
              "      <th>dst_host_srv_diff_host_rate</th>\n",
              "      <th>dst_host_serror_rate</th>\n",
              "      <th>dst_host_srv_serror_rate</th>\n",
              "      <th>dst_host_rerror_rate</th>\n",
              "      <th>dst_host_srv_rerror_rate</th>\n",
              "      <th>attack_types</th>\n",
              "      <th>label</th>\n",
              "    </tr>\n",
              "  </thead>\n",
              "  <tbody>\n",
              "    <tr>\n",
              "      <th>0</th>\n",
              "      <td>0</td>\n",
              "      <td>1</td>\n",
              "      <td>22</td>\n",
              "      <td>9</td>\n",
              "      <td>181</td>\n",
              "      <td>5450</td>\n",
              "      <td>0</td>\n",
              "      <td>0</td>\n",
              "      <td>0</td>\n",
              "      <td>0</td>\n",
              "      <td>0</td>\n",
              "      <td>1</td>\n",
              "      <td>0</td>\n",
              "      <td>0</td>\n",
              "      <td>0</td>\n",
              "      <td>0</td>\n",
              "      <td>0</td>\n",
              "      <td>0</td>\n",
              "      <td>0</td>\n",
              "      <td>0</td>\n",
              "      <td>8</td>\n",
              "      <td>8</td>\n",
              "      <td>0.0</td>\n",
              "      <td>0.0</td>\n",
              "      <td>0.0</td>\n",
              "      <td>0.0</td>\n",
              "      <td>1.0</td>\n",
              "      <td>0.0</td>\n",
              "      <td>0.0</td>\n",
              "      <td>9</td>\n",
              "      <td>9</td>\n",
              "      <td>1.0</td>\n",
              "      <td>0.0</td>\n",
              "      <td>0.11</td>\n",
              "      <td>0.0</td>\n",
              "      <td>0.0</td>\n",
              "      <td>0.0</td>\n",
              "      <td>0.0</td>\n",
              "      <td>0.0</td>\n",
              "      <td>normal.</td>\n",
              "      <td>Normal</td>\n",
              "    </tr>\n",
              "    <tr>\n",
              "      <th>1</th>\n",
              "      <td>0</td>\n",
              "      <td>1</td>\n",
              "      <td>22</td>\n",
              "      <td>9</td>\n",
              "      <td>239</td>\n",
              "      <td>486</td>\n",
              "      <td>0</td>\n",
              "      <td>0</td>\n",
              "      <td>0</td>\n",
              "      <td>0</td>\n",
              "      <td>0</td>\n",
              "      <td>1</td>\n",
              "      <td>0</td>\n",
              "      <td>0</td>\n",
              "      <td>0</td>\n",
              "      <td>0</td>\n",
              "      <td>0</td>\n",
              "      <td>0</td>\n",
              "      <td>0</td>\n",
              "      <td>0</td>\n",
              "      <td>8</td>\n",
              "      <td>8</td>\n",
              "      <td>0.0</td>\n",
              "      <td>0.0</td>\n",
              "      <td>0.0</td>\n",
              "      <td>0.0</td>\n",
              "      <td>1.0</td>\n",
              "      <td>0.0</td>\n",
              "      <td>0.0</td>\n",
              "      <td>19</td>\n",
              "      <td>19</td>\n",
              "      <td>1.0</td>\n",
              "      <td>0.0</td>\n",
              "      <td>0.05</td>\n",
              "      <td>0.0</td>\n",
              "      <td>0.0</td>\n",
              "      <td>0.0</td>\n",
              "      <td>0.0</td>\n",
              "      <td>0.0</td>\n",
              "      <td>normal.</td>\n",
              "      <td>Normal</td>\n",
              "    </tr>\n",
              "    <tr>\n",
              "      <th>2</th>\n",
              "      <td>0</td>\n",
              "      <td>1</td>\n",
              "      <td>22</td>\n",
              "      <td>9</td>\n",
              "      <td>235</td>\n",
              "      <td>1337</td>\n",
              "      <td>0</td>\n",
              "      <td>0</td>\n",
              "      <td>0</td>\n",
              "      <td>0</td>\n",
              "      <td>0</td>\n",
              "      <td>1</td>\n",
              "      <td>0</td>\n",
              "      <td>0</td>\n",
              "      <td>0</td>\n",
              "      <td>0</td>\n",
              "      <td>0</td>\n",
              "      <td>0</td>\n",
              "      <td>0</td>\n",
              "      <td>0</td>\n",
              "      <td>8</td>\n",
              "      <td>8</td>\n",
              "      <td>0.0</td>\n",
              "      <td>0.0</td>\n",
              "      <td>0.0</td>\n",
              "      <td>0.0</td>\n",
              "      <td>1.0</td>\n",
              "      <td>0.0</td>\n",
              "      <td>0.0</td>\n",
              "      <td>29</td>\n",
              "      <td>29</td>\n",
              "      <td>1.0</td>\n",
              "      <td>0.0</td>\n",
              "      <td>0.03</td>\n",
              "      <td>0.0</td>\n",
              "      <td>0.0</td>\n",
              "      <td>0.0</td>\n",
              "      <td>0.0</td>\n",
              "      <td>0.0</td>\n",
              "      <td>normal.</td>\n",
              "      <td>Normal</td>\n",
              "    </tr>\n",
              "    <tr>\n",
              "      <th>3</th>\n",
              "      <td>0</td>\n",
              "      <td>1</td>\n",
              "      <td>22</td>\n",
              "      <td>9</td>\n",
              "      <td>219</td>\n",
              "      <td>1337</td>\n",
              "      <td>0</td>\n",
              "      <td>0</td>\n",
              "      <td>0</td>\n",
              "      <td>0</td>\n",
              "      <td>0</td>\n",
              "      <td>1</td>\n",
              "      <td>0</td>\n",
              "      <td>0</td>\n",
              "      <td>0</td>\n",
              "      <td>0</td>\n",
              "      <td>0</td>\n",
              "      <td>0</td>\n",
              "      <td>0</td>\n",
              "      <td>0</td>\n",
              "      <td>6</td>\n",
              "      <td>6</td>\n",
              "      <td>0.0</td>\n",
              "      <td>0.0</td>\n",
              "      <td>0.0</td>\n",
              "      <td>0.0</td>\n",
              "      <td>1.0</td>\n",
              "      <td>0.0</td>\n",
              "      <td>0.0</td>\n",
              "      <td>39</td>\n",
              "      <td>39</td>\n",
              "      <td>1.0</td>\n",
              "      <td>0.0</td>\n",
              "      <td>0.03</td>\n",
              "      <td>0.0</td>\n",
              "      <td>0.0</td>\n",
              "      <td>0.0</td>\n",
              "      <td>0.0</td>\n",
              "      <td>0.0</td>\n",
              "      <td>normal.</td>\n",
              "      <td>Normal</td>\n",
              "    </tr>\n",
              "    <tr>\n",
              "      <th>4</th>\n",
              "      <td>0</td>\n",
              "      <td>1</td>\n",
              "      <td>22</td>\n",
              "      <td>9</td>\n",
              "      <td>217</td>\n",
              "      <td>2032</td>\n",
              "      <td>0</td>\n",
              "      <td>0</td>\n",
              "      <td>0</td>\n",
              "      <td>0</td>\n",
              "      <td>0</td>\n",
              "      <td>1</td>\n",
              "      <td>0</td>\n",
              "      <td>0</td>\n",
              "      <td>0</td>\n",
              "      <td>0</td>\n",
              "      <td>0</td>\n",
              "      <td>0</td>\n",
              "      <td>0</td>\n",
              "      <td>0</td>\n",
              "      <td>6</td>\n",
              "      <td>6</td>\n",
              "      <td>0.0</td>\n",
              "      <td>0.0</td>\n",
              "      <td>0.0</td>\n",
              "      <td>0.0</td>\n",
              "      <td>1.0</td>\n",
              "      <td>0.0</td>\n",
              "      <td>0.0</td>\n",
              "      <td>49</td>\n",
              "      <td>49</td>\n",
              "      <td>1.0</td>\n",
              "      <td>0.0</td>\n",
              "      <td>0.02</td>\n",
              "      <td>0.0</td>\n",
              "      <td>0.0</td>\n",
              "      <td>0.0</td>\n",
              "      <td>0.0</td>\n",
              "      <td>0.0</td>\n",
              "      <td>normal.</td>\n",
              "      <td>Normal</td>\n",
              "    </tr>\n",
              "  </tbody>\n",
              "</table>\n",
              "</div>"
            ],
            "text/plain": [
              "   duration  protocol_type  ...  attack_types   label\n",
              "0         0              1  ...       normal.  Normal\n",
              "1         0              1  ...       normal.  Normal\n",
              "2         0              1  ...       normal.  Normal\n",
              "3         0              1  ...       normal.  Normal\n",
              "4         0              1  ...       normal.  Normal\n",
              "\n",
              "[5 rows x 41 columns]"
            ]
          },
          "metadata": {
            "tags": []
          },
          "execution_count": 14
        }
      ]
    },
    {
      "cell_type": "markdown",
      "metadata": {
        "id": "zVT_RG74vfGL",
        "colab_type": "text"
      },
      "source": [
        "## Remove duplicates from dataframe"
      ]
    },
    {
      "cell_type": "code",
      "metadata": {
        "id": "WBWzKShRDcZU",
        "colab_type": "code",
        "colab": {}
      },
      "source": [
        "def remove_duplicate(df):\n",
        "  print('Before remove duplicate shape',df.shape)\n",
        "  df.drop_duplicates(subset=None, keep='first', inplace=True)\n",
        "  print('After remove duplicate shape',df.shape)\n",
        "  return df"
      ],
      "execution_count": 0,
      "outputs": []
    },
    {
      "cell_type": "code",
      "metadata": {
        "id": "dgXYIva1Dqfb",
        "colab_type": "code",
        "outputId": "c60e7b50-d714-4750-fb2a-eff5aca9ecaa",
        "colab": {
          "base_uri": "https://localhost:8080/",
          "height": 54
        }
      },
      "source": [
        "df = remove_duplicate(df)"
      ],
      "execution_count": 0,
      "outputs": [
        {
          "output_type": "stream",
          "text": [
            "Before remove duplicate shape (494021, 41)\n",
            "After remove duplicate shape (145586, 41)\n"
          ],
          "name": "stdout"
        }
      ]
    },
    {
      "cell_type": "code",
      "metadata": {
        "id": "YUNOTwpKxcza",
        "colab_type": "code",
        "outputId": "68c9eac9-00bc-42bb-b487-fe8d3637c7c2",
        "colab": {
          "base_uri": "https://localhost:8080/",
          "height": 781
        }
      },
      "source": [
        "df.isna().sum()"
      ],
      "execution_count": 0,
      "outputs": [
        {
          "output_type": "execute_result",
          "data": {
            "text/plain": [
              "duration                       0\n",
              "protocol_type                  0\n",
              "service                        0\n",
              "flag                           0\n",
              "src_bytes                      0\n",
              "dst_bytes                      0\n",
              "land                           0\n",
              "wrong_fragment                 0\n",
              "urgent                         0\n",
              "hot                            0\n",
              "num_failed_logins              0\n",
              "logged_in                      0\n",
              "num_compromised                0\n",
              "root_shell                     0\n",
              "su_attempted                   0\n",
              "num_root                       0\n",
              "num_file_creations             0\n",
              "num_shells                     0\n",
              "num_access_files               0\n",
              "is_guest_login                 0\n",
              "count                          0\n",
              "srv_count                      0\n",
              "serror_rate                    0\n",
              "srv_serror_rate                0\n",
              "rerror_rate                    0\n",
              "srv_rerror_rate                0\n",
              "same_srv_rate                  0\n",
              "diff_srv_rate                  0\n",
              "srv_diff_host_rate             0\n",
              "dst_host_count                 0\n",
              "dst_host_srv_count             0\n",
              "dst_host_same_srv_rate         0\n",
              "dst_host_diff_srv_rate         0\n",
              "dst_host_same_src_port_rate    0\n",
              "dst_host_srv_diff_host_rate    0\n",
              "dst_host_serror_rate           0\n",
              "dst_host_srv_serror_rate       0\n",
              "dst_host_rerror_rate           0\n",
              "dst_host_srv_rerror_rate       0\n",
              "attack_types                   0\n",
              "label                          0\n",
              "dtype: int64"
            ]
          },
          "metadata": {
            "tags": []
          },
          "execution_count": 17
        }
      ]
    },
    {
      "cell_type": "code",
      "metadata": {
        "id": "t0krIILHvfGN",
        "colab_type": "code",
        "outputId": "03596225-cdeb-47ae-cc95-27a4c2ec0db4",
        "colab": {
          "base_uri": "https://localhost:8080/",
          "height": 35
        }
      },
      "source": [
        "df.shape"
      ],
      "execution_count": 0,
      "outputs": [
        {
          "output_type": "execute_result",
          "data": {
            "text/plain": [
              "(145586, 41)"
            ]
          },
          "metadata": {
            "tags": []
          },
          "execution_count": 18
        }
      ]
    },
    {
      "cell_type": "markdown",
      "metadata": {
        "id": "8I4sOFeGvfGP",
        "colab_type": "text"
      },
      "source": [
        "## Check lablel of dataset "
      ]
    },
    {
      "cell_type": "code",
      "metadata": {
        "id": "tJtMlUMSvfGP",
        "colab_type": "code",
        "outputId": "12078ce7-2405-4f0e-d600-83e8faba427b",
        "colab": {
          "base_uri": "https://localhost:8080/",
          "height": 126
        }
      },
      "source": [
        "df['label'].value_counts()"
      ],
      "execution_count": 0,
      "outputs": [
        {
          "output_type": "execute_result",
          "data": {
            "text/plain": [
              "Normal    87832\n",
              "DoS       54572\n",
              "Probe      2131\n",
              "R2L         999\n",
              "U2R          52\n",
              "Name: label, dtype: int64"
            ]
          },
          "metadata": {
            "tags": []
          },
          "execution_count": 19
        }
      ]
    },
    {
      "cell_type": "code",
      "metadata": {
        "id": "xtgoJcdMvU47",
        "colab_type": "code",
        "outputId": "6dbefea1-180b-4c11-9dc3-99356b00a5c8",
        "colab": {
          "base_uri": "https://localhost:8080/",
          "height": 454
        }
      },
      "source": [
        "df['attack_types'].value_counts()"
      ],
      "execution_count": 0,
      "outputs": [
        {
          "output_type": "execute_result",
          "data": {
            "text/plain": [
              "normal.             87832\n",
              "neptune.            51820\n",
              "back.                 968\n",
              "teardrop.             918\n",
              "satan.                906\n",
              "warezclient.          893\n",
              "ipsweep.              651\n",
              "smurf.                641\n",
              "portsweep.            416\n",
              "pod.                  206\n",
              "nmap.                 158\n",
              "guess_passwd.          53\n",
              "buffer_overflow.       30\n",
              "warezmaster.           20\n",
              "land.                  19\n",
              "imap.                  12\n",
              "rootkit.               10\n",
              "loadmodule.             9\n",
              "ftp_write.              8\n",
              "multihop.               7\n",
              "phf.                    4\n",
              "perl.                   3\n",
              "spy.                    2\n",
              "Name: attack_types, dtype: int64"
            ]
          },
          "metadata": {
            "tags": []
          },
          "execution_count": 20
        }
      ]
    },
    {
      "cell_type": "markdown",
      "metadata": {
        "id": "u_Kj_6dUA4hV",
        "colab_type": "text"
      },
      "source": [
        "# ================= Exploratory data analysis ====================="
      ]
    },
    {
      "cell_type": "markdown",
      "metadata": {
        "id": "yLVJKj0HvfGR",
        "colab_type": "text"
      },
      "source": [
        "## For visulization import necessary library "
      ]
    },
    {
      "cell_type": "code",
      "metadata": {
        "id": "MkLA7sPjvfGS",
        "colab_type": "code",
        "colab": {}
      },
      "source": [
        "import matplotlib.pyplot as plt\n",
        "import seaborn as sn"
      ],
      "execution_count": 0,
      "outputs": []
    },
    {
      "cell_type": "markdown",
      "metadata": {
        "id": "AwRCRDdhvfGT",
        "colab_type": "text"
      },
      "source": [
        "## Distribution of attacks"
      ]
    },
    {
      "cell_type": "code",
      "metadata": {
        "id": "ixbUM2iYvfGU",
        "colab_type": "code",
        "outputId": "619f7ed9-9abd-45f3-92ff-7a05d7b1acbe",
        "colab": {
          "base_uri": "https://localhost:8080/",
          "height": 539
        }
      },
      "source": [
        "plt.figure(figsize=(12,8))\n",
        "plt.title('Classof attacks (Log transformation)')\n",
        "df['label'].value_counts().apply(np.log).plot(kind='bar', color = ['orange','Olive','purple','Fuchsia','blue'])\n",
        "plt.xlabel(\"labels\")\n",
        "plt.ylabel(\"log(count)\")\n",
        "plt.show()"
      ],
      "execution_count": 0,
      "outputs": [
        {
          "output_type": "display_data",
          "data": {
            "image/png": "[encoded data removed]",
            "text/plain": [
              "<Figure size 864x576 with 1 Axes>"
            ]
          },
          "metadata": {
            "tags": []
          }
        }
      ]
    },
    {
      "cell_type": "code",
      "metadata": {
        "id": "upPgiUhS28DE",
        "colab_type": "code",
        "colab": {}
      },
      "source": [
        "color_names=[\"pink\",\t\"magenta\",\"purple\",\"indigo\",\"silver\",\"grey\",\"black\",\t\"Fuchsia\"\t,\"teal\",\"cyan\",\"green\",\t\"chartreuse\",\n",
        " \t \t \t \t \t \t \t \t \t \t \t \t \t \t \t \n",
        "\"olive\",'orange','Olive','purple','blue',\t\"gold\",\"orange\",\"brown\",\"maroon\",\t\"violet\"]"
      ],
      "execution_count": 0,
      "outputs": []
    },
    {
      "cell_type": "code",
      "metadata": {
        "id": "KmefH0M8vfGV",
        "colab_type": "code",
        "outputId": "e86955b1-bb61-466b-f492-af11e8df2a0b",
        "colab": {
          "base_uri": "https://localhost:8080/",
          "height": 584
        }
      },
      "source": [
        "plt.figure(figsize=(12,8))\n",
        "plt.title(\"Types of attacks (Log transformation)\")\n",
        "df['attack_types'].value_counts().apply(np.log).plot(kind='bar',color = color_names)\n",
        "plt.xlabel(\"Attack names\")\n",
        "plt.ylabel(\"log(count)\")\n",
        "plt.show()"
      ],
      "execution_count": 0,
      "outputs": [
        {
          "output_type": "display_data",
          "data": {
            "image/png": "[encoded data removed]",
            "text/plain": [
              "<Figure size 864x576 with 1 Axes>"
            ]
          },
          "metadata": {
            "tags": []
          }
        }
      ]
    },
    {
      "cell_type": "code",
      "metadata": {
        "id": "UB_Kze9bx3OM",
        "colab_type": "code",
        "colab": {}
      },
      "source": [
        "import pandas_profiling \n",
        "%matplotlib inline"
      ],
      "execution_count": 0,
      "outputs": []
    },
    {
      "cell_type": "code",
      "metadata": {
        "id": "OBSCVEYEvwZP",
        "colab_type": "code",
        "colab": {}
      },
      "source": [
        "def pd_profile_report(df,threshold =0.4, file_names = 'Analysis_report.html' ):\n",
        "  pfr = pandas_profiling.ProfileReport(df,correlation_threshold =threshold,\n",
        "                                     bins = 20)\n",
        "  name = file_names\n",
        "  pfr.to_file(str(name))\n",
        "  return pfr"
      ],
      "execution_count": 0,
      "outputs": []
    },
    {
      "cell_type": "code",
      "metadata": {
        "id": "Pfp6LQoNAE06",
        "colab_type": "code",
        "outputId": "9eda7b5b-4b9f-4af8-f560-8198aba6b82d",
        "colab": {
          "base_uri": "https://localhost:8080/",
          "height": 74
        }
      },
      "source": [
        "ppr = pd_profile_report(df,threshold =0.4,file_names = 'my_Analysis_report.html')"
      ],
      "execution_count": 0,
      "outputs": [
        {
          "output_type": "stream",
          "text": [
            "/usr/local/lib/python3.6/dist-packages/pandas_profiling/describe.py:392: FutureWarning: The join_axes-keyword is deprecated. Use .reindex or .reindex_like on the result to achieve the same functionality.\n",
            "  variable_stats = pd.concat(ldesc, join_axes=pd.Index([names]), axis=1)\n"
          ],
          "name": "stderr"
        }
      ]
    },
    {
      "cell_type": "code",
      "metadata": {
        "id": "sWCZ59-8_8Ik",
        "colab_type": "code",
        "outputId": "95049735-0360-497c-a900-d038e4c067c1",
        "colab": {
          "base_uri": "https://localhost:8080/",
          "height": 363
        }
      },
      "source": [
        "variable =ppr.get_rejected_variables(threshold =.4)\n",
        "variable"
      ],
      "execution_count": 0,
      "outputs": [
        {
          "output_type": "execute_result",
          "data": {
            "text/plain": [
              "['logged_in',\n",
              " 'su_attempted',\n",
              " 'num_root',\n",
              " 'num_access_files',\n",
              " 'is_guest_login',\n",
              " 'count',\n",
              " 'serror_rate',\n",
              " 'srv_serror_rate',\n",
              " 'srv_rerror_rate',\n",
              " 'same_srv_rate',\n",
              " 'dst_host_count',\n",
              " 'dst_host_srv_count',\n",
              " 'dst_host_same_srv_rate',\n",
              " 'dst_host_diff_srv_rate',\n",
              " 'dst_host_same_src_port_rate',\n",
              " 'dst_host_serror_rate',\n",
              " 'dst_host_srv_serror_rate',\n",
              " 'dst_host_rerror_rate',\n",
              " 'dst_host_srv_rerror_rate']"
            ]
          },
          "metadata": {
            "tags": []
          },
          "execution_count": 28
        }
      ]
    },
    {
      "cell_type": "code",
      "metadata": {
        "id": "fpbvLe7ZKRXB",
        "colab_type": "code",
        "colab": {}
      },
      "source": [
        "def feature_remove(df,variable):\n",
        "  df =df.drop(variable,axis =1)\n",
        "  return df"
      ],
      "execution_count": 0,
      "outputs": []
    },
    {
      "cell_type": "markdown",
      "metadata": {
        "id": "_YW4PP9yMHyY",
        "colab_type": "text"
      },
      "source": [
        "## ===================================Feature selection============================="
      ]
    },
    {
      "cell_type": "code",
      "metadata": {
        "id": "GSr7nSM-LejO",
        "colab_type": "code",
        "colab": {}
      },
      "source": [
        "df = feature_remove(df,variable)"
      ],
      "execution_count": 0,
      "outputs": []
    },
    {
      "cell_type": "code",
      "metadata": {
        "id": "FIqNHOy8y2iO",
        "colab_type": "code",
        "colab": {}
      },
      "source": [
        "feature_drop= ['urgent','wrong_fragment','num_compromised','num_failed_logins','num_file_creations','num_shells','src_bytes','attack_types']\n",
        "mydf = feature_remove(df,feature_drop)"
      ],
      "execution_count": 0,
      "outputs": []
    },
    {
      "cell_type": "code",
      "metadata": {
        "id": "PN1HSZTMM776",
        "colab_type": "code",
        "outputId": "b5866b0b-adf4-4127-bc3d-ae6737cd1d23",
        "colab": {
          "base_uri": "https://localhost:8080/",
          "height": 54
        }
      },
      "source": [
        "mydf = remove_duplicate(mydf)"
      ],
      "execution_count": 0,
      "outputs": [
        {
          "output_type": "stream",
          "text": [
            "Before remove duplicate shape (145586, 14)\n",
            "After remove duplicate shape (67266, 14)\n"
          ],
          "name": "stdout"
        }
      ]
    },
    {
      "cell_type": "code",
      "metadata": {
        "id": "S5O7rMmxS79_",
        "colab_type": "code",
        "colab": {}
      },
      "source": [
        "def minMax_scaler(df):\n",
        "  data =df.drop([\"label\"],axis=1) \n",
        "  from sklearn.preprocessing import MinMaxScaler\n",
        "  scaler = MinMaxScaler()\n",
        "  train_data = scaler.fit_transform(data)\n",
        "  names= data.columns\n",
        "  dfa = pd.DataFrame(train_data, columns= names)\n",
        "  return dfa"
      ],
      "execution_count": 0,
      "outputs": []
    },
    {
      "cell_type": "code",
      "metadata": {
        "id": "9IsmeF1INbwq",
        "colab_type": "code",
        "colab": {}
      },
      "source": [
        "mydf1 = minMax_scaler(mydf)"
      ],
      "execution_count": 0,
      "outputs": []
    },
    {
      "cell_type": "code",
      "metadata": {
        "id": "p__BiXMndebt",
        "colab_type": "code",
        "outputId": "1b6831d5-291a-4260-94e8-0607f1fa9812",
        "colab": {
          "base_uri": "https://localhost:8080/",
          "height": 35
        }
      },
      "source": [
        "mydf1.shape"
      ],
      "execution_count": 0,
      "outputs": [
        {
          "output_type": "execute_result",
          "data": {
            "text/plain": [
              "(67266, 13)"
            ]
          },
          "metadata": {
            "tags": []
          },
          "execution_count": 35
        }
      ]
    },
    {
      "cell_type": "code",
      "metadata": {
        "id": "Sp8AoBUaz6n4",
        "colab_type": "code",
        "colab": {}
      },
      "source": [
        "import copy as copy\n",
        "scaled_df = copy.deepcopy(mydf1)"
      ],
      "execution_count": 0,
      "outputs": []
    },
    {
      "cell_type": "code",
      "metadata": {
        "id": "ZsFdL7PTzzfe",
        "colab_type": "code",
        "outputId": "d8acaab6-bca5-4bcf-b7fc-9c1d56532e54",
        "colab": {
          "base_uri": "https://localhost:8080/",
          "height": 35
        }
      },
      "source": [
        "mydf['label'].isnull().sum()"
      ],
      "execution_count": 0,
      "outputs": [
        {
          "output_type": "execute_result",
          "data": {
            "text/plain": [
              "0"
            ]
          },
          "metadata": {
            "tags": []
          },
          "execution_count": 37
        }
      ]
    },
    {
      "cell_type": "code",
      "metadata": {
        "id": "NmFlZMaIOOre",
        "colab_type": "code",
        "outputId": "d2d2510c-e6d7-4c52-e53b-5f89cf806ab4",
        "colab": {
          "base_uri": "https://localhost:8080/",
          "height": 92
        }
      },
      "source": [
        "ppr2 = pd_profile_report(mydf1,threshold =.4,file_names = 'my_Analysis_report2.html')\n",
        "variable =ppr2.get_rejected_variables(threshold =.4)\n",
        "variable"
      ],
      "execution_count": 0,
      "outputs": [
        {
          "output_type": "stream",
          "text": [
            "/usr/local/lib/python3.6/dist-packages/pandas_profiling/describe.py:392: FutureWarning: The join_axes-keyword is deprecated. Use .reindex or .reindex_like on the result to achieve the same functionality.\n",
            "  variable_stats = pd.concat(ldesc, join_axes=pd.Index([names]), axis=1)\n"
          ],
          "name": "stderr"
        },
        {
          "output_type": "execute_result",
          "data": {
            "text/plain": [
              "[]"
            ]
          },
          "metadata": {
            "tags": []
          },
          "execution_count": 38
        }
      ]
    },
    {
      "cell_type": "markdown",
      "metadata": {
        "id": "mqsnW1BiDeok",
        "colab_type": "text"
      },
      "source": [
        "* shape of data"
      ]
    },
    {
      "cell_type": "code",
      "metadata": {
        "id": "FSzuZOcVxOjj",
        "colab_type": "code",
        "outputId": "0cc60c4e-8d8c-4f09-955a-94cd59499bcf",
        "colab": {
          "base_uri": "https://localhost:8080/",
          "height": 35
        }
      },
      "source": [
        "mydf1.shape,mydf.shape"
      ],
      "execution_count": 0,
      "outputs": [
        {
          "output_type": "execute_result",
          "data": {
            "text/plain": [
              "((67266, 13), (67266, 14))"
            ]
          },
          "metadata": {
            "tags": []
          },
          "execution_count": 39
        }
      ]
    },
    {
      "cell_type": "markdown",
      "metadata": {
        "id": "fX5j5WOPIRog",
        "colab_type": "text"
      },
      "source": [
        "## One Hot Encoder"
      ]
    },
    {
      "cell_type": "code",
      "metadata": {
        "id": "l4O2yjzTIWgs",
        "colab_type": "code",
        "colab": {}
      },
      "source": [
        "def target_feature(mydf):\n",
        "  #mydf['label']= mydf['label'].value_counts().apply(np.log)  # log transformation\n",
        "  target = mydf['label'] \n",
        "  return target"
      ],
      "execution_count": 0,
      "outputs": []
    },
    {
      "cell_type": "code",
      "metadata": {
        "id": "ewTPCXuCKZO8",
        "colab_type": "code",
        "colab": {}
      },
      "source": [
        "y= target_feature(mydf)"
      ],
      "execution_count": 0,
      "outputs": []
    },
    {
      "cell_type": "code",
      "metadata": {
        "id": "mjCLp7knxBYn",
        "colab_type": "code",
        "outputId": "2f74498d-9af0-46aa-efe5-7d1a18089299",
        "colab": {
          "base_uri": "https://localhost:8080/",
          "height": 35
        }
      },
      "source": [
        "y.shape"
      ],
      "execution_count": 0,
      "outputs": [
        {
          "output_type": "execute_result",
          "data": {
            "text/plain": [
              "(67266,)"
            ]
          },
          "metadata": {
            "tags": []
          },
          "execution_count": 42
        }
      ]
    },
    {
      "cell_type": "code",
      "metadata": {
        "id": "Kv6ZhwhVKfr7",
        "colab_type": "code",
        "colab": {}
      },
      "source": [
        "from sklearn.preprocessing import label_binarize,LabelEncoder,OneHotEncoder "
      ],
      "execution_count": 0,
      "outputs": []
    },
    {
      "cell_type": "code",
      "metadata": {
        "id": "IeeQzg2ZPprN",
        "colab_type": "code",
        "colab": {}
      },
      "source": [
        "def oneVSall(target):\n",
        "  label_encoder = LabelEncoder()\n",
        "  integer_encoded = label_encoder.fit_transform(target)\n",
        "  onehot_encoder = OneHotEncoder(sparse=False,categories='auto')\n",
        "  integer_encoded = integer_encoded.reshape(len(integer_encoded), 1)\n",
        "  my_target = onehot_encoder.fit_transform(integer_encoded)\n",
        "  target_vari = pd.DataFrame(my_target, columns =['Dos','Normal', 'Probe', 'R2L','U2R'] )\n",
        "  return target_vari"
      ],
      "execution_count": 0,
      "outputs": []
    },
    {
      "cell_type": "code",
      "metadata": {
        "id": "BnKhoqArQOLe",
        "colab_type": "code",
        "outputId": "19c4cb42-6560-4779-8ae6-7d680401d83a",
        "colab": {
          "base_uri": "https://localhost:8080/",
          "height": 407
        }
      },
      "source": [
        "y =  oneVSall(y)\n",
        "y"
      ],
      "execution_count": 0,
      "outputs": [
        {
          "output_type": "execute_result",
          "data": {
            "text/html": [
              "<div>\n",
              "<style scoped>\n",
              "    .dataframe tbody tr th:only-of-type {\n",
              "        vertical-align: middle;\n",
              "    }\n",
              "\n",
              "    .dataframe tbody tr th {\n",
              "        vertical-align: top;\n",
              "    }\n",
              "\n",
              "    .dataframe thead th {\n",
              "        text-align: right;\n",
              "    }\n",
              "</style>\n",
              "<table border=\"1\" class=\"dataframe\">\n",
              "  <thead>\n",
              "    <tr style=\"text-align: right;\">\n",
              "      <th></th>\n",
              "      <th>Dos</th>\n",
              "      <th>Normal</th>\n",
              "      <th>Probe</th>\n",
              "      <th>R2L</th>\n",
              "      <th>U2R</th>\n",
              "    </tr>\n",
              "  </thead>\n",
              "  <tbody>\n",
              "    <tr>\n",
              "      <th>0</th>\n",
              "      <td>0.0</td>\n",
              "      <td>1.0</td>\n",
              "      <td>0.0</td>\n",
              "      <td>0.0</td>\n",
              "      <td>0.0</td>\n",
              "    </tr>\n",
              "    <tr>\n",
              "      <th>1</th>\n",
              "      <td>0.0</td>\n",
              "      <td>1.0</td>\n",
              "      <td>0.0</td>\n",
              "      <td>0.0</td>\n",
              "      <td>0.0</td>\n",
              "    </tr>\n",
              "    <tr>\n",
              "      <th>2</th>\n",
              "      <td>0.0</td>\n",
              "      <td>1.0</td>\n",
              "      <td>0.0</td>\n",
              "      <td>0.0</td>\n",
              "      <td>0.0</td>\n",
              "    </tr>\n",
              "    <tr>\n",
              "      <th>3</th>\n",
              "      <td>0.0</td>\n",
              "      <td>1.0</td>\n",
              "      <td>0.0</td>\n",
              "      <td>0.0</td>\n",
              "      <td>0.0</td>\n",
              "    </tr>\n",
              "    <tr>\n",
              "      <th>4</th>\n",
              "      <td>0.0</td>\n",
              "      <td>1.0</td>\n",
              "      <td>0.0</td>\n",
              "      <td>0.0</td>\n",
              "      <td>0.0</td>\n",
              "    </tr>\n",
              "    <tr>\n",
              "      <th>...</th>\n",
              "      <td>...</td>\n",
              "      <td>...</td>\n",
              "      <td>...</td>\n",
              "      <td>...</td>\n",
              "      <td>...</td>\n",
              "    </tr>\n",
              "    <tr>\n",
              "      <th>67261</th>\n",
              "      <td>0.0</td>\n",
              "      <td>1.0</td>\n",
              "      <td>0.0</td>\n",
              "      <td>0.0</td>\n",
              "      <td>0.0</td>\n",
              "    </tr>\n",
              "    <tr>\n",
              "      <th>67262</th>\n",
              "      <td>0.0</td>\n",
              "      <td>1.0</td>\n",
              "      <td>0.0</td>\n",
              "      <td>0.0</td>\n",
              "      <td>0.0</td>\n",
              "    </tr>\n",
              "    <tr>\n",
              "      <th>67263</th>\n",
              "      <td>0.0</td>\n",
              "      <td>1.0</td>\n",
              "      <td>0.0</td>\n",
              "      <td>0.0</td>\n",
              "      <td>0.0</td>\n",
              "    </tr>\n",
              "    <tr>\n",
              "      <th>67264</th>\n",
              "      <td>0.0</td>\n",
              "      <td>1.0</td>\n",
              "      <td>0.0</td>\n",
              "      <td>0.0</td>\n",
              "      <td>0.0</td>\n",
              "    </tr>\n",
              "    <tr>\n",
              "      <th>67265</th>\n",
              "      <td>0.0</td>\n",
              "      <td>1.0</td>\n",
              "      <td>0.0</td>\n",
              "      <td>0.0</td>\n",
              "      <td>0.0</td>\n",
              "    </tr>\n",
              "  </tbody>\n",
              "</table>\n",
              "<p>67266 rows × 5 columns</p>\n",
              "</div>"
            ],
            "text/plain": [
              "       Dos  Normal  Probe  R2L  U2R\n",
              "0      0.0     1.0    0.0  0.0  0.0\n",
              "1      0.0     1.0    0.0  0.0  0.0\n",
              "2      0.0     1.0    0.0  0.0  0.0\n",
              "3      0.0     1.0    0.0  0.0  0.0\n",
              "4      0.0     1.0    0.0  0.0  0.0\n",
              "...    ...     ...    ...  ...  ...\n",
              "67261  0.0     1.0    0.0  0.0  0.0\n",
              "67262  0.0     1.0    0.0  0.0  0.0\n",
              "67263  0.0     1.0    0.0  0.0  0.0\n",
              "67264  0.0     1.0    0.0  0.0  0.0\n",
              "67265  0.0     1.0    0.0  0.0  0.0\n",
              "\n",
              "[67266 rows x 5 columns]"
            ]
          },
          "metadata": {
            "tags": []
          },
          "execution_count": 45
        }
      ]
    },
    {
      "cell_type": "code",
      "metadata": {
        "id": "INoqx3b9_YM6",
        "colab_type": "code",
        "colab": {}
      },
      "source": [
        "X= mydf1"
      ],
      "execution_count": 0,
      "outputs": []
    },
    {
      "cell_type": "code",
      "metadata": {
        "id": "uiS-idS6F3F-",
        "colab_type": "code",
        "outputId": "28f7e40d-757e-4048-f4ee-7922c363d6a4",
        "colab": {
          "base_uri": "https://localhost:8080/",
          "height": 35
        }
      },
      "source": [
        "X.shape"
      ],
      "execution_count": 0,
      "outputs": [
        {
          "output_type": "execute_result",
          "data": {
            "text/plain": [
              "(67266, 13)"
            ]
          },
          "metadata": {
            "tags": []
          },
          "execution_count": 47
        }
      ]
    },
    {
      "cell_type": "code",
      "metadata": {
        "id": "tYIb6FFCFmRl",
        "colab_type": "code",
        "colab": {}
      },
      "source": [
        "columns_names = X.columns"
      ],
      "execution_count": 0,
      "outputs": []
    },
    {
      "cell_type": "markdown",
      "metadata": {
        "id": "mPa4HexHDMLm",
        "colab_type": "text"
      },
      "source": [
        "# ======================= Testing Dataset ==========================="
      ]
    },
    {
      "cell_type": "code",
      "metadata": {
        "id": "jt7dAtm-PmMC",
        "colab_type": "code",
        "colab": {}
      },
      "source": [
        "zip_ref = zipfile.ZipFile(\"/content/drive/My Drive/SoftComputingProject/corrected_data.zip\", 'r')\n",
        "zip_ref.extractall()\n",
        "zip_ref.close()"
      ],
      "execution_count": 0,
      "outputs": []
    },
    {
      "cell_type": "code",
      "metadata": {
        "id": "K0f9Y3zgE8SO",
        "colab_type": "code",
        "colab": {}
      },
      "source": [
        "corrected_df = pd.read_csv(\"/content/corrected_data.csv\",names =feature_names)"
      ],
      "execution_count": 0,
      "outputs": []
    },
    {
      "cell_type": "code",
      "metadata": {
        "id": "LSq6bxh9OndX",
        "colab_type": "code",
        "outputId": "633fc160-a6df-4027-b8d4-4bad46f5e15e",
        "colab": {
          "base_uri": "https://localhost:8080/",
          "height": 218
        }
      },
      "source": [
        "corrected_df.head()"
      ],
      "execution_count": 0,
      "outputs": [
        {
          "output_type": "execute_result",
          "data": {
            "text/html": [
              "<div>\n",
              "<style scoped>\n",
              "    .dataframe tbody tr th:only-of-type {\n",
              "        vertical-align: middle;\n",
              "    }\n",
              "\n",
              "    .dataframe tbody tr th {\n",
              "        vertical-align: top;\n",
              "    }\n",
              "\n",
              "    .dataframe thead th {\n",
              "        text-align: right;\n",
              "    }\n",
              "</style>\n",
              "<table border=\"1\" class=\"dataframe\">\n",
              "  <thead>\n",
              "    <tr style=\"text-align: right;\">\n",
              "      <th></th>\n",
              "      <th>duration</th>\n",
              "      <th>protocol_type</th>\n",
              "      <th>service</th>\n",
              "      <th>flag</th>\n",
              "      <th>src_bytes</th>\n",
              "      <th>dst_bytes</th>\n",
              "      <th>land</th>\n",
              "      <th>wrong_fragment</th>\n",
              "      <th>urgent</th>\n",
              "      <th>hot</th>\n",
              "      <th>num_failed_logins</th>\n",
              "      <th>logged_in</th>\n",
              "      <th>num_compromised</th>\n",
              "      <th>root_shell</th>\n",
              "      <th>su_attempted</th>\n",
              "      <th>num_root</th>\n",
              "      <th>num_file_creations</th>\n",
              "      <th>num_shells</th>\n",
              "      <th>num_access_files</th>\n",
              "      <th>num_outbound_cmds</th>\n",
              "      <th>is_host_login</th>\n",
              "      <th>is_guest_login</th>\n",
              "      <th>count</th>\n",
              "      <th>srv_count</th>\n",
              "      <th>serror_rate</th>\n",
              "      <th>srv_serror_rate</th>\n",
              "      <th>rerror_rate</th>\n",
              "      <th>srv_rerror_rate</th>\n",
              "      <th>same_srv_rate</th>\n",
              "      <th>diff_srv_rate</th>\n",
              "      <th>srv_diff_host_rate</th>\n",
              "      <th>dst_host_count</th>\n",
              "      <th>dst_host_srv_count</th>\n",
              "      <th>dst_host_same_srv_rate</th>\n",
              "      <th>dst_host_diff_srv_rate</th>\n",
              "      <th>dst_host_same_src_port_rate</th>\n",
              "      <th>dst_host_srv_diff_host_rate</th>\n",
              "      <th>dst_host_serror_rate</th>\n",
              "      <th>dst_host_srv_serror_rate</th>\n",
              "      <th>dst_host_rerror_rate</th>\n",
              "      <th>dst_host_srv_rerror_rate</th>\n",
              "      <th>attack_types</th>\n",
              "    </tr>\n",
              "  </thead>\n",
              "  <tbody>\n",
              "    <tr>\n",
              "      <th>0</th>\n",
              "      <td>0</td>\n",
              "      <td>udp</td>\n",
              "      <td>private</td>\n",
              "      <td>SF</td>\n",
              "      <td>105</td>\n",
              "      <td>146</td>\n",
              "      <td>0</td>\n",
              "      <td>0</td>\n",
              "      <td>0</td>\n",
              "      <td>0</td>\n",
              "      <td>0</td>\n",
              "      <td>0</td>\n",
              "      <td>0</td>\n",
              "      <td>0</td>\n",
              "      <td>0</td>\n",
              "      <td>0</td>\n",
              "      <td>0</td>\n",
              "      <td>0</td>\n",
              "      <td>0</td>\n",
              "      <td>0</td>\n",
              "      <td>0</td>\n",
              "      <td>0</td>\n",
              "      <td>1</td>\n",
              "      <td>1</td>\n",
              "      <td>0.0</td>\n",
              "      <td>0.0</td>\n",
              "      <td>0.0</td>\n",
              "      <td>0.0</td>\n",
              "      <td>1.0</td>\n",
              "      <td>0.0</td>\n",
              "      <td>0.0</td>\n",
              "      <td>255</td>\n",
              "      <td>254</td>\n",
              "      <td>1.0</td>\n",
              "      <td>0.01</td>\n",
              "      <td>0.00</td>\n",
              "      <td>0.0</td>\n",
              "      <td>0.0</td>\n",
              "      <td>0.0</td>\n",
              "      <td>0.0</td>\n",
              "      <td>0.0</td>\n",
              "      <td>normal.</td>\n",
              "    </tr>\n",
              "    <tr>\n",
              "      <th>1</th>\n",
              "      <td>0</td>\n",
              "      <td>udp</td>\n",
              "      <td>private</td>\n",
              "      <td>SF</td>\n",
              "      <td>105</td>\n",
              "      <td>146</td>\n",
              "      <td>0</td>\n",
              "      <td>0</td>\n",
              "      <td>0</td>\n",
              "      <td>0</td>\n",
              "      <td>0</td>\n",
              "      <td>0</td>\n",
              "      <td>0</td>\n",
              "      <td>0</td>\n",
              "      <td>0</td>\n",
              "      <td>0</td>\n",
              "      <td>0</td>\n",
              "      <td>0</td>\n",
              "      <td>0</td>\n",
              "      <td>0</td>\n",
              "      <td>0</td>\n",
              "      <td>0</td>\n",
              "      <td>1</td>\n",
              "      <td>1</td>\n",
              "      <td>0.0</td>\n",
              "      <td>0.0</td>\n",
              "      <td>0.0</td>\n",
              "      <td>0.0</td>\n",
              "      <td>1.0</td>\n",
              "      <td>0.0</td>\n",
              "      <td>0.0</td>\n",
              "      <td>255</td>\n",
              "      <td>254</td>\n",
              "      <td>1.0</td>\n",
              "      <td>0.01</td>\n",
              "      <td>0.00</td>\n",
              "      <td>0.0</td>\n",
              "      <td>0.0</td>\n",
              "      <td>0.0</td>\n",
              "      <td>0.0</td>\n",
              "      <td>0.0</td>\n",
              "      <td>normal.</td>\n",
              "    </tr>\n",
              "    <tr>\n",
              "      <th>2</th>\n",
              "      <td>0</td>\n",
              "      <td>udp</td>\n",
              "      <td>private</td>\n",
              "      <td>SF</td>\n",
              "      <td>105</td>\n",
              "      <td>146</td>\n",
              "      <td>0</td>\n",
              "      <td>0</td>\n",
              "      <td>0</td>\n",
              "      <td>0</td>\n",
              "      <td>0</td>\n",
              "      <td>0</td>\n",
              "      <td>0</td>\n",
              "      <td>0</td>\n",
              "      <td>0</td>\n",
              "      <td>0</td>\n",
              "      <td>0</td>\n",
              "      <td>0</td>\n",
              "      <td>0</td>\n",
              "      <td>0</td>\n",
              "      <td>0</td>\n",
              "      <td>0</td>\n",
              "      <td>1</td>\n",
              "      <td>1</td>\n",
              "      <td>0.0</td>\n",
              "      <td>0.0</td>\n",
              "      <td>0.0</td>\n",
              "      <td>0.0</td>\n",
              "      <td>1.0</td>\n",
              "      <td>0.0</td>\n",
              "      <td>0.0</td>\n",
              "      <td>255</td>\n",
              "      <td>254</td>\n",
              "      <td>1.0</td>\n",
              "      <td>0.01</td>\n",
              "      <td>0.00</td>\n",
              "      <td>0.0</td>\n",
              "      <td>0.0</td>\n",
              "      <td>0.0</td>\n",
              "      <td>0.0</td>\n",
              "      <td>0.0</td>\n",
              "      <td>normal.</td>\n",
              "    </tr>\n",
              "    <tr>\n",
              "      <th>3</th>\n",
              "      <td>0</td>\n",
              "      <td>udp</td>\n",
              "      <td>private</td>\n",
              "      <td>SF</td>\n",
              "      <td>105</td>\n",
              "      <td>146</td>\n",
              "      <td>0</td>\n",
              "      <td>0</td>\n",
              "      <td>0</td>\n",
              "      <td>0</td>\n",
              "      <td>0</td>\n",
              "      <td>0</td>\n",
              "      <td>0</td>\n",
              "      <td>0</td>\n",
              "      <td>0</td>\n",
              "      <td>0</td>\n",
              "      <td>0</td>\n",
              "      <td>0</td>\n",
              "      <td>0</td>\n",
              "      <td>0</td>\n",
              "      <td>0</td>\n",
              "      <td>0</td>\n",
              "      <td>2</td>\n",
              "      <td>2</td>\n",
              "      <td>0.0</td>\n",
              "      <td>0.0</td>\n",
              "      <td>0.0</td>\n",
              "      <td>0.0</td>\n",
              "      <td>1.0</td>\n",
              "      <td>0.0</td>\n",
              "      <td>0.0</td>\n",
              "      <td>255</td>\n",
              "      <td>254</td>\n",
              "      <td>1.0</td>\n",
              "      <td>0.01</td>\n",
              "      <td>0.00</td>\n",
              "      <td>0.0</td>\n",
              "      <td>0.0</td>\n",
              "      <td>0.0</td>\n",
              "      <td>0.0</td>\n",
              "      <td>0.0</td>\n",
              "      <td>snmpgetattack.</td>\n",
              "    </tr>\n",
              "    <tr>\n",
              "      <th>4</th>\n",
              "      <td>0</td>\n",
              "      <td>udp</td>\n",
              "      <td>private</td>\n",
              "      <td>SF</td>\n",
              "      <td>105</td>\n",
              "      <td>146</td>\n",
              "      <td>0</td>\n",
              "      <td>0</td>\n",
              "      <td>0</td>\n",
              "      <td>0</td>\n",
              "      <td>0</td>\n",
              "      <td>0</td>\n",
              "      <td>0</td>\n",
              "      <td>0</td>\n",
              "      <td>0</td>\n",
              "      <td>0</td>\n",
              "      <td>0</td>\n",
              "      <td>0</td>\n",
              "      <td>0</td>\n",
              "      <td>0</td>\n",
              "      <td>0</td>\n",
              "      <td>0</td>\n",
              "      <td>2</td>\n",
              "      <td>2</td>\n",
              "      <td>0.0</td>\n",
              "      <td>0.0</td>\n",
              "      <td>0.0</td>\n",
              "      <td>0.0</td>\n",
              "      <td>1.0</td>\n",
              "      <td>0.0</td>\n",
              "      <td>0.0</td>\n",
              "      <td>255</td>\n",
              "      <td>254</td>\n",
              "      <td>1.0</td>\n",
              "      <td>0.01</td>\n",
              "      <td>0.01</td>\n",
              "      <td>0.0</td>\n",
              "      <td>0.0</td>\n",
              "      <td>0.0</td>\n",
              "      <td>0.0</td>\n",
              "      <td>0.0</td>\n",
              "      <td>snmpgetattack.</td>\n",
              "    </tr>\n",
              "  </tbody>\n",
              "</table>\n",
              "</div>"
            ],
            "text/plain": [
              "   duration protocol_type  ... dst_host_srv_rerror_rate    attack_types\n",
              "0         0           udp  ...                      0.0         normal.\n",
              "1         0           udp  ...                      0.0         normal.\n",
              "2         0           udp  ...                      0.0         normal.\n",
              "3         0           udp  ...                      0.0  snmpgetattack.\n",
              "4         0           udp  ...                      0.0  snmpgetattack.\n",
              "\n",
              "[5 rows x 42 columns]"
            ]
          },
          "metadata": {
            "tags": []
          },
          "execution_count": 51
        }
      ]
    },
    {
      "cell_type": "code",
      "metadata": {
        "id": "Q-RISsNmUVxA",
        "colab_type": "code",
        "colab": {}
      },
      "source": [
        "R2L=['warezmaster.','warezclient.','spy.','phf.','multihop.','imap.','guess_passwd.','ftp_write.','named.','sendmail.','snmpgetattack.',\n",
        "    'worm.','xlock.','xsnoop.','httptunnel.']\n",
        "\n",
        "U2R=['rootkit.','perl.','loadmodule.','buffer_overflow.','ps.','sqlattack.','xterm.']\n",
        "DoS=['smurf.','teardrop.','back.','land.','neptune.','pod.','apache2.','mailbomd.','processtable.','udpstrom']\n",
        "Probe=['ipsweep.','nmap.','portsweep.','satan.','mscan','saint']"
      ],
      "execution_count": 0,
      "outputs": []
    },
    {
      "cell_type": "markdown",
      "metadata": {
        "id": "Ex2nn0HagQWF",
        "colab_type": "text"
      },
      "source": [
        "# ====================== Preprocessing step ========================="
      ]
    },
    {
      "cell_type": "code",
      "metadata": {
        "id": "jwOlDvcTYF3W",
        "colab_type": "code",
        "colab": {}
      },
      "source": [
        "corrected_df['label']=classify(corrected_df,'attack_types')"
      ],
      "execution_count": 0,
      "outputs": []
    },
    {
      "cell_type": "code",
      "metadata": {
        "id": "Z7YsK4h7UZA3",
        "colab_type": "code",
        "outputId": "e682125c-d6b8-485a-d146-36779d943364",
        "colab": {
          "base_uri": "https://localhost:8080/",
          "height": 218
        }
      },
      "source": [
        "corrected_df.head()"
      ],
      "execution_count": 0,
      "outputs": [
        {
          "output_type": "execute_result",
          "data": {
            "text/html": [
              "<div>\n",
              "<style scoped>\n",
              "    .dataframe tbody tr th:only-of-type {\n",
              "        vertical-align: middle;\n",
              "    }\n",
              "\n",
              "    .dataframe tbody tr th {\n",
              "        vertical-align: top;\n",
              "    }\n",
              "\n",
              "    .dataframe thead th {\n",
              "        text-align: right;\n",
              "    }\n",
              "</style>\n",
              "<table border=\"1\" class=\"dataframe\">\n",
              "  <thead>\n",
              "    <tr style=\"text-align: right;\">\n",
              "      <th></th>\n",
              "      <th>duration</th>\n",
              "      <th>protocol_type</th>\n",
              "      <th>service</th>\n",
              "      <th>flag</th>\n",
              "      <th>src_bytes</th>\n",
              "      <th>dst_bytes</th>\n",
              "      <th>land</th>\n",
              "      <th>wrong_fragment</th>\n",
              "      <th>urgent</th>\n",
              "      <th>hot</th>\n",
              "      <th>num_failed_logins</th>\n",
              "      <th>logged_in</th>\n",
              "      <th>num_compromised</th>\n",
              "      <th>root_shell</th>\n",
              "      <th>su_attempted</th>\n",
              "      <th>num_root</th>\n",
              "      <th>num_file_creations</th>\n",
              "      <th>num_shells</th>\n",
              "      <th>num_access_files</th>\n",
              "      <th>num_outbound_cmds</th>\n",
              "      <th>is_host_login</th>\n",
              "      <th>is_guest_login</th>\n",
              "      <th>count</th>\n",
              "      <th>srv_count</th>\n",
              "      <th>serror_rate</th>\n",
              "      <th>srv_serror_rate</th>\n",
              "      <th>rerror_rate</th>\n",
              "      <th>srv_rerror_rate</th>\n",
              "      <th>same_srv_rate</th>\n",
              "      <th>diff_srv_rate</th>\n",
              "      <th>srv_diff_host_rate</th>\n",
              "      <th>dst_host_count</th>\n",
              "      <th>dst_host_srv_count</th>\n",
              "      <th>dst_host_same_srv_rate</th>\n",
              "      <th>dst_host_diff_srv_rate</th>\n",
              "      <th>dst_host_same_src_port_rate</th>\n",
              "      <th>dst_host_srv_diff_host_rate</th>\n",
              "      <th>dst_host_serror_rate</th>\n",
              "      <th>dst_host_srv_serror_rate</th>\n",
              "      <th>dst_host_rerror_rate</th>\n",
              "      <th>dst_host_srv_rerror_rate</th>\n",
              "      <th>attack_types</th>\n",
              "      <th>label</th>\n",
              "    </tr>\n",
              "  </thead>\n",
              "  <tbody>\n",
              "    <tr>\n",
              "      <th>0</th>\n",
              "      <td>0</td>\n",
              "      <td>udp</td>\n",
              "      <td>private</td>\n",
              "      <td>SF</td>\n",
              "      <td>105</td>\n",
              "      <td>146</td>\n",
              "      <td>0</td>\n",
              "      <td>0</td>\n",
              "      <td>0</td>\n",
              "      <td>0</td>\n",
              "      <td>0</td>\n",
              "      <td>0</td>\n",
              "      <td>0</td>\n",
              "      <td>0</td>\n",
              "      <td>0</td>\n",
              "      <td>0</td>\n",
              "      <td>0</td>\n",
              "      <td>0</td>\n",
              "      <td>0</td>\n",
              "      <td>0</td>\n",
              "      <td>0</td>\n",
              "      <td>0</td>\n",
              "      <td>1</td>\n",
              "      <td>1</td>\n",
              "      <td>0.0</td>\n",
              "      <td>0.0</td>\n",
              "      <td>0.0</td>\n",
              "      <td>0.0</td>\n",
              "      <td>1.0</td>\n",
              "      <td>0.0</td>\n",
              "      <td>0.0</td>\n",
              "      <td>255</td>\n",
              "      <td>254</td>\n",
              "      <td>1.0</td>\n",
              "      <td>0.01</td>\n",
              "      <td>0.00</td>\n",
              "      <td>0.0</td>\n",
              "      <td>0.0</td>\n",
              "      <td>0.0</td>\n",
              "      <td>0.0</td>\n",
              "      <td>0.0</td>\n",
              "      <td>normal.</td>\n",
              "      <td>Normal</td>\n",
              "    </tr>\n",
              "    <tr>\n",
              "      <th>1</th>\n",
              "      <td>0</td>\n",
              "      <td>udp</td>\n",
              "      <td>private</td>\n",
              "      <td>SF</td>\n",
              "      <td>105</td>\n",
              "      <td>146</td>\n",
              "      <td>0</td>\n",
              "      <td>0</td>\n",
              "      <td>0</td>\n",
              "      <td>0</td>\n",
              "      <td>0</td>\n",
              "      <td>0</td>\n",
              "      <td>0</td>\n",
              "      <td>0</td>\n",
              "      <td>0</td>\n",
              "      <td>0</td>\n",
              "      <td>0</td>\n",
              "      <td>0</td>\n",
              "      <td>0</td>\n",
              "      <td>0</td>\n",
              "      <td>0</td>\n",
              "      <td>0</td>\n",
              "      <td>1</td>\n",
              "      <td>1</td>\n",
              "      <td>0.0</td>\n",
              "      <td>0.0</td>\n",
              "      <td>0.0</td>\n",
              "      <td>0.0</td>\n",
              "      <td>1.0</td>\n",
              "      <td>0.0</td>\n",
              "      <td>0.0</td>\n",
              "      <td>255</td>\n",
              "      <td>254</td>\n",
              "      <td>1.0</td>\n",
              "      <td>0.01</td>\n",
              "      <td>0.00</td>\n",
              "      <td>0.0</td>\n",
              "      <td>0.0</td>\n",
              "      <td>0.0</td>\n",
              "      <td>0.0</td>\n",
              "      <td>0.0</td>\n",
              "      <td>normal.</td>\n",
              "      <td>Normal</td>\n",
              "    </tr>\n",
              "    <tr>\n",
              "      <th>2</th>\n",
              "      <td>0</td>\n",
              "      <td>udp</td>\n",
              "      <td>private</td>\n",
              "      <td>SF</td>\n",
              "      <td>105</td>\n",
              "      <td>146</td>\n",
              "      <td>0</td>\n",
              "      <td>0</td>\n",
              "      <td>0</td>\n",
              "      <td>0</td>\n",
              "      <td>0</td>\n",
              "      <td>0</td>\n",
              "      <td>0</td>\n",
              "      <td>0</td>\n",
              "      <td>0</td>\n",
              "      <td>0</td>\n",
              "      <td>0</td>\n",
              "      <td>0</td>\n",
              "      <td>0</td>\n",
              "      <td>0</td>\n",
              "      <td>0</td>\n",
              "      <td>0</td>\n",
              "      <td>1</td>\n",
              "      <td>1</td>\n",
              "      <td>0.0</td>\n",
              "      <td>0.0</td>\n",
              "      <td>0.0</td>\n",
              "      <td>0.0</td>\n",
              "      <td>1.0</td>\n",
              "      <td>0.0</td>\n",
              "      <td>0.0</td>\n",
              "      <td>255</td>\n",
              "      <td>254</td>\n",
              "      <td>1.0</td>\n",
              "      <td>0.01</td>\n",
              "      <td>0.00</td>\n",
              "      <td>0.0</td>\n",
              "      <td>0.0</td>\n",
              "      <td>0.0</td>\n",
              "      <td>0.0</td>\n",
              "      <td>0.0</td>\n",
              "      <td>normal.</td>\n",
              "      <td>Normal</td>\n",
              "    </tr>\n",
              "    <tr>\n",
              "      <th>3</th>\n",
              "      <td>0</td>\n",
              "      <td>udp</td>\n",
              "      <td>private</td>\n",
              "      <td>SF</td>\n",
              "      <td>105</td>\n",
              "      <td>146</td>\n",
              "      <td>0</td>\n",
              "      <td>0</td>\n",
              "      <td>0</td>\n",
              "      <td>0</td>\n",
              "      <td>0</td>\n",
              "      <td>0</td>\n",
              "      <td>0</td>\n",
              "      <td>0</td>\n",
              "      <td>0</td>\n",
              "      <td>0</td>\n",
              "      <td>0</td>\n",
              "      <td>0</td>\n",
              "      <td>0</td>\n",
              "      <td>0</td>\n",
              "      <td>0</td>\n",
              "      <td>0</td>\n",
              "      <td>2</td>\n",
              "      <td>2</td>\n",
              "      <td>0.0</td>\n",
              "      <td>0.0</td>\n",
              "      <td>0.0</td>\n",
              "      <td>0.0</td>\n",
              "      <td>1.0</td>\n",
              "      <td>0.0</td>\n",
              "      <td>0.0</td>\n",
              "      <td>255</td>\n",
              "      <td>254</td>\n",
              "      <td>1.0</td>\n",
              "      <td>0.01</td>\n",
              "      <td>0.00</td>\n",
              "      <td>0.0</td>\n",
              "      <td>0.0</td>\n",
              "      <td>0.0</td>\n",
              "      <td>0.0</td>\n",
              "      <td>0.0</td>\n",
              "      <td>snmpgetattack.</td>\n",
              "      <td>R2L</td>\n",
              "    </tr>\n",
              "    <tr>\n",
              "      <th>4</th>\n",
              "      <td>0</td>\n",
              "      <td>udp</td>\n",
              "      <td>private</td>\n",
              "      <td>SF</td>\n",
              "      <td>105</td>\n",
              "      <td>146</td>\n",
              "      <td>0</td>\n",
              "      <td>0</td>\n",
              "      <td>0</td>\n",
              "      <td>0</td>\n",
              "      <td>0</td>\n",
              "      <td>0</td>\n",
              "      <td>0</td>\n",
              "      <td>0</td>\n",
              "      <td>0</td>\n",
              "      <td>0</td>\n",
              "      <td>0</td>\n",
              "      <td>0</td>\n",
              "      <td>0</td>\n",
              "      <td>0</td>\n",
              "      <td>0</td>\n",
              "      <td>0</td>\n",
              "      <td>2</td>\n",
              "      <td>2</td>\n",
              "      <td>0.0</td>\n",
              "      <td>0.0</td>\n",
              "      <td>0.0</td>\n",
              "      <td>0.0</td>\n",
              "      <td>1.0</td>\n",
              "      <td>0.0</td>\n",
              "      <td>0.0</td>\n",
              "      <td>255</td>\n",
              "      <td>254</td>\n",
              "      <td>1.0</td>\n",
              "      <td>0.01</td>\n",
              "      <td>0.01</td>\n",
              "      <td>0.0</td>\n",
              "      <td>0.0</td>\n",
              "      <td>0.0</td>\n",
              "      <td>0.0</td>\n",
              "      <td>0.0</td>\n",
              "      <td>snmpgetattack.</td>\n",
              "      <td>R2L</td>\n",
              "    </tr>\n",
              "  </tbody>\n",
              "</table>\n",
              "</div>"
            ],
            "text/plain": [
              "   duration protocol_type  ...    attack_types   label\n",
              "0         0           udp  ...         normal.  Normal\n",
              "1         0           udp  ...         normal.  Normal\n",
              "2         0           udp  ...         normal.  Normal\n",
              "3         0           udp  ...  snmpgetattack.     R2L\n",
              "4         0           udp  ...  snmpgetattack.     R2L\n",
              "\n",
              "[5 rows x 43 columns]"
            ]
          },
          "metadata": {
            "tags": []
          },
          "execution_count": 54
        }
      ]
    },
    {
      "cell_type": "markdown",
      "metadata": {
        "id": "DFTBJpFHi8X1",
        "colab_type": "text"
      },
      "source": [
        "## =================== Remove redundant features from dataset =================="
      ]
    },
    {
      "cell_type": "code",
      "metadata": {
        "id": "qS8km9PlhboU",
        "colab_type": "code",
        "colab": {}
      },
      "source": [
        "corrected_df['num_outbound_cmds'].value_counts()\n",
        "corrected_df.drop('num_outbound_cmds', axis=1, inplace=True)\n",
        "corrected_df['is_host_login'].value_counts()\n",
        "corrected_df.drop('is_host_login', axis=1, inplace=True)"
      ],
      "execution_count": 0,
      "outputs": []
    },
    {
      "cell_type": "markdown",
      "metadata": {
        "id": "8hmDZP_FjTUS",
        "colab_type": "text"
      },
      "source": [
        "## ================== Transform of categorical features to numerical ======================="
      ]
    },
    {
      "cell_type": "code",
      "metadata": {
        "id": "XURriI0jho-s",
        "colab_type": "code",
        "colab": {}
      },
      "source": [
        "corrected_df['protocol_type'] = corrected_df['protocol_type'].astype('category')\n",
        "corrected_df['service'] = corrected_df['service'].astype('category')\n",
        "corrected_df['flag'] = corrected_df['flag'].astype('category')\n",
        "cat_columns = corrected_df.select_dtypes(['category']).columns\n",
        "corrected_df[cat_columns] = corrected_df[cat_columns].apply(lambda x: x.cat.codes)"
      ],
      "execution_count": 0,
      "outputs": []
    },
    {
      "cell_type": "code",
      "metadata": {
        "id": "n9Qc9Ym_iUUf",
        "colab_type": "code",
        "outputId": "e6ddf71e-f9b3-4f8d-e9b4-1760b1be53fb",
        "colab": {
          "base_uri": "https://localhost:8080/",
          "height": 218
        }
      },
      "source": [
        "corrected_df.head()"
      ],
      "execution_count": 0,
      "outputs": [
        {
          "output_type": "execute_result",
          "data": {
            "text/html": [
              "<div>\n",
              "<style scoped>\n",
              "    .dataframe tbody tr th:only-of-type {\n",
              "        vertical-align: middle;\n",
              "    }\n",
              "\n",
              "    .dataframe tbody tr th {\n",
              "        vertical-align: top;\n",
              "    }\n",
              "\n",
              "    .dataframe thead th {\n",
              "        text-align: right;\n",
              "    }\n",
              "</style>\n",
              "<table border=\"1\" class=\"dataframe\">\n",
              "  <thead>\n",
              "    <tr style=\"text-align: right;\">\n",
              "      <th></th>\n",
              "      <th>duration</th>\n",
              "      <th>protocol_type</th>\n",
              "      <th>service</th>\n",
              "      <th>flag</th>\n",
              "      <th>src_bytes</th>\n",
              "      <th>dst_bytes</th>\n",
              "      <th>land</th>\n",
              "      <th>wrong_fragment</th>\n",
              "      <th>urgent</th>\n",
              "      <th>hot</th>\n",
              "      <th>num_failed_logins</th>\n",
              "      <th>logged_in</th>\n",
              "      <th>num_compromised</th>\n",
              "      <th>root_shell</th>\n",
              "      <th>su_attempted</th>\n",
              "      <th>num_root</th>\n",
              "      <th>num_file_creations</th>\n",
              "      <th>num_shells</th>\n",
              "      <th>num_access_files</th>\n",
              "      <th>is_guest_login</th>\n",
              "      <th>count</th>\n",
              "      <th>srv_count</th>\n",
              "      <th>serror_rate</th>\n",
              "      <th>srv_serror_rate</th>\n",
              "      <th>rerror_rate</th>\n",
              "      <th>srv_rerror_rate</th>\n",
              "      <th>same_srv_rate</th>\n",
              "      <th>diff_srv_rate</th>\n",
              "      <th>srv_diff_host_rate</th>\n",
              "      <th>dst_host_count</th>\n",
              "      <th>dst_host_srv_count</th>\n",
              "      <th>dst_host_same_srv_rate</th>\n",
              "      <th>dst_host_diff_srv_rate</th>\n",
              "      <th>dst_host_same_src_port_rate</th>\n",
              "      <th>dst_host_srv_diff_host_rate</th>\n",
              "      <th>dst_host_serror_rate</th>\n",
              "      <th>dst_host_srv_serror_rate</th>\n",
              "      <th>dst_host_rerror_rate</th>\n",
              "      <th>dst_host_srv_rerror_rate</th>\n",
              "      <th>attack_types</th>\n",
              "      <th>label</th>\n",
              "    </tr>\n",
              "  </thead>\n",
              "  <tbody>\n",
              "    <tr>\n",
              "      <th>0</th>\n",
              "      <td>0</td>\n",
              "      <td>2</td>\n",
              "      <td>46</td>\n",
              "      <td>9</td>\n",
              "      <td>105</td>\n",
              "      <td>146</td>\n",
              "      <td>0</td>\n",
              "      <td>0</td>\n",
              "      <td>0</td>\n",
              "      <td>0</td>\n",
              "      <td>0</td>\n",
              "      <td>0</td>\n",
              "      <td>0</td>\n",
              "      <td>0</td>\n",
              "      <td>0</td>\n",
              "      <td>0</td>\n",
              "      <td>0</td>\n",
              "      <td>0</td>\n",
              "      <td>0</td>\n",
              "      <td>0</td>\n",
              "      <td>1</td>\n",
              "      <td>1</td>\n",
              "      <td>0.0</td>\n",
              "      <td>0.0</td>\n",
              "      <td>0.0</td>\n",
              "      <td>0.0</td>\n",
              "      <td>1.0</td>\n",
              "      <td>0.0</td>\n",
              "      <td>0.0</td>\n",
              "      <td>255</td>\n",
              "      <td>254</td>\n",
              "      <td>1.0</td>\n",
              "      <td>0.01</td>\n",
              "      <td>0.00</td>\n",
              "      <td>0.0</td>\n",
              "      <td>0.0</td>\n",
              "      <td>0.0</td>\n",
              "      <td>0.0</td>\n",
              "      <td>0.0</td>\n",
              "      <td>normal.</td>\n",
              "      <td>Normal</td>\n",
              "    </tr>\n",
              "    <tr>\n",
              "      <th>1</th>\n",
              "      <td>0</td>\n",
              "      <td>2</td>\n",
              "      <td>46</td>\n",
              "      <td>9</td>\n",
              "      <td>105</td>\n",
              "      <td>146</td>\n",
              "      <td>0</td>\n",
              "      <td>0</td>\n",
              "      <td>0</td>\n",
              "      <td>0</td>\n",
              "      <td>0</td>\n",
              "      <td>0</td>\n",
              "      <td>0</td>\n",
              "      <td>0</td>\n",
              "      <td>0</td>\n",
              "      <td>0</td>\n",
              "      <td>0</td>\n",
              "      <td>0</td>\n",
              "      <td>0</td>\n",
              "      <td>0</td>\n",
              "      <td>1</td>\n",
              "      <td>1</td>\n",
              "      <td>0.0</td>\n",
              "      <td>0.0</td>\n",
              "      <td>0.0</td>\n",
              "      <td>0.0</td>\n",
              "      <td>1.0</td>\n",
              "      <td>0.0</td>\n",
              "      <td>0.0</td>\n",
              "      <td>255</td>\n",
              "      <td>254</td>\n",
              "      <td>1.0</td>\n",
              "      <td>0.01</td>\n",
              "      <td>0.00</td>\n",
              "      <td>0.0</td>\n",
              "      <td>0.0</td>\n",
              "      <td>0.0</td>\n",
              "      <td>0.0</td>\n",
              "      <td>0.0</td>\n",
              "      <td>normal.</td>\n",
              "      <td>Normal</td>\n",
              "    </tr>\n",
              "    <tr>\n",
              "      <th>2</th>\n",
              "      <td>0</td>\n",
              "      <td>2</td>\n",
              "      <td>46</td>\n",
              "      <td>9</td>\n",
              "      <td>105</td>\n",
              "      <td>146</td>\n",
              "      <td>0</td>\n",
              "      <td>0</td>\n",
              "      <td>0</td>\n",
              "      <td>0</td>\n",
              "      <td>0</td>\n",
              "      <td>0</td>\n",
              "      <td>0</td>\n",
              "      <td>0</td>\n",
              "      <td>0</td>\n",
              "      <td>0</td>\n",
              "      <td>0</td>\n",
              "      <td>0</td>\n",
              "      <td>0</td>\n",
              "      <td>0</td>\n",
              "      <td>1</td>\n",
              "      <td>1</td>\n",
              "      <td>0.0</td>\n",
              "      <td>0.0</td>\n",
              "      <td>0.0</td>\n",
              "      <td>0.0</td>\n",
              "      <td>1.0</td>\n",
              "      <td>0.0</td>\n",
              "      <td>0.0</td>\n",
              "      <td>255</td>\n",
              "      <td>254</td>\n",
              "      <td>1.0</td>\n",
              "      <td>0.01</td>\n",
              "      <td>0.00</td>\n",
              "      <td>0.0</td>\n",
              "      <td>0.0</td>\n",
              "      <td>0.0</td>\n",
              "      <td>0.0</td>\n",
              "      <td>0.0</td>\n",
              "      <td>normal.</td>\n",
              "      <td>Normal</td>\n",
              "    </tr>\n",
              "    <tr>\n",
              "      <th>3</th>\n",
              "      <td>0</td>\n",
              "      <td>2</td>\n",
              "      <td>46</td>\n",
              "      <td>9</td>\n",
              "      <td>105</td>\n",
              "      <td>146</td>\n",
              "      <td>0</td>\n",
              "      <td>0</td>\n",
              "      <td>0</td>\n",
              "      <td>0</td>\n",
              "      <td>0</td>\n",
              "      <td>0</td>\n",
              "      <td>0</td>\n",
              "      <td>0</td>\n",
              "      <td>0</td>\n",
              "      <td>0</td>\n",
              "      <td>0</td>\n",
              "      <td>0</td>\n",
              "      <td>0</td>\n",
              "      <td>0</td>\n",
              "      <td>2</td>\n",
              "      <td>2</td>\n",
              "      <td>0.0</td>\n",
              "      <td>0.0</td>\n",
              "      <td>0.0</td>\n",
              "      <td>0.0</td>\n",
              "      <td>1.0</td>\n",
              "      <td>0.0</td>\n",
              "      <td>0.0</td>\n",
              "      <td>255</td>\n",
              "      <td>254</td>\n",
              "      <td>1.0</td>\n",
              "      <td>0.01</td>\n",
              "      <td>0.00</td>\n",
              "      <td>0.0</td>\n",
              "      <td>0.0</td>\n",
              "      <td>0.0</td>\n",
              "      <td>0.0</td>\n",
              "      <td>0.0</td>\n",
              "      <td>snmpgetattack.</td>\n",
              "      <td>R2L</td>\n",
              "    </tr>\n",
              "    <tr>\n",
              "      <th>4</th>\n",
              "      <td>0</td>\n",
              "      <td>2</td>\n",
              "      <td>46</td>\n",
              "      <td>9</td>\n",
              "      <td>105</td>\n",
              "      <td>146</td>\n",
              "      <td>0</td>\n",
              "      <td>0</td>\n",
              "      <td>0</td>\n",
              "      <td>0</td>\n",
              "      <td>0</td>\n",
              "      <td>0</td>\n",
              "      <td>0</td>\n",
              "      <td>0</td>\n",
              "      <td>0</td>\n",
              "      <td>0</td>\n",
              "      <td>0</td>\n",
              "      <td>0</td>\n",
              "      <td>0</td>\n",
              "      <td>0</td>\n",
              "      <td>2</td>\n",
              "      <td>2</td>\n",
              "      <td>0.0</td>\n",
              "      <td>0.0</td>\n",
              "      <td>0.0</td>\n",
              "      <td>0.0</td>\n",
              "      <td>1.0</td>\n",
              "      <td>0.0</td>\n",
              "      <td>0.0</td>\n",
              "      <td>255</td>\n",
              "      <td>254</td>\n",
              "      <td>1.0</td>\n",
              "      <td>0.01</td>\n",
              "      <td>0.01</td>\n",
              "      <td>0.0</td>\n",
              "      <td>0.0</td>\n",
              "      <td>0.0</td>\n",
              "      <td>0.0</td>\n",
              "      <td>0.0</td>\n",
              "      <td>snmpgetattack.</td>\n",
              "      <td>R2L</td>\n",
              "    </tr>\n",
              "  </tbody>\n",
              "</table>\n",
              "</div>"
            ],
            "text/plain": [
              "   duration  protocol_type  ...    attack_types   label\n",
              "0         0              2  ...         normal.  Normal\n",
              "1         0              2  ...         normal.  Normal\n",
              "2         0              2  ...         normal.  Normal\n",
              "3         0              2  ...  snmpgetattack.     R2L\n",
              "4         0              2  ...  snmpgetattack.     R2L\n",
              "\n",
              "[5 rows x 41 columns]"
            ]
          },
          "metadata": {
            "tags": []
          },
          "execution_count": 57
        }
      ]
    },
    {
      "cell_type": "markdown",
      "metadata": {
        "id": "RFSpBB6gke3I",
        "colab_type": "text"
      },
      "source": [
        "## ===================Remove duplicates from dataframe ====================="
      ]
    },
    {
      "cell_type": "code",
      "metadata": {
        "id": "4aHOoVO1jqyD",
        "colab_type": "code",
        "outputId": "c693685d-cf70-4db1-e607-49ed2e565044",
        "colab": {
          "base_uri": "https://localhost:8080/",
          "height": 54
        }
      },
      "source": [
        "corrected_df = remove_duplicate(corrected_df)"
      ],
      "execution_count": 0,
      "outputs": [
        {
          "output_type": "stream",
          "text": [
            "Before remove duplicate shape (311029, 41)\n",
            "After remove duplicate shape (77291, 41)\n"
          ],
          "name": "stdout"
        }
      ]
    },
    {
      "cell_type": "markdown",
      "metadata": {
        "id": "qMR-9SMElluZ",
        "colab_type": "text"
      },
      "source": [
        "## ========================== Check null values in datasets =========================\n",
        "\n"
      ]
    },
    {
      "cell_type": "code",
      "metadata": {
        "id": "k6jsK-T2kYAf",
        "colab_type": "code",
        "outputId": "9db26ca9-809d-42b6-cc93-2d9026e1664b",
        "colab": {
          "base_uri": "https://localhost:8080/",
          "height": 781
        }
      },
      "source": [
        "corrected_df.isna().sum()"
      ],
      "execution_count": 0,
      "outputs": [
        {
          "output_type": "execute_result",
          "data": {
            "text/plain": [
              "duration                       0\n",
              "protocol_type                  0\n",
              "service                        0\n",
              "flag                           0\n",
              "src_bytes                      0\n",
              "dst_bytes                      0\n",
              "land                           0\n",
              "wrong_fragment                 0\n",
              "urgent                         0\n",
              "hot                            0\n",
              "num_failed_logins              0\n",
              "logged_in                      0\n",
              "num_compromised                0\n",
              "root_shell                     0\n",
              "su_attempted                   0\n",
              "num_root                       0\n",
              "num_file_creations             0\n",
              "num_shells                     0\n",
              "num_access_files               0\n",
              "is_guest_login                 0\n",
              "count                          0\n",
              "srv_count                      0\n",
              "serror_rate                    0\n",
              "srv_serror_rate                0\n",
              "rerror_rate                    0\n",
              "srv_rerror_rate                0\n",
              "same_srv_rate                  0\n",
              "diff_srv_rate                  0\n",
              "srv_diff_host_rate             0\n",
              "dst_host_count                 0\n",
              "dst_host_srv_count             0\n",
              "dst_host_same_srv_rate         0\n",
              "dst_host_diff_srv_rate         0\n",
              "dst_host_same_src_port_rate    0\n",
              "dst_host_srv_diff_host_rate    0\n",
              "dst_host_serror_rate           0\n",
              "dst_host_srv_serror_rate       0\n",
              "dst_host_rerror_rate           0\n",
              "dst_host_srv_rerror_rate       0\n",
              "attack_types                   0\n",
              "label                          0\n",
              "dtype: int64"
            ]
          },
          "metadata": {
            "tags": []
          },
          "execution_count": 59
        }
      ]
    },
    {
      "cell_type": "markdown",
      "metadata": {
        "id": "hvw9LGJcl8bT",
        "colab_type": "text"
      },
      "source": [
        "# ===================== Data Visulization ====================="
      ]
    },
    {
      "cell_type": "markdown",
      "metadata": {
        "id": "_M-UERR4mSKv",
        "colab_type": "text"
      },
      "source": [
        "## Check how many time attack are occurred"
      ]
    },
    {
      "cell_type": "code",
      "metadata": {
        "id": "Q9eOIFZRmtu2",
        "colab_type": "code",
        "outputId": "8b6d28c4-c87f-4958-f90d-e16c0ddbddd4",
        "colab": {
          "base_uri": "https://localhost:8080/",
          "height": 726
        }
      },
      "source": [
        "corrected_df['attack_types'].value_counts()"
      ],
      "execution_count": 0,
      "outputs": [
        {
          "output_type": "execute_result",
          "data": {
            "text/plain": [
              "normal.             47913\n",
              "neptune.            20332\n",
              "guess_passwd.        1302\n",
              "mscan.               1049\n",
              "warezmaster.         1002\n",
              "smurf.                936\n",
              "satan.                860\n",
              "apache2.              794\n",
              "processtable.         744\n",
              "back.                 386\n",
              "saint.                364\n",
              "snmpguess.            359\n",
              "mailbomb.             308\n",
              "snmpgetattack.        179\n",
              "portsweep.            174\n",
              "ipsweep.              155\n",
              "httptunnel.           145\n",
              "nmap.                  80\n",
              "pod.                   45\n",
              "buffer_overflow.       22\n",
              "multihop.              18\n",
              "named.                 17\n",
              "ps.                    16\n",
              "sendmail.              15\n",
              "rootkit.               13\n",
              "xterm.                 13\n",
              "teardrop.              12\n",
              "land.                   9\n",
              "xlock.                  9\n",
              "xsnoop.                 4\n",
              "ftp_write.              3\n",
              "perl.                   2\n",
              "worm.                   2\n",
              "sqlattack.              2\n",
              "loadmodule.             2\n",
              "udpstorm.               2\n",
              "phf.                    2\n",
              "imap.                   1\n",
              "Name: attack_types, dtype: int64"
            ]
          },
          "metadata": {
            "tags": []
          },
          "execution_count": 60
        }
      ]
    },
    {
      "cell_type": "code",
      "metadata": {
        "id": "qE9q1-e5eaNs",
        "colab_type": "code",
        "outputId": "2de4fc77-0705-4ab4-8baf-80d20df952ad",
        "colab": {
          "base_uri": "https://localhost:8080/",
          "height": 521
        }
      },
      "source": [
        "plt.figure(figsize=(12,5))\n",
        "plt.title('Group of attacks (Log transformation)')\n",
        "corrected_df['label'].value_counts().apply(np.log).plot(kind='bar',color = color_names)\n",
        "plt.xlabel(\"Group names\")\n",
        "plt.ylabel(\"log(count)\")\n",
        "plt.show()"
      ],
      "execution_count": 0,
      "outputs": [
        {
          "output_type": "display_data",
          "data": {
            "image/png": "[encoded data removed]",
            "text/plain": [
              "<Figure size 1200x500 with 1 Axes>"
            ]
          },
          "metadata": {
            "tags": []
          }
        }
      ]
    },
    {
      "cell_type": "code",
      "metadata": {
        "id": "UNiP4ZMFPJG3",
        "colab_type": "code",
        "outputId": "1827c103-02da-42ed-db94-75c1a385bf60",
        "colab": {
          "base_uri": "https://localhost:8080/",
          "height": 575
        }
      },
      "source": [
        "plt.figure(figsize=(12,5))\n",
        "plt.title(\"Types of attacks (Log transformation)\")\n",
        "corrected_df['attack_types'].value_counts().apply(np.log).plot(kind='bar',color = color_names)\n",
        "plt.xlabel(\"Attack names\")\n",
        "plt.ylabel(\"log(count)\")\n",
        "plt.show()"
      ],
      "execution_count": 0,
      "outputs": [
        {
          "output_type": "display_data",
          "data": {
            "image/png": "[encoded data removed]",
            "text/plain": [
              "<Figure size 1200x500 with 1 Axes>"
            ]
          },
          "metadata": {
            "tags": []
          }
        }
      ]
    },
    {
      "cell_type": "code",
      "metadata": {
        "id": "ToIWF7xVFgM1",
        "colab_type": "code",
        "outputId": "901592ac-1af3-45cb-c589-041701aaa7f8",
        "colab": {
          "base_uri": "https://localhost:8080/",
          "height": 35
        }
      },
      "source": [
        "corrected_df.shape"
      ],
      "execution_count": 0,
      "outputs": [
        {
          "output_type": "execute_result",
          "data": {
            "text/plain": [
              "(77291, 41)"
            ]
          },
          "metadata": {
            "tags": []
          },
          "execution_count": 63
        }
      ]
    },
    {
      "cell_type": "code",
      "metadata": {
        "id": "cLqjUmTrGXMg",
        "colab_type": "code",
        "colab": {}
      },
      "source": [
        "corrected_label = corrected_df['label']"
      ],
      "execution_count": 0,
      "outputs": []
    },
    {
      "cell_type": "code",
      "metadata": {
        "id": "7pSb24WQF-md",
        "colab_type": "code",
        "outputId": "16b212d4-db7e-4287-838e-d658774d0412",
        "colab": {
          "base_uri": "https://localhost:8080/",
          "height": 218
        }
      },
      "source": [
        "corrected_df.head()"
      ],
      "execution_count": 0,
      "outputs": [
        {
          "output_type": "execute_result",
          "data": {
            "text/html": [
              "<div>\n",
              "<style scoped>\n",
              "    .dataframe tbody tr th:only-of-type {\n",
              "        vertical-align: middle;\n",
              "    }\n",
              "\n",
              "    .dataframe tbody tr th {\n",
              "        vertical-align: top;\n",
              "    }\n",
              "\n",
              "    .dataframe thead th {\n",
              "        text-align: right;\n",
              "    }\n",
              "</style>\n",
              "<table border=\"1\" class=\"dataframe\">\n",
              "  <thead>\n",
              "    <tr style=\"text-align: right;\">\n",
              "      <th></th>\n",
              "      <th>duration</th>\n",
              "      <th>protocol_type</th>\n",
              "      <th>service</th>\n",
              "      <th>flag</th>\n",
              "      <th>src_bytes</th>\n",
              "      <th>dst_bytes</th>\n",
              "      <th>land</th>\n",
              "      <th>wrong_fragment</th>\n",
              "      <th>urgent</th>\n",
              "      <th>hot</th>\n",
              "      <th>num_failed_logins</th>\n",
              "      <th>logged_in</th>\n",
              "      <th>num_compromised</th>\n",
              "      <th>root_shell</th>\n",
              "      <th>su_attempted</th>\n",
              "      <th>num_root</th>\n",
              "      <th>num_file_creations</th>\n",
              "      <th>num_shells</th>\n",
              "      <th>num_access_files</th>\n",
              "      <th>is_guest_login</th>\n",
              "      <th>count</th>\n",
              "      <th>srv_count</th>\n",
              "      <th>serror_rate</th>\n",
              "      <th>srv_serror_rate</th>\n",
              "      <th>rerror_rate</th>\n",
              "      <th>srv_rerror_rate</th>\n",
              "      <th>same_srv_rate</th>\n",
              "      <th>diff_srv_rate</th>\n",
              "      <th>srv_diff_host_rate</th>\n",
              "      <th>dst_host_count</th>\n",
              "      <th>dst_host_srv_count</th>\n",
              "      <th>dst_host_same_srv_rate</th>\n",
              "      <th>dst_host_diff_srv_rate</th>\n",
              "      <th>dst_host_same_src_port_rate</th>\n",
              "      <th>dst_host_srv_diff_host_rate</th>\n",
              "      <th>dst_host_serror_rate</th>\n",
              "      <th>dst_host_srv_serror_rate</th>\n",
              "      <th>dst_host_rerror_rate</th>\n",
              "      <th>dst_host_srv_rerror_rate</th>\n",
              "      <th>attack_types</th>\n",
              "      <th>label</th>\n",
              "    </tr>\n",
              "  </thead>\n",
              "  <tbody>\n",
              "    <tr>\n",
              "      <th>0</th>\n",
              "      <td>0</td>\n",
              "      <td>2</td>\n",
              "      <td>46</td>\n",
              "      <td>9</td>\n",
              "      <td>105</td>\n",
              "      <td>146</td>\n",
              "      <td>0</td>\n",
              "      <td>0</td>\n",
              "      <td>0</td>\n",
              "      <td>0</td>\n",
              "      <td>0</td>\n",
              "      <td>0</td>\n",
              "      <td>0</td>\n",
              "      <td>0</td>\n",
              "      <td>0</td>\n",
              "      <td>0</td>\n",
              "      <td>0</td>\n",
              "      <td>0</td>\n",
              "      <td>0</td>\n",
              "      <td>0</td>\n",
              "      <td>1</td>\n",
              "      <td>1</td>\n",
              "      <td>0.0</td>\n",
              "      <td>0.0</td>\n",
              "      <td>0.0</td>\n",
              "      <td>0.0</td>\n",
              "      <td>1.0</td>\n",
              "      <td>0.0</td>\n",
              "      <td>0.0</td>\n",
              "      <td>255</td>\n",
              "      <td>254</td>\n",
              "      <td>1.0</td>\n",
              "      <td>0.01</td>\n",
              "      <td>0.00</td>\n",
              "      <td>0.0</td>\n",
              "      <td>0.0</td>\n",
              "      <td>0.0</td>\n",
              "      <td>0.0</td>\n",
              "      <td>0.0</td>\n",
              "      <td>normal.</td>\n",
              "      <td>Normal</td>\n",
              "    </tr>\n",
              "    <tr>\n",
              "      <th>3</th>\n",
              "      <td>0</td>\n",
              "      <td>2</td>\n",
              "      <td>46</td>\n",
              "      <td>9</td>\n",
              "      <td>105</td>\n",
              "      <td>146</td>\n",
              "      <td>0</td>\n",
              "      <td>0</td>\n",
              "      <td>0</td>\n",
              "      <td>0</td>\n",
              "      <td>0</td>\n",
              "      <td>0</td>\n",
              "      <td>0</td>\n",
              "      <td>0</td>\n",
              "      <td>0</td>\n",
              "      <td>0</td>\n",
              "      <td>0</td>\n",
              "      <td>0</td>\n",
              "      <td>0</td>\n",
              "      <td>0</td>\n",
              "      <td>2</td>\n",
              "      <td>2</td>\n",
              "      <td>0.0</td>\n",
              "      <td>0.0</td>\n",
              "      <td>0.0</td>\n",
              "      <td>0.0</td>\n",
              "      <td>1.0</td>\n",
              "      <td>0.0</td>\n",
              "      <td>0.0</td>\n",
              "      <td>255</td>\n",
              "      <td>254</td>\n",
              "      <td>1.0</td>\n",
              "      <td>0.01</td>\n",
              "      <td>0.00</td>\n",
              "      <td>0.0</td>\n",
              "      <td>0.0</td>\n",
              "      <td>0.0</td>\n",
              "      <td>0.0</td>\n",
              "      <td>0.0</td>\n",
              "      <td>snmpgetattack.</td>\n",
              "      <td>R2L</td>\n",
              "    </tr>\n",
              "    <tr>\n",
              "      <th>4</th>\n",
              "      <td>0</td>\n",
              "      <td>2</td>\n",
              "      <td>46</td>\n",
              "      <td>9</td>\n",
              "      <td>105</td>\n",
              "      <td>146</td>\n",
              "      <td>0</td>\n",
              "      <td>0</td>\n",
              "      <td>0</td>\n",
              "      <td>0</td>\n",
              "      <td>0</td>\n",
              "      <td>0</td>\n",
              "      <td>0</td>\n",
              "      <td>0</td>\n",
              "      <td>0</td>\n",
              "      <td>0</td>\n",
              "      <td>0</td>\n",
              "      <td>0</td>\n",
              "      <td>0</td>\n",
              "      <td>0</td>\n",
              "      <td>2</td>\n",
              "      <td>2</td>\n",
              "      <td>0.0</td>\n",
              "      <td>0.0</td>\n",
              "      <td>0.0</td>\n",
              "      <td>0.0</td>\n",
              "      <td>1.0</td>\n",
              "      <td>0.0</td>\n",
              "      <td>0.0</td>\n",
              "      <td>255</td>\n",
              "      <td>254</td>\n",
              "      <td>1.0</td>\n",
              "      <td>0.01</td>\n",
              "      <td>0.01</td>\n",
              "      <td>0.0</td>\n",
              "      <td>0.0</td>\n",
              "      <td>0.0</td>\n",
              "      <td>0.0</td>\n",
              "      <td>0.0</td>\n",
              "      <td>snmpgetattack.</td>\n",
              "      <td>R2L</td>\n",
              "    </tr>\n",
              "    <tr>\n",
              "      <th>5</th>\n",
              "      <td>0</td>\n",
              "      <td>2</td>\n",
              "      <td>46</td>\n",
              "      <td>9</td>\n",
              "      <td>105</td>\n",
              "      <td>146</td>\n",
              "      <td>0</td>\n",
              "      <td>0</td>\n",
              "      <td>0</td>\n",
              "      <td>0</td>\n",
              "      <td>0</td>\n",
              "      <td>0</td>\n",
              "      <td>0</td>\n",
              "      <td>0</td>\n",
              "      <td>0</td>\n",
              "      <td>0</td>\n",
              "      <td>0</td>\n",
              "      <td>0</td>\n",
              "      <td>0</td>\n",
              "      <td>0</td>\n",
              "      <td>2</td>\n",
              "      <td>2</td>\n",
              "      <td>0.0</td>\n",
              "      <td>0.0</td>\n",
              "      <td>0.0</td>\n",
              "      <td>0.0</td>\n",
              "      <td>1.0</td>\n",
              "      <td>0.0</td>\n",
              "      <td>0.0</td>\n",
              "      <td>255</td>\n",
              "      <td>255</td>\n",
              "      <td>1.0</td>\n",
              "      <td>0.00</td>\n",
              "      <td>0.01</td>\n",
              "      <td>0.0</td>\n",
              "      <td>0.0</td>\n",
              "      <td>0.0</td>\n",
              "      <td>0.0</td>\n",
              "      <td>0.0</td>\n",
              "      <td>snmpgetattack.</td>\n",
              "      <td>R2L</td>\n",
              "    </tr>\n",
              "    <tr>\n",
              "      <th>6</th>\n",
              "      <td>0</td>\n",
              "      <td>2</td>\n",
              "      <td>11</td>\n",
              "      <td>9</td>\n",
              "      <td>29</td>\n",
              "      <td>0</td>\n",
              "      <td>0</td>\n",
              "      <td>0</td>\n",
              "      <td>0</td>\n",
              "      <td>0</td>\n",
              "      <td>0</td>\n",
              "      <td>0</td>\n",
              "      <td>0</td>\n",
              "      <td>0</td>\n",
              "      <td>0</td>\n",
              "      <td>0</td>\n",
              "      <td>0</td>\n",
              "      <td>0</td>\n",
              "      <td>0</td>\n",
              "      <td>0</td>\n",
              "      <td>2</td>\n",
              "      <td>1</td>\n",
              "      <td>0.0</td>\n",
              "      <td>0.0</td>\n",
              "      <td>0.0</td>\n",
              "      <td>0.0</td>\n",
              "      <td>0.5</td>\n",
              "      <td>1.0</td>\n",
              "      <td>0.0</td>\n",
              "      <td>10</td>\n",
              "      <td>3</td>\n",
              "      <td>0.3</td>\n",
              "      <td>0.30</td>\n",
              "      <td>0.30</td>\n",
              "      <td>0.0</td>\n",
              "      <td>0.0</td>\n",
              "      <td>0.0</td>\n",
              "      <td>0.0</td>\n",
              "      <td>0.0</td>\n",
              "      <td>normal.</td>\n",
              "      <td>Normal</td>\n",
              "    </tr>\n",
              "  </tbody>\n",
              "</table>\n",
              "</div>"
            ],
            "text/plain": [
              "   duration  protocol_type  ...    attack_types   label\n",
              "0         0              2  ...         normal.  Normal\n",
              "3         0              2  ...  snmpgetattack.     R2L\n",
              "4         0              2  ...  snmpgetattack.     R2L\n",
              "5         0              2  ...  snmpgetattack.     R2L\n",
              "6         0              2  ...         normal.  Normal\n",
              "\n",
              "[5 rows x 41 columns]"
            ]
          },
          "metadata": {
            "tags": []
          },
          "execution_count": 65
        }
      ]
    },
    {
      "cell_type": "code",
      "metadata": {
        "id": "bzkpn7RQOZtM",
        "colab_type": "code",
        "colab": {}
      },
      "source": [
        "resample_data = corrected_df[columns_names]"
      ],
      "execution_count": 0,
      "outputs": []
    },
    {
      "cell_type": "code",
      "metadata": {
        "id": "liJVVOfGOpec",
        "colab_type": "code",
        "outputId": "4a81e328-e7ba-43d7-b399-62db9b55ffac",
        "colab": {
          "base_uri": "https://localhost:8080/",
          "height": 35
        }
      },
      "source": [
        "resample_data.shape, corrected_df.shape, X.shape"
      ],
      "execution_count": 0,
      "outputs": [
        {
          "output_type": "execute_result",
          "data": {
            "text/plain": [
              "((77291, 13), (77291, 41), (67266, 13))"
            ]
          },
          "metadata": {
            "tags": []
          },
          "execution_count": 67
        }
      ]
    },
    {
      "cell_type": "code",
      "metadata": {
        "id": "6MVJmQURO1pu",
        "colab_type": "code",
        "outputId": "9d0ab1f6-5bd2-47fa-e7c3-3dd767713dce",
        "colab": {
          "base_uri": "https://localhost:8080/",
          "height": 218
        }
      },
      "source": [
        "resample_data.head()"
      ],
      "execution_count": 0,
      "outputs": [
        {
          "output_type": "execute_result",
          "data": {
            "text/html": [
              "<div>\n",
              "<style scoped>\n",
              "    .dataframe tbody tr th:only-of-type {\n",
              "        vertical-align: middle;\n",
              "    }\n",
              "\n",
              "    .dataframe tbody tr th {\n",
              "        vertical-align: top;\n",
              "    }\n",
              "\n",
              "    .dataframe thead th {\n",
              "        text-align: right;\n",
              "    }\n",
              "</style>\n",
              "<table border=\"1\" class=\"dataframe\">\n",
              "  <thead>\n",
              "    <tr style=\"text-align: right;\">\n",
              "      <th></th>\n",
              "      <th>duration</th>\n",
              "      <th>protocol_type</th>\n",
              "      <th>service</th>\n",
              "      <th>flag</th>\n",
              "      <th>dst_bytes</th>\n",
              "      <th>land</th>\n",
              "      <th>hot</th>\n",
              "      <th>root_shell</th>\n",
              "      <th>srv_count</th>\n",
              "      <th>rerror_rate</th>\n",
              "      <th>diff_srv_rate</th>\n",
              "      <th>srv_diff_host_rate</th>\n",
              "      <th>dst_host_srv_diff_host_rate</th>\n",
              "    </tr>\n",
              "  </thead>\n",
              "  <tbody>\n",
              "    <tr>\n",
              "      <th>0</th>\n",
              "      <td>0</td>\n",
              "      <td>2</td>\n",
              "      <td>46</td>\n",
              "      <td>9</td>\n",
              "      <td>146</td>\n",
              "      <td>0</td>\n",
              "      <td>0</td>\n",
              "      <td>0</td>\n",
              "      <td>1</td>\n",
              "      <td>0.0</td>\n",
              "      <td>0.0</td>\n",
              "      <td>0.0</td>\n",
              "      <td>0.0</td>\n",
              "    </tr>\n",
              "    <tr>\n",
              "      <th>3</th>\n",
              "      <td>0</td>\n",
              "      <td>2</td>\n",
              "      <td>46</td>\n",
              "      <td>9</td>\n",
              "      <td>146</td>\n",
              "      <td>0</td>\n",
              "      <td>0</td>\n",
              "      <td>0</td>\n",
              "      <td>2</td>\n",
              "      <td>0.0</td>\n",
              "      <td>0.0</td>\n",
              "      <td>0.0</td>\n",
              "      <td>0.0</td>\n",
              "    </tr>\n",
              "    <tr>\n",
              "      <th>4</th>\n",
              "      <td>0</td>\n",
              "      <td>2</td>\n",
              "      <td>46</td>\n",
              "      <td>9</td>\n",
              "      <td>146</td>\n",
              "      <td>0</td>\n",
              "      <td>0</td>\n",
              "      <td>0</td>\n",
              "      <td>2</td>\n",
              "      <td>0.0</td>\n",
              "      <td>0.0</td>\n",
              "      <td>0.0</td>\n",
              "      <td>0.0</td>\n",
              "    </tr>\n",
              "    <tr>\n",
              "      <th>5</th>\n",
              "      <td>0</td>\n",
              "      <td>2</td>\n",
              "      <td>46</td>\n",
              "      <td>9</td>\n",
              "      <td>146</td>\n",
              "      <td>0</td>\n",
              "      <td>0</td>\n",
              "      <td>0</td>\n",
              "      <td>2</td>\n",
              "      <td>0.0</td>\n",
              "      <td>0.0</td>\n",
              "      <td>0.0</td>\n",
              "      <td>0.0</td>\n",
              "    </tr>\n",
              "    <tr>\n",
              "      <th>6</th>\n",
              "      <td>0</td>\n",
              "      <td>2</td>\n",
              "      <td>11</td>\n",
              "      <td>9</td>\n",
              "      <td>0</td>\n",
              "      <td>0</td>\n",
              "      <td>0</td>\n",
              "      <td>0</td>\n",
              "      <td>1</td>\n",
              "      <td>0.0</td>\n",
              "      <td>1.0</td>\n",
              "      <td>0.0</td>\n",
              "      <td>0.0</td>\n",
              "    </tr>\n",
              "  </tbody>\n",
              "</table>\n",
              "</div>"
            ],
            "text/plain": [
              "   duration  protocol_type  ...  srv_diff_host_rate  dst_host_srv_diff_host_rate\n",
              "0         0              2  ...                 0.0                          0.0\n",
              "3         0              2  ...                 0.0                          0.0\n",
              "4         0              2  ...                 0.0                          0.0\n",
              "5         0              2  ...                 0.0                          0.0\n",
              "6         0              2  ...                 0.0                          0.0\n",
              "\n",
              "[5 rows x 13 columns]"
            ]
          },
          "metadata": {
            "tags": []
          },
          "execution_count": 68
        }
      ]
    },
    {
      "cell_type": "markdown",
      "metadata": {
        "id": "2IB1rWmrPUZa",
        "colab_type": "text"
      },
      "source": [
        "## Add label to dataframe"
      ]
    },
    {
      "cell_type": "code",
      "metadata": {
        "id": "dEMGaFznPTHp",
        "colab_type": "code",
        "outputId": "f5f11e73-06a2-446d-e6a9-9579727bd5aa",
        "colab": {
          "base_uri": "https://localhost:8080/",
          "height": 126
        }
      },
      "source": [
        "resample_data['label'] = corrected_label"
      ],
      "execution_count": 0,
      "outputs": [
        {
          "output_type": "stream",
          "text": [
            "/usr/local/lib/python3.6/dist-packages/ipykernel_launcher.py:1: SettingWithCopyWarning: \n",
            "A value is trying to be set on a copy of a slice from a DataFrame.\n",
            "Try using .loc[row_indexer,col_indexer] = value instead\n",
            "\n",
            "See the caveats in the documentation: http://pandas.pydata.org/pandas-docs/stable/user_guide/indexing.html#returning-a-view-versus-a-copy\n",
            "  \"\"\"Entry point for launching an IPython kernel.\n"
          ],
          "name": "stderr"
        }
      ]
    },
    {
      "cell_type": "code",
      "metadata": {
        "id": "kKFqZThMP7BM",
        "colab_type": "code",
        "outputId": "f2d708f4-159f-4471-da8e-8083bf86f70a",
        "colab": {
          "base_uri": "https://localhost:8080/",
          "height": 35
        }
      },
      "source": [
        "resample_data.shape"
      ],
      "execution_count": 0,
      "outputs": [
        {
          "output_type": "execute_result",
          "data": {
            "text/plain": [
              "(77291, 14)"
            ]
          },
          "metadata": {
            "tags": []
          },
          "execution_count": 70
        }
      ]
    },
    {
      "cell_type": "markdown",
      "metadata": {
        "id": "W21tQlD8QYP-",
        "colab_type": "text"
      },
      "source": [
        "## Remove  duplicate from dataframe\n",
        "\n",
        "---\n",
        "\n"
      ]
    },
    {
      "cell_type": "code",
      "metadata": {
        "id": "5vKzm50LQk1A",
        "colab_type": "code",
        "outputId": "a3a00268-7c54-4975-b76d-a4eb8148ff0e",
        "colab": {
          "base_uri": "https://localhost:8080/",
          "height": 145
        }
      },
      "source": [
        "corrected_sample_df = remove_duplicate(resample_data)"
      ],
      "execution_count": 0,
      "outputs": [
        {
          "output_type": "stream",
          "text": [
            "Before remove duplicate shape (77291, 14)\n",
            "After remove duplicate shape (46883, 14)\n"
          ],
          "name": "stdout"
        },
        {
          "output_type": "stream",
          "text": [
            "/usr/local/lib/python3.6/dist-packages/ipykernel_launcher.py:3: SettingWithCopyWarning: \n",
            "A value is trying to be set on a copy of a slice from a DataFrame\n",
            "\n",
            "See the caveats in the documentation: http://pandas.pydata.org/pandas-docs/stable/user_guide/indexing.html#returning-a-view-versus-a-copy\n",
            "  This is separate from the ipykernel package so we can avoid doing imports until\n"
          ],
          "name": "stderr"
        }
      ]
    },
    {
      "cell_type": "code",
      "metadata": {
        "id": "sLlhRFafQ_0F",
        "colab_type": "code",
        "outputId": "cb9fc192-b8a6-48c1-b51f-f92e9ea0d73f",
        "colab": {
          "base_uri": "https://localhost:8080/",
          "height": 35
        }
      },
      "source": [
        "corrected_sample_df.shape"
      ],
      "execution_count": 0,
      "outputs": [
        {
          "output_type": "execute_result",
          "data": {
            "text/plain": [
              "(46883, 14)"
            ]
          },
          "metadata": {
            "tags": []
          },
          "execution_count": 72
        }
      ]
    },
    {
      "cell_type": "markdown",
      "metadata": {
        "id": "IaeVbUPNQOLq",
        "colab_type": "text"
      },
      "source": [
        "## Split test data into 6 subset"
      ]
    },
    {
      "cell_type": "code",
      "metadata": {
        "id": "aV4PzAJGRHkx",
        "colab_type": "code",
        "colab": {}
      },
      "source": [
        "def subset_data(Data, subset):\n",
        "    split = len(Data) / float(subset)\n",
        "    mydata = []\n",
        "    last = 0.0\n",
        "\n",
        "    while last < len(Data):\n",
        "       mydata.append(Data[int(last):int(last + split)])\n",
        "       last += split\n",
        "    return mydata"
      ],
      "execution_count": 0,
      "outputs": []
    },
    {
      "cell_type": "code",
      "metadata": {
        "id": "jFf11STsRkVQ",
        "colab_type": "code",
        "colab": {}
      },
      "source": [
        "data1,data2,data3,data4,data5,data6,data7   =subset_data(corrected_sample_df, 7)"
      ],
      "execution_count": 0,
      "outputs": []
    },
    {
      "cell_type": "code",
      "metadata": {
        "id": "hlGccLi_Rkre",
        "colab_type": "code",
        "outputId": "5e3fc6e0-8c48-47ce-e55f-6a8e230b6bb9",
        "colab": {
          "base_uri": "https://localhost:8080/",
          "height": 145
        }
      },
      "source": [
        "data1.shape,data2.shape,data3.shape,data4.shape,data5.shape,data6.shape, data7.shape"
      ],
      "execution_count": 0,
      "outputs": [
        {
          "output_type": "execute_result",
          "data": {
            "text/plain": [
              "((6697, 14),\n",
              " (6698, 14),\n",
              " (6697, 14),\n",
              " (6698, 14),\n",
              " (6697, 14),\n",
              " (6698, 14),\n",
              " (6698, 14))"
            ]
          },
          "metadata": {
            "tags": []
          },
          "execution_count": 75
        }
      ]
    },
    {
      "cell_type": "markdown",
      "metadata": {
        "id": "9zFdMR_FT_XH",
        "colab_type": "text"
      },
      "source": [
        "## OneHot encoder"
      ]
    },
    {
      "cell_type": "code",
      "metadata": {
        "id": "Pzdr9mZFTgbB",
        "colab_type": "code",
        "colab": {}
      },
      "source": [
        "y1= target_feature(data1)\n",
        "y2= target_feature(data2)\n",
        "y3= target_feature(data3)\n",
        "y4= target_feature(data4)\n",
        "y5= target_feature(data5)\n",
        "y6= target_feature(data6)\n",
        "y7 = target_feature(data7)"
      ],
      "execution_count": 0,
      "outputs": []
    },
    {
      "cell_type": "code",
      "metadata": {
        "id": "WZBwRh53UWWy",
        "colab_type": "code",
        "colab": {}
      },
      "source": [
        "y1_test =  oneVSall(y1)"
      ],
      "execution_count": 0,
      "outputs": []
    },
    {
      "cell_type": "code",
      "metadata": {
        "id": "KCa_5UsyZdCP",
        "colab_type": "code",
        "colab": {}
      },
      "source": [
        "y2_test =  oneVSall(y2)"
      ],
      "execution_count": 0,
      "outputs": []
    },
    {
      "cell_type": "code",
      "metadata": {
        "id": "YwP7xslxaAqU",
        "colab_type": "code",
        "colab": {}
      },
      "source": [
        "y3_test =  oneVSall(y3)"
      ],
      "execution_count": 0,
      "outputs": []
    },
    {
      "cell_type": "code",
      "metadata": {
        "id": "pwsOdIF_aFAT",
        "colab_type": "code",
        "colab": {}
      },
      "source": [
        "y4_test =  oneVSall(y4)"
      ],
      "execution_count": 0,
      "outputs": []
    },
    {
      "cell_type": "code",
      "metadata": {
        "id": "-ALwd7slaInb",
        "colab_type": "code",
        "colab": {}
      },
      "source": [
        "y5_test =  oneVSall(y5)"
      ],
      "execution_count": 0,
      "outputs": []
    },
    {
      "cell_type": "code",
      "metadata": {
        "id": "4Qed7RZDflTl",
        "colab_type": "code",
        "colab": {}
      },
      "source": [
        "y6_test =  oneVSall(y6)"
      ],
      "execution_count": 0,
      "outputs": []
    },
    {
      "cell_type": "code",
      "metadata": {
        "id": "x1sifnhqRqAr",
        "colab_type": "code",
        "colab": {}
      },
      "source": [
        "y7_valid = oneVSall(y7)"
      ],
      "execution_count": 0,
      "outputs": []
    },
    {
      "cell_type": "markdown",
      "metadata": {
        "id": "uf3tMRtyVM3W",
        "colab_type": "text"
      },
      "source": [
        "* Shape of evry taregt variable"
      ]
    },
    {
      "cell_type": "markdown",
      "metadata": {
        "id": "M6VW3TM8oSxJ",
        "colab_type": "text"
      },
      "source": [
        ""
      ]
    },
    {
      "cell_type": "code",
      "metadata": {
        "id": "ofeLqp-CVNxH",
        "colab_type": "code",
        "outputId": "e870bb98-4ee5-449b-a624-01bc7d201bd3",
        "colab": {
          "base_uri": "https://localhost:8080/",
          "height": 35
        }
      },
      "source": [
        "y1_test.shape,y2_test.shape,y3_test.shape,y4_test.shape,y5_test.shape,y6_test.shape,y7_valid.shape"
      ],
      "execution_count": 0,
      "outputs": [
        {
          "output_type": "execute_result",
          "data": {
            "text/plain": [
              "((6697, 5), (6698, 5), (6697, 5), (6698, 5), (6697, 5), (6698, 5), (6698, 5))"
            ]
          },
          "metadata": {
            "tags": []
          },
          "execution_count": 84
        }
      ]
    },
    {
      "cell_type": "markdown",
      "metadata": {
        "id": "COKtK28Gf89m",
        "colab_type": "text"
      },
      "source": [
        "* x_test data\n",
        "\n",
        "\n"
      ]
    },
    {
      "cell_type": "code",
      "metadata": {
        "id": "k1y1RriVgFu-",
        "colab_type": "code",
        "colab": {}
      },
      "source": [
        "x1_test = minMax_scaler(data1)\n",
        "x2_test = minMax_scaler(data2)\n",
        "x2_test = minMax_scaler(data2)\n",
        "x3_test = minMax_scaler(data3)\n",
        "x4_test = minMax_scaler(data4)\n",
        "x5_test = minMax_scaler(data5)"
      ],
      "execution_count": 0,
      "outputs": []
    },
    {
      "cell_type": "code",
      "metadata": {
        "id": "ST0mFIjRhNy1",
        "colab_type": "code",
        "colab": {}
      },
      "source": [
        "x6_test = minMax_scaler(data6)"
      ],
      "execution_count": 0,
      "outputs": []
    },
    {
      "cell_type": "code",
      "metadata": {
        "id": "cZKb2_3MS9G_",
        "colab_type": "code",
        "colab": {}
      },
      "source": [
        "x7_valid = minMax_scaler(data7)"
      ],
      "execution_count": 0,
      "outputs": []
    },
    {
      "cell_type": "code",
      "metadata": {
        "id": "z6Jra15Vg4u4",
        "colab_type": "code",
        "outputId": "481de818-2b11-4d35-ec97-4923a87dc7a6",
        "colab": {
          "base_uri": "https://localhost:8080/",
          "height": 145
        }
      },
      "source": [
        "x1_test.shape,x2_test.shape,x3_test.shape,x4_test.shape,x5_test.shape,x6_test.shape,x7_valid.shape"
      ],
      "execution_count": 0,
      "outputs": [
        {
          "output_type": "execute_result",
          "data": {
            "text/plain": [
              "((6697, 13),\n",
              " (6698, 13),\n",
              " (6697, 13),\n",
              " (6698, 13),\n",
              " (6697, 13),\n",
              " (6698, 13),\n",
              " (6698, 13))"
            ]
          },
          "metadata": {
            "tags": []
          },
          "execution_count": 88
        }
      ]
    },
    {
      "cell_type": "markdown",
      "metadata": {
        "id": "h1iZLGipOkX5",
        "colab_type": "text"
      },
      "source": [
        "# =========================== SVM Model ========================"
      ]
    },
    {
      "cell_type": "code",
      "metadata": {
        "id": "TdktpNoHJo60",
        "colab_type": "code",
        "colab": {}
      },
      "source": [
        "from sklearn.pipeline import Pipeline\n",
        "from sklearn.metrics import accuracy_score\n",
        "from sklearn.multiclass import OneVsRestClassifier\n",
        "from sklearn.svm import SVC"
      ],
      "execution_count": 0,
      "outputs": []
    },
    {
      "cell_type": "code",
      "metadata": {
        "id": "q3feS_66TCD6",
        "colab_type": "code",
        "colab": {}
      },
      "source": [
        "def SVM_model(X_train,y_train,X_test,data_type = 'traing set',expert = 5,no =1):\n",
        "  clf = SVC(kernel ='rbf',C = expert,gamma= 'auto')\n",
        "  m = OneVsRestClassifier(clf)\n",
        "  train=m.fit(X_train,y_train)\n",
        "  \n",
        "  yPred= train.predict(X_test)\n",
        "  y_Pred =pd.DataFrame(yPred, columns =['Dos','Normal', 'Probe', 'R2L','U2R'])\n",
        "  print(\"SVM_{} ,\".format(no) +  str(data_type) + \" , predict on the expert no {}\".format(expert))\n",
        "  \n",
        "  print(\"SVM_{}  \".format(no)  +  \" Train on the expert no {}\".format(expert))\n",
        "  return y_Pred"
      ],
      "execution_count": 0,
      "outputs": []
    },
    {
      "cell_type": "markdown",
      "metadata": {
        "id": "ySKJ4juPj5JC",
        "colab_type": "text"
      },
      "source": [
        "## ====================== Prediction on diffrent expert ======================"
      ]
    },
    {
      "cell_type": "code",
      "metadata": {
        "id": "zOKqeh2sjUQy",
        "colab_type": "code",
        "colab": {}
      },
      "source": [
        "X_train,y_train = X,y"
      ],
      "execution_count": 0,
      "outputs": []
    },
    {
      "cell_type": "code",
      "metadata": {
        "id": "be_1Fn_5lMCB",
        "colab_type": "code",
        "outputId": "b050524e-a69b-4e25-f4b6-bbc9b37df72a",
        "colab": {
          "base_uri": "https://localhost:8080/",
          "height": 163
        }
      },
      "source": [
        "y_Pred1 = SVM_model(X_train,y_train,x1_test,data_type = 'data 1',expert = 5,no =1)\n",
        "y_Pred2 = SVM_model(X_train,y_train,x2_test,data_type = 'data 2',expert = 2,no =2)\n",
        "y_Pred3 = SVM_model(X_train,y_train,x3_test,data_type = 'data 3',expert = 1,no =3)\n",
        "y_Pred4 = SVM_model(X_train,y_train,x4_test,data_type = 'data 4',expert = 0.5,no =4)"
      ],
      "execution_count": 0,
      "outputs": [
        {
          "output_type": "stream",
          "text": [
            "SVM_1 ,data 1 , predict on the expert no 5\n",
            "SVM_1   Train on the expert no 5\n",
            "SVM_2 ,data 2 , predict on the expert no 2\n",
            "SVM_2   Train on the expert no 2\n",
            "SVM_3 ,data 3 , predict on the expert no 1\n",
            "SVM_3   Train on the expert no 1\n",
            "SVM_4 ,data 4 , predict on the expert no 0.5\n",
            "SVM_4   Train on the expert no 0.5\n"
          ],
          "name": "stdout"
        }
      ]
    },
    {
      "cell_type": "code",
      "metadata": {
        "id": "6hnyuDzanHFC",
        "colab_type": "code",
        "outputId": "9faf7667-d79a-4ccc-8b3b-8315499f97f2",
        "colab": {
          "base_uri": "https://localhost:8080/",
          "height": 54
        }
      },
      "source": [
        "y_Pred5 = SVM_model(X_train,y_train,x5_test,data_type = 'data 5',expert = 0.2,no =5)"
      ],
      "execution_count": 0,
      "outputs": [
        {
          "output_type": "stream",
          "text": [
            "SVM_5 ,data 5 , predict on the expert no 0.2\n",
            "SVM_5   Train on the expert no 0.2\n"
          ],
          "name": "stdout"
        }
      ]
    },
    {
      "cell_type": "code",
      "metadata": {
        "id": "-m3-ncrGembu",
        "colab_type": "code",
        "outputId": "9918fe04-6443-4457-bfc4-75fdf129f160",
        "colab": {
          "base_uri": "https://localhost:8080/",
          "height": 54
        }
      },
      "source": [
        "y_Pred6 = SVM_model(X_train,y_train,x6_test,data_type = 'data 6',expert = 6,no =6)"
      ],
      "execution_count": 0,
      "outputs": [
        {
          "output_type": "stream",
          "text": [
            "SVM_6 ,data 6 , predict on the expert no 6\n",
            "SVM_6   Train on the expert no 6\n"
          ],
          "name": "stdout"
        }
      ]
    },
    {
      "cell_type": "code",
      "metadata": {
        "id": "zYkgSF7BfUB8",
        "colab_type": "code",
        "colab": {}
      },
      "source": [
        "def prediction_score(y_true, y_Pred, data_name = 'test set'):\n",
        "  col_name =['Dos','Normal', 'Probe', 'R2L','U2R']\n",
        "  score = list()\n",
        "  for i in y_Pred:\n",
        "    score.append(accuracy_score(y_true[i],y_Pred[i]))\n",
        "  mydict = {'Dos':score[0]*100,'Normal':score[1]*100,'Probe':score[2]*100,\n",
        "          'R2L':score[3]*100,'U2R':score[4]*100}\n",
        "  print(\"Classification accuracy score on the \" + str(data_name)+ \"\\n\")\n",
        "  return mydict"
      ],
      "execution_count": 0,
      "outputs": []
    },
    {
      "cell_type": "code",
      "metadata": {
        "id": "RfZzjVRJWNdj",
        "colab_type": "code",
        "outputId": "8b5347b7-e570-4791-d1ff-88afa20bbe63",
        "colab": {
          "base_uri": "https://localhost:8080/",
          "height": 54
        }
      },
      "source": [
        "score1 =prediction_score(y1_test, y_Pred1, data_name = 'test set')"
      ],
      "execution_count": 0,
      "outputs": [
        {
          "output_type": "stream",
          "text": [
            "Classification accuracy score on the test set\n",
            "\n"
          ],
          "name": "stdout"
        }
      ]
    },
    {
      "cell_type": "code",
      "metadata": {
        "id": "SwSiU8uuWNOX",
        "colab_type": "code",
        "outputId": "62fb60d7-9ce2-4a5f-a30c-266bd373a1e5",
        "colab": {
          "base_uri": "https://localhost:8080/",
          "height": 54
        }
      },
      "source": [
        "score2 =prediction_score(y2_test, y_Pred2, data_name = 'test set')"
      ],
      "execution_count": 0,
      "outputs": [
        {
          "output_type": "stream",
          "text": [
            "Classification accuracy score on the test set\n",
            "\n"
          ],
          "name": "stdout"
        }
      ]
    },
    {
      "cell_type": "code",
      "metadata": {
        "id": "SJCeOMo9WNJh",
        "colab_type": "code",
        "outputId": "856245d1-d294-4b67-d312-ab7550e2d783",
        "colab": {
          "base_uri": "https://localhost:8080/",
          "height": 54
        }
      },
      "source": [
        "score3 =prediction_score(y3_test, y_Pred3, data_name = 'test set')"
      ],
      "execution_count": 0,
      "outputs": [
        {
          "output_type": "stream",
          "text": [
            "Classification accuracy score on the test set\n",
            "\n"
          ],
          "name": "stdout"
        }
      ]
    },
    {
      "cell_type": "code",
      "metadata": {
        "id": "VdYoKI4UWM_-",
        "colab_type": "code",
        "outputId": "1ef4fc83-b1b0-4401-e540-cdc88b9274d8",
        "colab": {
          "base_uri": "https://localhost:8080/",
          "height": 54
        }
      },
      "source": [
        "score4 =prediction_score(y4_test, y_Pred4, data_name = 'test set')"
      ],
      "execution_count": 0,
      "outputs": [
        {
          "output_type": "stream",
          "text": [
            "Classification accuracy score on the test set\n",
            "\n"
          ],
          "name": "stdout"
        }
      ]
    },
    {
      "cell_type": "code",
      "metadata": {
        "id": "QdlTNKspWM57",
        "colab_type": "code",
        "outputId": "dd5fc942-f08b-4f91-fedb-83ea237c0c57",
        "colab": {
          "base_uri": "https://localhost:8080/",
          "height": 54
        }
      },
      "source": [
        "score5 =prediction_score(y5_test, y_Pred5, data_name = 'test set')"
      ],
      "execution_count": 0,
      "outputs": [
        {
          "output_type": "stream",
          "text": [
            "Classification accuracy score on the test set\n",
            "\n"
          ],
          "name": "stdout"
        }
      ]
    },
    {
      "cell_type": "code",
      "metadata": {
        "id": "8JN38SYSWM1Y",
        "colab_type": "code",
        "outputId": "d9ba635c-d508-4c0a-dfb3-3a511257c69a",
        "colab": {
          "base_uri": "https://localhost:8080/",
          "height": 54
        }
      },
      "source": [
        "score6 =prediction_score(y6_test, y_Pred6, data_name = 'test set')"
      ],
      "execution_count": 0,
      "outputs": [
        {
          "output_type": "stream",
          "text": [
            "Classification accuracy score on the test set\n",
            "\n"
          ],
          "name": "stdout"
        }
      ]
    },
    {
      "cell_type": "markdown",
      "metadata": {
        "id": "p_ZP7Tp-jIdX",
        "colab_type": "text"
      },
      "source": [
        "## ======================== Avg prediction score =========================\n",
        "\n",
        "*   List item\n",
        "\n"
      ]
    },
    {
      "cell_type": "code",
      "metadata": {
        "id": "LaoSKYT1fjRi",
        "colab_type": "code",
        "colab": {}
      },
      "source": [
        "all_score =[score1,score2,score3,score4,score5,score6,]"
      ],
      "execution_count": 0,
      "outputs": []
    },
    {
      "cell_type": "code",
      "metadata": {
        "id": "uKXxMj-a1EIZ",
        "colab_type": "code",
        "colab": {}
      },
      "source": [
        "def all_prediction_score_avg(all_score):\n",
        "  score = list()\n",
        "  \n",
        "  a1 = np.array(list(all_score[0].values()))\n",
        "  a2 = np.array(list(all_score[1].values()))\n",
        "  a3 = np.array(list(all_score[2].values()))\n",
        "  a4 = np.array(list(all_score[3].values()))\n",
        "  a5 = np.array(list(all_score[4].values()))\n",
        "  a6 = np.array(list(all_score[5].values()))\n",
        "  myresult = (a1+a2+a3+a4+a5+a6)/6\n",
        "  for i in myresult:\n",
        "    score.append(i)\n",
        "  mydict = {'Dos':score[0],'Normal':score[1],'Probe':score[2],\n",
        "        'R2L':score[3],'U2R':score[4]}\n",
        "  return mydict"
      ],
      "execution_count": 0,
      "outputs": []
    },
    {
      "cell_type": "code",
      "metadata": {
        "id": "GroRMatsi3BE",
        "colab_type": "code",
        "colab": {}
      },
      "source": [
        "result_dict = all_prediction_score_avg(all_score)"
      ],
      "execution_count": 0,
      "outputs": []
    },
    {
      "cell_type": "code",
      "metadata": {
        "id": "g32pp0TL4mXc",
        "colab_type": "code",
        "outputId": "4be944b2-57be-46cd-b1c7-82334017dd43",
        "colab": {
          "base_uri": "https://localhost:8080/",
          "height": 108
        }
      },
      "source": [
        "result_dict"
      ],
      "execution_count": 0,
      "outputs": [
        {
          "output_type": "execute_result",
          "data": {
            "text/plain": [
              "{'Dos': 97.48417208420112,\n",
              " 'Normal': 96.50131540190254,\n",
              " 'Probe': 98.49452050500769,\n",
              " 'R2L': 98.9249876038049,\n",
              " 'U2R': 99.85318480519489}"
            ]
          },
          "metadata": {
            "tags": []
          },
          "execution_count": 105
        }
      ]
    },
    {
      "cell_type": "markdown",
      "metadata": {
        "id": "-pe9kQg4hcOM",
        "colab_type": "text"
      },
      "source": [
        "# ======================== Validate the SVM model ========================="
      ]
    },
    {
      "cell_type": "code",
      "metadata": {
        "id": "nW2Z8H6ChZvv",
        "colab_type": "code",
        "colab": {}
      },
      "source": [
        "from sklearn.model_selection import cross_val_score\n",
        "expert =[5,2,1,0.5,0.2,0.1]\n",
        "Score = []\n",
        "for i in expert:\n",
        "  clf = SVC(kernel ='rbf',C = i,gamma= 'auto')\n",
        "  svm = OneVsRestClassifier(clf)\n",
        "  score = cross_val_score(svm, x7_valid, y7_valid,cv =10 )\n",
        "  Score.append(score)"
      ],
      "execution_count": 0,
      "outputs": []
    },
    {
      "cell_type": "code",
      "metadata": {
        "id": "wkqFClb3imbb",
        "colab_type": "code",
        "outputId": "b0b66631-7885-42de-8812-4aa6553e2f46",
        "colab": {
          "base_uri": "https://localhost:8080/",
          "height": 35
        }
      },
      "source": [
        "Accuracy = np.array(Score).mean()\n",
        "print(\"SVM model acuuracy: {}%\". format(float(round(Accuracy*100))))"
      ],
      "execution_count": 0,
      "outputs": [
        {
          "output_type": "stream",
          "text": [
            "SVM model acuuracy: 97.0%\n"
          ],
          "name": "stdout"
        }
      ]
    },
    {
      "cell_type": "markdown",
      "metadata": {
        "id": "zE3P5dq2mt3R",
        "colab_type": "text"
      },
      "source": [
        "# =========================== Knn Model ==========================="
      ]
    },
    {
      "cell_type": "code",
      "metadata": {
        "id": "vlTqIHbOZS2g",
        "colab_type": "code",
        "colab": {}
      },
      "source": [
        "from sklearn.neighbors import KNeighborsClassifier\n",
        "def Knn_model(X_train, y_train, X_test, data_name = 'traing set',neighbors = 1,no =1):\n",
        "  \n",
        "  k_nn = KNeighborsClassifier(n_neighbors=neighbors, algorithm = 'auto', p=2, metric='euclidean')\n",
        "  knn = OneVsRestClassifier(k_nn)\n",
        "  train=knn.fit(X_train,y_train)\n",
        "\n",
        "  yPred= train.predict(X_test)\n",
        "  y_Pred =pd.DataFrame(yPred, columns =['Dos','Normal', 'Probe', 'R2L','U2R'])\n",
        "  print(\"Knn_{} ,\".format(no) +  str(data_name) + \" , predict on the expert no {}\".format(neighbors))\n",
        "\n",
        "  print(\"Knn_{}  \".format(no)  +  \" Train on the expert no {}\".format(neighbors))\n",
        "  return y_Pred"
      ],
      "execution_count": 0,
      "outputs": []
    },
    {
      "cell_type": "code",
      "metadata": {
        "id": "M-XGhj6rauvV",
        "colab_type": "code",
        "outputId": "2653b16b-7c25-4b0a-eca7-1ec6b155e1ce",
        "colab": {
          "base_uri": "https://localhost:8080/",
          "height": 54
        }
      },
      "source": [
        "predict1 = Knn_model(X_train, y_train, x1_test, data_name = 'Data1',neighbors = 1,no =1)"
      ],
      "execution_count": 0,
      "outputs": [
        {
          "output_type": "stream",
          "text": [
            "Knn_1 ,Data1 , predict on the expert no 1\n",
            "Knn_1   Train on the expert no 1\n"
          ],
          "name": "stdout"
        }
      ]
    },
    {
      "cell_type": "code",
      "metadata": {
        "id": "yqkX3Qi6axuv",
        "colab_type": "code",
        "outputId": "a6cb4e13-e5cb-408c-f478-5cb714479cff",
        "colab": {
          "base_uri": "https://localhost:8080/",
          "height": 199
        }
      },
      "source": [
        "predict2 = Knn_model(X_train, y_train, x2_test, data_name = 'Data2',neighbors = 3,no =2)\n",
        "predict3 = Knn_model(X_train, y_train, x3_test, data_name = 'Data3',neighbors = 5,no =3)\n",
        "predict4 = Knn_model(X_train, y_train, x4_test, data_name = 'Data4',neighbors = 7,no =4)\n",
        "predict5 = Knn_model(X_train, y_train, x5_test, data_name = 'Data5',neighbors = 9,no =5)\n",
        "predict6 = Knn_model(X_train, y_train, x6_test, data_name = 'Data6',neighbors = 11,no =6)"
      ],
      "execution_count": 0,
      "outputs": [
        {
          "output_type": "stream",
          "text": [
            "Knn_2 ,Data2 , predict on the expert no 3\n",
            "Knn_2   Train on the expert no 3\n",
            "Knn_3 ,Data3 , predict on the expert no 5\n",
            "Knn_3   Train on the expert no 5\n",
            "Knn_4 ,Data4 , predict on the expert no 7\n",
            "Knn_4   Train on the expert no 7\n",
            "Knn_5 ,Data5 , predict on the expert no 9\n",
            "Knn_5   Train on the expert no 9\n",
            "Knn_6 ,Data6 , predict on the expert no 11\n",
            "Knn_6   Train on the expert no 11\n"
          ],
          "name": "stdout"
        }
      ]
    },
    {
      "cell_type": "code",
      "metadata": {
        "id": "D-zGEBveknd9",
        "colab_type": "code",
        "outputId": "1e0f8353-ce19-4c06-ec61-ef464a20c124",
        "colab": {
          "base_uri": "https://localhost:8080/",
          "height": 235
        }
      },
      "source": [
        "knn_pred_score1 = prediction_score(y1_test, predict1, data_name = 'test set')\n",
        "knn_pred_score2 = prediction_score(y2_test, predict2, data_name = 'test set')\n",
        "knn_pred_score3 = prediction_score(y3_test, predict3, data_name = 'test set')\n",
        "knn_pred_score4 = prediction_score(y4_test, predict4, data_name = 'test set')\n",
        "knn_pred_score5 = prediction_score(y5_test, predict5, data_name = 'test set')\n",
        "knn_pred_score6 = prediction_score(y6_test, predict6, data_name = 'test set')"
      ],
      "execution_count": 0,
      "outputs": [
        {
          "output_type": "stream",
          "text": [
            "Classification accuracy score on the test set\n",
            "\n",
            "Classification accuracy score on the test set\n",
            "\n",
            "Classification accuracy score on the test set\n",
            "\n",
            "Classification accuracy score on the test set\n",
            "\n",
            "Classification accuracy score on the test set\n",
            "\n",
            "Classification accuracy score on the test set\n",
            "\n"
          ],
          "name": "stdout"
        }
      ]
    },
    {
      "cell_type": "markdown",
      "metadata": {
        "id": "4VnooW1zlw9z",
        "colab_type": "text"
      },
      "source": [
        "##  ======================== Avg prediction Knn score ========================="
      ]
    },
    {
      "cell_type": "code",
      "metadata": {
        "id": "4DMz9JoSlaPw",
        "colab_type": "code",
        "colab": {}
      },
      "source": [
        "All_score = [knn_pred_score1,knn_pred_score2,knn_pred_score3,knn_pred_score4,knn_pred_score5,knn_pred_score6]"
      ],
      "execution_count": 0,
      "outputs": []
    },
    {
      "cell_type": "code",
      "metadata": {
        "id": "NqMvmBMlmaYc",
        "colab_type": "code",
        "colab": {}
      },
      "source": [
        "avg_accuracy_score = all_prediction_score_avg(All_score)"
      ],
      "execution_count": 0,
      "outputs": []
    },
    {
      "cell_type": "code",
      "metadata": {
        "id": "uQYlz9_zml5o",
        "colab_type": "code",
        "outputId": "5f628bf3-76e8-427f-817b-7d115ad8634c",
        "colab": {
          "base_uri": "https://localhost:8080/",
          "height": 108
        }
      },
      "source": [
        "avg_accuracy_score"
      ],
      "execution_count": 0,
      "outputs": [
        {
          "output_type": "execute_result",
          "data": {
            "text/plain": [
              "{'Dos': 97.54139418111016,\n",
              " 'Normal': 90.62839104469408,\n",
              " 'Probe': 96.79485736138254,\n",
              " 'R2L': 93.6343808558488,\n",
              " 'U2R': 99.83327242057892}"
            ]
          },
          "metadata": {
            "tags": []
          },
          "execution_count": 114
        }
      ]
    },
    {
      "cell_type": "markdown",
      "metadata": {
        "id": "ishtD_pmpFAG",
        "colab_type": "text"
      },
      "source": [
        "## ============================ Validate the model ============================"
      ]
    },
    {
      "cell_type": "code",
      "metadata": {
        "id": "IydB4_owYVOa",
        "colab_type": "code",
        "colab": {}
      },
      "source": [
        "from sklearn.model_selection import cross_val_score\n",
        "neighbors =[1,3,5,7,9,11]\n",
        "myScore = []\n",
        "for i in neighbors:\n",
        "  k_nn = KNeighborsClassifier(n_neighbors=i, algorithm = 'auto', p=2, metric='euclidean')\n",
        "  knn = OneVsRestClassifier(k_nn)\n",
        "  score = cross_val_score(knn, x7_valid, y7_valid,cv =10 )\n",
        "  myScore.append(score)"
      ],
      "execution_count": 0,
      "outputs": []
    },
    {
      "cell_type": "code",
      "metadata": {
        "id": "9olVQtOebMTV",
        "colab_type": "code",
        "outputId": "d8424877-926c-493f-9c2f-67af3f8d78d9",
        "colab": {
          "base_uri": "https://localhost:8080/",
          "height": 35
        }
      },
      "source": [
        "Accuracy = np.array(myScore).mean()\n",
        "print(\"Knn model acuuracy: {}%\". format(int(round(Accuracy*100))))"
      ],
      "execution_count": 0,
      "outputs": [
        {
          "output_type": "stream",
          "text": [
            "Knn model acuuracy: 97%\n"
          ],
          "name": "stdout"
        }
      ]
    },
    {
      "cell_type": "markdown",
      "metadata": {
        "id": "0M7Uj2o9xrjc",
        "colab_type": "text"
      },
      "source": [
        "## =============================== PSO ================================="
      ]
    },
    {
      "cell_type": "code",
      "metadata": {
        "id": "5zC7foAcxsMx",
        "colab_type": "code",
        "outputId": "ce422eac-88e7-4905-f0e2-a34c61307e66",
        "colab": {
          "base_uri": "https://localhost:8080/",
          "height": 346
        }
      },
      "source": [
        "! pip install pyswarms"
      ],
      "execution_count": 0,
      "outputs": [
        {
          "output_type": "stream",
          "text": [
            "Collecting pyswarms\n",
            "\u001b[?25l  Downloading https://files.pythonhosted.org/packages/0b/6f/42605c4e111a08a8fbaba953d0783c56ad2913ffa5959bdac53f649502a2/pyswarms-1.1.0-py2.py3-none-any.whl (96kB)\n",
            "\r\u001b[K     |███▍                            | 10kB 18.1MB/s eta 0:00:01\r\u001b[K     |██████▉                         | 20kB 1.7MB/s eta 0:00:01\r\u001b[K     |██████████▎                     | 30kB 2.5MB/s eta 0:00:01\r\u001b[K     |█████████████▋                  | 40kB 1.7MB/s eta 0:00:01\r\u001b[K     |█████████████████               | 51kB 2.1MB/s eta 0:00:01\r\u001b[K     |████████████████████▌           | 61kB 2.5MB/s eta 0:00:01\r\u001b[K     |███████████████████████▉        | 71kB 2.9MB/s eta 0:00:01\r\u001b[K     |███████████████████████████▎    | 81kB 3.3MB/s eta 0:00:01\r\u001b[K     |██████████████████████████████▊ | 92kB 3.6MB/s eta 0:00:01\r\u001b[K     |████████████████████████████████| 102kB 3.1MB/s \n",
            "\u001b[?25hRequirement already satisfied: future in /usr/local/lib/python3.6/dist-packages (from pyswarms) (0.16.0)\n",
            "Requirement already satisfied: numpy in /usr/local/lib/python3.6/dist-packages (from pyswarms) (1.17.4)\n",
            "Requirement already satisfied: scipy in /usr/local/lib/python3.6/dist-packages (from pyswarms) (1.3.2)\n",
            "Requirement already satisfied: tqdm in /usr/local/lib/python3.6/dist-packages (from pyswarms) (4.28.1)\n",
            "Requirement already satisfied: matplotlib>=1.3.1 in /usr/local/lib/python3.6/dist-packages (from pyswarms) (3.1.1)\n",
            "Requirement already satisfied: attrs in /usr/local/lib/python3.6/dist-packages (from pyswarms) (19.3.0)\n",
            "Requirement already satisfied: pyparsing!=2.0.4,!=2.1.2,!=2.1.6,>=2.0.1 in /usr/local/lib/python3.6/dist-packages (from matplotlib>=1.3.1->pyswarms) (2.4.5)\n",
            "Requirement already satisfied: cycler>=0.10 in /usr/local/lib/python3.6/dist-packages (from matplotlib>=1.3.1->pyswarms) (0.10.0)\n",
            "Requirement already satisfied: python-dateutil>=2.1 in /usr/local/lib/python3.6/dist-packages (from matplotlib>=1.3.1->pyswarms) (2.6.1)\n",
            "Requirement already satisfied: kiwisolver>=1.0.1 in /usr/local/lib/python3.6/dist-packages (from matplotlib>=1.3.1->pyswarms) (1.1.0)\n",
            "Requirement already satisfied: six in /usr/local/lib/python3.6/dist-packages (from cycler>=0.10->matplotlib>=1.3.1->pyswarms) (1.12.0)\n",
            "Requirement already satisfied: setuptools in /usr/local/lib/python3.6/dist-packages (from kiwisolver>=1.0.1->matplotlib>=1.3.1->pyswarms) (41.6.0)\n",
            "Installing collected packages: pyswarms\n",
            "Successfully installed pyswarms-1.1.0\n"
          ],
          "name": "stdout"
        }
      ]
    },
    {
      "cell_type": "code",
      "metadata": {
        "id": "M4WYyYZ_KAVP",
        "colab_type": "code",
        "outputId": "9e529702-1d6e-46e5-ff08-7e5b00721175",
        "colab": {
          "base_uri": "https://localhost:8080/",
          "height": 218
        }
      },
      "source": [
        "x7_valid.loc[0:,].values"
      ],
      "execution_count": 0,
      "outputs": [
        {
          "output_type": "execute_result",
          "data": {
            "text/html": [
              "<div>\n",
              "<style scoped>\n",
              "    .dataframe tbody tr th:only-of-type {\n",
              "        vertical-align: middle;\n",
              "    }\n",
              "\n",
              "    .dataframe tbody tr th {\n",
              "        vertical-align: top;\n",
              "    }\n",
              "\n",
              "    .dataframe thead th {\n",
              "        text-align: right;\n",
              "    }\n",
              "</style>\n",
              "<table border=\"1\" class=\"dataframe\">\n",
              "  <thead>\n",
              "    <tr style=\"text-align: right;\">\n",
              "      <th></th>\n",
              "      <th>duration</th>\n",
              "      <th>protocol_type</th>\n",
              "      <th>service</th>\n",
              "      <th>flag</th>\n",
              "      <th>dst_bytes</th>\n",
              "      <th>land</th>\n",
              "      <th>hot</th>\n",
              "      <th>root_shell</th>\n",
              "      <th>srv_count</th>\n",
              "      <th>rerror_rate</th>\n",
              "      <th>diff_srv_rate</th>\n",
              "      <th>srv_diff_host_rate</th>\n",
              "      <th>dst_host_srv_diff_host_rate</th>\n",
              "    </tr>\n",
              "  </thead>\n",
              "  <tbody>\n",
              "    <tr>\n",
              "      <th>0</th>\n",
              "      <td>0.0</td>\n",
              "      <td>0.5</td>\n",
              "      <td>0.322581</td>\n",
              "      <td>1.0</td>\n",
              "      <td>0.000407</td>\n",
              "      <td>0.0</td>\n",
              "      <td>0.0</td>\n",
              "      <td>0.0</td>\n",
              "      <td>0.035225</td>\n",
              "      <td>0.0</td>\n",
              "      <td>0.0</td>\n",
              "      <td>0.00</td>\n",
              "      <td>0.01</td>\n",
              "    </tr>\n",
              "    <tr>\n",
              "      <th>1</th>\n",
              "      <td>0.0</td>\n",
              "      <td>0.5</td>\n",
              "      <td>0.322581</td>\n",
              "      <td>1.0</td>\n",
              "      <td>0.013792</td>\n",
              "      <td>0.0</td>\n",
              "      <td>0.0</td>\n",
              "      <td>0.0</td>\n",
              "      <td>0.052838</td>\n",
              "      <td>0.0</td>\n",
              "      <td>0.0</td>\n",
              "      <td>0.07</td>\n",
              "      <td>0.05</td>\n",
              "    </tr>\n",
              "    <tr>\n",
              "      <th>2</th>\n",
              "      <td>0.0</td>\n",
              "      <td>0.5</td>\n",
              "      <td>0.322581</td>\n",
              "      <td>1.0</td>\n",
              "      <td>0.000692</td>\n",
              "      <td>0.0</td>\n",
              "      <td>0.0</td>\n",
              "      <td>0.0</td>\n",
              "      <td>0.041096</td>\n",
              "      <td>0.0</td>\n",
              "      <td>0.0</td>\n",
              "      <td>0.14</td>\n",
              "      <td>0.05</td>\n",
              "    </tr>\n",
              "    <tr>\n",
              "      <th>3</th>\n",
              "      <td>0.0</td>\n",
              "      <td>0.5</td>\n",
              "      <td>0.322581</td>\n",
              "      <td>1.0</td>\n",
              "      <td>0.000973</td>\n",
              "      <td>0.0</td>\n",
              "      <td>0.0</td>\n",
              "      <td>0.0</td>\n",
              "      <td>0.031311</td>\n",
              "      <td>0.0</td>\n",
              "      <td>0.0</td>\n",
              "      <td>0.00</td>\n",
              "      <td>0.02</td>\n",
              "    </tr>\n",
              "    <tr>\n",
              "      <th>4</th>\n",
              "      <td>0.0</td>\n",
              "      <td>0.5</td>\n",
              "      <td>0.322581</td>\n",
              "      <td>1.0</td>\n",
              "      <td>0.000464</td>\n",
              "      <td>0.0</td>\n",
              "      <td>0.0</td>\n",
              "      <td>0.0</td>\n",
              "      <td>0.009785</td>\n",
              "      <td>0.0</td>\n",
              "      <td>0.0</td>\n",
              "      <td>0.00</td>\n",
              "      <td>0.03</td>\n",
              "    </tr>\n",
              "  </tbody>\n",
              "</table>\n",
              "</div>"
            ],
            "text/plain": [
              "   duration  protocol_type  ...  srv_diff_host_rate  dst_host_srv_diff_host_rate\n",
              "0       0.0            0.5  ...                0.00                         0.01\n",
              "1       0.0            0.5  ...                0.07                         0.05\n",
              "2       0.0            0.5  ...                0.14                         0.05\n",
              "3       0.0            0.5  ...                0.00                         0.02\n",
              "4       0.0            0.5  ...                0.00                         0.03\n",
              "\n",
              "[5 rows x 13 columns]"
            ]
          },
          "metadata": {
            "tags": []
          },
          "execution_count": 132
        }
      ]
    },
    {
      "cell_type": "code",
      "metadata": {
        "id": "RQaWAeD3U0VF",
        "colab_type": "code",
        "colab": {}
      },
      "source": [
        "x_max = 10 * np.ones(5)\n",
        "x_min = -1 * x_max\n",
        "bounds = (x_min, x_max)"
      ],
      "execution_count": 0,
      "outputs": []
    },
    {
      "cell_type": "code",
      "metadata": {
        "id": "Xe3BIjDhU5u6",
        "colab_type": "code",
        "outputId": "0f373a87-494a-42a5-d0d2-12034a2e137c",
        "colab": {
          "base_uri": "https://localhost:8080/",
          "height": 35
        }
      },
      "source": [
        "bounds"
      ],
      "execution_count": 0,
      "outputs": [
        {
          "output_type": "execute_result",
          "data": {
            "text/plain": [
              "(array([-10., -10., -10., -10., -10.]), array([10., 10., 10., 10., 10.]))"
            ]
          },
          "metadata": {
            "tags": []
          },
          "execution_count": 147
        }
      ]
    },
    {
      "cell_type": "code",
      "metadata": {
        "id": "0Xygum-p2Xui",
        "colab_type": "code",
        "outputId": "cb3082d5-830f-4bec-93be-69a0bc5b8282",
        "colab": {
          "base_uri": "https://localhost:8080/",
          "height": 1000
        }
      },
      "source": [
        "import pyswarms as ps\n",
        "from pyswarms.utils.functions import single_obj as fx\n",
        "#from pyswarms.utils.environments import PlotEnvironment\n",
        "%load_ext autoreload\n",
        "%autoreload 2\n",
        "options = {'c1': 0.8, 'c2': 0.6, 'w':0.9}\n",
        "optimizer = ps.single.GlobalBestPSO(n_particles=x7_valid.shape[0],dimensions=x7_valid.shape[1], options=options)\n",
        "cost, pos = optimizer.optimize(fx.sphere, iters=1000)\n"
      ],
      "execution_count": 0,
      "outputs": [
        {
          "output_type": "stream",
          "text": [
            "The autoreload extension is already loaded. To reload it, use:\n",
            "  %reload_ext autoreload\n"
          ],
          "name": "stdout"
        },
        {
          "output_type": "stream",
          "text": [
            "2019-11-20 05:45:15,044 - pyswarms.single.global_best - INFO - Optimize for 1000 iters with {'c1': 0.8, 'c2': 0.6, 'w': 0.9}\n",
            "\n",
            "\n",
            "pyswarms.single.global_best:   0%|          |0/1000\u001b[A\u001b[A\n",
            "\n",
            "pyswarms.single.global_best:   0%|          |0/1000, best_cost=1.12\u001b[A\u001b[A\n",
            "\n",
            "pyswarms.single.global_best:   0%|          |0/1000, best_cost=1.12\u001b[A\u001b[A\n",
            "\n",
            "pyswarms.single.global_best:   0%|          |0/1000, best_cost=1.12\u001b[A\u001b[A\n",
            "\n",
            "pyswarms.single.global_best:   0%|          |0/1000, best_cost=1.12\u001b[A\u001b[A\n",
            "\n",
            "pyswarms.single.global_best:   0%|          |4/1000, best_cost=1.12\u001b[A\u001b[A\n",
            "\n",
            "pyswarms.single.global_best:   0%|          |4/1000, best_cost=0.185\u001b[A\u001b[A\n",
            "\n",
            "pyswarms.single.global_best:   0%|          |4/1000, best_cost=0.185\u001b[A\u001b[A\n",
            "\n",
            "pyswarms.single.global_best:   0%|          |4/1000, best_cost=0.185\u001b[A\u001b[A\n",
            "\n",
            "pyswarms.single.global_best:   0%|          |4/1000, best_cost=0.177\u001b[A\u001b[A\n",
            "\n",
            "pyswarms.single.global_best:   0%|          |4/1000, best_cost=0.138\u001b[A\u001b[A\n",
            "\n",
            "pyswarms.single.global_best:   0%|          |4/1000, best_cost=0.138\u001b[A\u001b[A\n",
            "\n",
            "pyswarms.single.global_best:   0%|          |4/1000, best_cost=0.134\u001b[A\u001b[A\n",
            "\n",
            "pyswarms.single.global_best:   0%|          |4/1000, best_cost=0.102\u001b[A\u001b[A\n",
            "\n",
            "pyswarms.single.global_best:   0%|          |4/1000, best_cost=0.0812\u001b[A\u001b[A\n",
            "\n",
            "pyswarms.single.global_best:   0%|          |4/1000, best_cost=0.0762\u001b[A\u001b[A\n",
            "\n",
            "pyswarms.single.global_best:   0%|          |4/1000, best_cost=0.0669\u001b[A\u001b[A\n",
            "\n",
            "pyswarms.single.global_best:   0%|          |4/1000, best_cost=0.0334\u001b[A\u001b[A\n",
            "\n",
            "pyswarms.single.global_best:   2%|▏         |16/1000, best_cost=0.0334\u001b[A\u001b[A\n",
            "\n",
            "pyswarms.single.global_best:   2%|▏         |16/1000, best_cost=0.0267\u001b[A\u001b[A\n",
            "\n",
            "pyswarms.single.global_best:   2%|▏         |16/1000, best_cost=0.0225\u001b[A\u001b[A\n",
            "\n",
            "pyswarms.single.global_best:   2%|▏         |16/1000, best_cost=0.0203\u001b[A\u001b[A\n",
            "\n",
            "pyswarms.single.global_best:   2%|▏         |16/1000, best_cost=0.0168\u001b[A\u001b[A\n",
            "\n",
            "pyswarms.single.global_best:   2%|▏         |16/1000, best_cost=0.0141\u001b[A\u001b[A\n",
            "\n",
            "pyswarms.single.global_best:   2%|▏         |16/1000, best_cost=0.0132\u001b[A\u001b[A\n",
            "\n",
            "pyswarms.single.global_best:   2%|▏         |16/1000, best_cost=0.0132\u001b[A\u001b[A\n",
            "\n",
            "pyswarms.single.global_best:   2%|▏         |16/1000, best_cost=0.0059\u001b[A\u001b[A\n",
            "\n",
            "pyswarms.single.global_best:   2%|▏         |16/1000, best_cost=0.0059\u001b[A\u001b[A\n",
            "\n",
            "pyswarms.single.global_best:   2%|▏         |16/1000, best_cost=0.0059\u001b[A\u001b[A\n",
            "\n",
            "pyswarms.single.global_best:   2%|▏         |16/1000, best_cost=0.00529\u001b[A\u001b[A\n",
            "\n",
            "pyswarms.single.global_best:   2%|▏         |16/1000, best_cost=0.00529\u001b[A\u001b[A\n",
            "\n",
            "pyswarms.single.global_best:   3%|▎         |28/1000, best_cost=0.00529\u001b[A\u001b[A\n",
            "\n",
            "pyswarms.single.global_best:   3%|▎         |28/1000, best_cost=0.00529\u001b[A\u001b[A\n",
            "\n",
            "pyswarms.single.global_best:   3%|▎         |28/1000, best_cost=0.00476\u001b[A\u001b[A\n",
            "\n",
            "pyswarms.single.global_best:   3%|▎         |28/1000, best_cost=0.00378\u001b[A\u001b[A\n",
            "\n",
            "pyswarms.single.global_best:   3%|▎         |28/1000, best_cost=0.00378\u001b[A\u001b[A\n",
            "\n",
            "pyswarms.single.global_best:   3%|▎         |28/1000, best_cost=0.00308\u001b[A\u001b[A\n",
            "\n",
            "pyswarms.single.global_best:   3%|▎         |28/1000, best_cost=0.00224\u001b[A\u001b[A\n",
            "\n",
            "pyswarms.single.global_best:   3%|▎         |28/1000, best_cost=0.00224\u001b[A\u001b[A\n",
            "\n",
            "pyswarms.single.global_best:   3%|▎         |28/1000, best_cost=0.00224\u001b[A\u001b[A\n",
            "\n",
            "pyswarms.single.global_best:   3%|▎         |28/1000, best_cost=0.00197\u001b[A\u001b[A\n",
            "\n",
            "pyswarms.single.global_best:   3%|▎         |28/1000, best_cost=0.00197\u001b[A\u001b[A\n",
            "\n",
            "pyswarms.single.global_best:   3%|▎         |28/1000, best_cost=0.000999\u001b[A\u001b[A\n",
            "\n",
            "pyswarms.single.global_best:   3%|▎         |28/1000, best_cost=0.000945\u001b[A\u001b[A\n",
            "\n",
            "pyswarms.single.global_best:   3%|▎         |28/1000, best_cost=0.000622\u001b[A\u001b[A\n",
            "\n",
            "pyswarms.single.global_best:   4%|▍         |41/1000, best_cost=0.000622\u001b[A\u001b[A\n",
            "\n",
            "pyswarms.single.global_best:   4%|▍         |41/1000, best_cost=0.000622\u001b[A\u001b[A\n",
            "\n",
            "pyswarms.single.global_best:   4%|▍         |41/1000, best_cost=0.000622\u001b[A\u001b[A\n",
            "\n",
            "pyswarms.single.global_best:   4%|▍         |41/1000, best_cost=0.000622\u001b[A\u001b[A\n",
            "\n",
            "pyswarms.single.global_best:   4%|▍         |41/1000, best_cost=0.000517\u001b[A\u001b[A\n",
            "\n",
            "pyswarms.single.global_best:   4%|▍         |41/1000, best_cost=0.000517\u001b[A\u001b[A\n",
            "\n",
            "pyswarms.single.global_best:   4%|▍         |41/1000, best_cost=0.000517\u001b[A\u001b[A\n",
            "\n",
            "pyswarms.single.global_best:   4%|▍         |41/1000, best_cost=0.000214\u001b[A\u001b[A\n",
            "\n",
            "pyswarms.single.global_best:   4%|▍         |41/1000, best_cost=0.000214\u001b[A\u001b[A\n",
            "\n",
            "pyswarms.single.global_best:   4%|▍         |41/1000, best_cost=0.000211\u001b[A\u001b[A\n",
            "\n",
            "pyswarms.single.global_best:   4%|▍         |41/1000, best_cost=0.000211\u001b[A\u001b[A\n",
            "\n",
            "pyswarms.single.global_best:   4%|▍         |41/1000, best_cost=0.000211\u001b[A\u001b[A\n",
            "\n",
            "pyswarms.single.global_best:   4%|▍         |41/1000, best_cost=0.000163\u001b[A\u001b[A\n",
            "\n",
            "pyswarms.single.global_best:   5%|▌         |53/1000, best_cost=0.000163\u001b[A\u001b[A\n",
            "\n",
            "pyswarms.single.global_best:   5%|▌         |53/1000, best_cost=0.000139\u001b[A\u001b[A\n",
            "\n",
            "pyswarms.single.global_best:   5%|▌         |53/1000, best_cost=0.000121\u001b[A\u001b[A\n",
            "\n",
            "pyswarms.single.global_best:   5%|▌         |53/1000, best_cost=0.000113\u001b[A\u001b[A\n",
            "\n",
            "pyswarms.single.global_best:   5%|▌         |53/1000, best_cost=6.55e-5 \u001b[A\u001b[A\n",
            "\n",
            "pyswarms.single.global_best:   5%|▌         |53/1000, best_cost=6.55e-5\u001b[A\u001b[A\n",
            "\n",
            "pyswarms.single.global_best:   5%|▌         |53/1000, best_cost=6.55e-5\u001b[A\u001b[A\n",
            "\n",
            "pyswarms.single.global_best:   5%|▌         |53/1000, best_cost=4.2e-5 \u001b[A\u001b[A\n",
            "\n",
            "pyswarms.single.global_best:   5%|▌         |53/1000, best_cost=4.2e-5\u001b[A\u001b[A\n",
            "\n",
            "pyswarms.single.global_best:   5%|▌         |53/1000, best_cost=3.81e-5\u001b[A\u001b[A\n",
            "\n",
            "pyswarms.single.global_best:   5%|▌         |53/1000, best_cost=2.64e-5\u001b[A\u001b[A\n",
            "\n",
            "pyswarms.single.global_best:   5%|▌         |53/1000, best_cost=2.11e-5\u001b[A\u001b[A\n",
            "\n",
            "pyswarms.single.global_best:   5%|▌         |53/1000, best_cost=2.11e-5\u001b[A\u001b[A\n",
            "\n",
            "pyswarms.single.global_best:   6%|▋         |65/1000, best_cost=2.11e-5\u001b[A\u001b[A\n",
            "\n",
            "pyswarms.single.global_best:   6%|▋         |65/1000, best_cost=2.11e-5\u001b[A\u001b[A\n",
            "\n",
            "pyswarms.single.global_best:   6%|▋         |65/1000, best_cost=2.11e-5\u001b[A\u001b[A\n",
            "\n",
            "pyswarms.single.global_best:   6%|▋         |65/1000, best_cost=2.11e-5\u001b[A\u001b[A\n",
            "\n",
            "pyswarms.single.global_best:   6%|▋         |65/1000, best_cost=2.02e-5\u001b[A\u001b[A\n",
            "\n",
            "pyswarms.single.global_best:   6%|▋         |65/1000, best_cost=2.02e-5\u001b[A\u001b[A\n",
            "\n",
            "pyswarms.single.global_best:   6%|▋         |65/1000, best_cost=1.65e-5\u001b[A\u001b[A\n",
            "\n",
            "pyswarms.single.global_best:   6%|▋         |65/1000, best_cost=6.56e-6\u001b[A\u001b[A\n",
            "\n",
            "pyswarms.single.global_best:   6%|▋         |65/1000, best_cost=6.56e-6\u001b[A\u001b[A\n",
            "\n",
            "pyswarms.single.global_best:   6%|▋         |65/1000, best_cost=6.56e-6\u001b[A\u001b[A\n",
            "\n",
            "pyswarms.single.global_best:   6%|▋         |65/1000, best_cost=6.56e-6\u001b[A\u001b[A\n",
            "\n",
            "pyswarms.single.global_best:   6%|▋         |65/1000, best_cost=6.56e-6\u001b[A\u001b[A\n",
            "\n",
            "pyswarms.single.global_best:   6%|▋         |65/1000, best_cost=6.56e-6\u001b[A\u001b[A\n",
            "\n",
            "pyswarms.single.global_best:   6%|▋         |65/1000, best_cost=6.56e-6\u001b[A\u001b[A\n",
            "\n",
            "pyswarms.single.global_best:   8%|▊         |78/1000, best_cost=6.56e-6\u001b[A\u001b[A\n",
            "\n",
            "pyswarms.single.global_best:   8%|▊         |78/1000, best_cost=4.66e-6\u001b[A\u001b[A\n",
            "\n",
            "pyswarms.single.global_best:   8%|▊         |78/1000, best_cost=4.66e-6\u001b[A\u001b[A\n",
            "\n",
            "pyswarms.single.global_best:   8%|▊         |78/1000, best_cost=2.27e-6\u001b[A\u001b[A\n",
            "\n",
            "pyswarms.single.global_best:   8%|▊         |78/1000, best_cost=2.27e-6\u001b[A\u001b[A\n",
            "\n",
            "pyswarms.single.global_best:   8%|▊         |78/1000, best_cost=2.27e-6\u001b[A\u001b[A\n",
            "\n",
            "pyswarms.single.global_best:   8%|▊         |78/1000, best_cost=2.27e-6\u001b[A\u001b[A\n",
            "\n",
            "pyswarms.single.global_best:   8%|▊         |78/1000, best_cost=2.27e-6\u001b[A\u001b[A\n",
            "\n",
            "pyswarms.single.global_best:   8%|▊         |78/1000, best_cost=2.27e-6\u001b[A\u001b[A\n",
            "\n",
            "pyswarms.single.global_best:   8%|▊         |78/1000, best_cost=1.6e-6 \u001b[A\u001b[A\n",
            "\n",
            "pyswarms.single.global_best:   8%|▊         |78/1000, best_cost=1.6e-6\u001b[A\u001b[A\n",
            "\n",
            "pyswarms.single.global_best:   8%|▊         |78/1000, best_cost=1.6e-6\u001b[A\u001b[A\n",
            "\n",
            "pyswarms.single.global_best:   8%|▊         |78/1000, best_cost=1.6e-6\u001b[A\u001b[A\n",
            "\n",
            "pyswarms.single.global_best:   8%|▊         |78/1000, best_cost=1.6e-6\u001b[A\u001b[A\n",
            "\n",
            "pyswarms.single.global_best:   9%|▉         |91/1000, best_cost=1.6e-6\u001b[A\u001b[A\n",
            "\n",
            "pyswarms.single.global_best:   9%|▉         |91/1000, best_cost=9.52e-7\u001b[A\u001b[A\n",
            "\n",
            "pyswarms.single.global_best:   9%|▉         |91/1000, best_cost=9.52e-7\u001b[A\u001b[A\n",
            "\n",
            "pyswarms.single.global_best:   9%|▉         |91/1000, best_cost=8.86e-7\u001b[A\u001b[A\n",
            "\n",
            "pyswarms.single.global_best:   9%|▉         |91/1000, best_cost=8.27e-7\u001b[A\u001b[A\n",
            "\n",
            "pyswarms.single.global_best:   9%|▉         |91/1000, best_cost=8.27e-7\u001b[A\u001b[A\n",
            "\n",
            "pyswarms.single.global_best:   9%|▉         |91/1000, best_cost=7.63e-7\u001b[A\u001b[A\n",
            "\n",
            "pyswarms.single.global_best:   9%|▉         |91/1000, best_cost=6.6e-7 \u001b[A\u001b[A\n",
            "\n",
            "pyswarms.single.global_best:   9%|▉         |91/1000, best_cost=6.6e-7\u001b[A\u001b[A\n",
            "\n",
            "pyswarms.single.global_best:   9%|▉         |91/1000, best_cost=6.16e-7\u001b[A\u001b[A\n",
            "\n",
            "pyswarms.single.global_best:   9%|▉         |91/1000, best_cost=5.33e-7\u001b[A\u001b[A\n",
            "\n",
            "pyswarms.single.global_best:   9%|▉         |91/1000, best_cost=5.33e-7\u001b[A\u001b[A\n",
            "\n",
            "pyswarms.single.global_best:   9%|▉         |91/1000, best_cost=5.21e-7\u001b[A\u001b[A\n",
            "\n",
            "pyswarms.single.global_best:   9%|▉         |91/1000, best_cost=3.13e-7\u001b[A\u001b[A\n",
            "\n",
            "pyswarms.single.global_best:   9%|▉         |91/1000, best_cost=3.13e-7\u001b[A\u001b[A\n",
            "\n",
            "pyswarms.single.global_best:  10%|█         |105/1000, best_cost=3.13e-7\u001b[A\u001b[A\n",
            "\n",
            "pyswarms.single.global_best:  10%|█         |105/1000, best_cost=1.77e-7\u001b[A\u001b[A\n",
            "\n",
            "pyswarms.single.global_best:  10%|█         |105/1000, best_cost=1.77e-7\u001b[A\u001b[A\n",
            "\n",
            "pyswarms.single.global_best:  10%|█         |105/1000, best_cost=1.77e-7\u001b[A\u001b[A\n",
            "\n",
            "pyswarms.single.global_best:  10%|█         |105/1000, best_cost=1.77e-7\u001b[A\u001b[A\n",
            "\n",
            "pyswarms.single.global_best:  10%|█         |105/1000, best_cost=1.77e-7\u001b[A\u001b[A\n",
            "\n",
            "pyswarms.single.global_best:  10%|█         |105/1000, best_cost=1.74e-7\u001b[A\u001b[A\n",
            "\n",
            "pyswarms.single.global_best:  10%|█         |105/1000, best_cost=1.74e-7\u001b[A\u001b[A\n",
            "\n",
            "pyswarms.single.global_best:  10%|█         |105/1000, best_cost=1.74e-7\u001b[A\u001b[A\n",
            "\n",
            "pyswarms.single.global_best:  10%|█         |105/1000, best_cost=1.53e-7\u001b[A\u001b[A\n",
            "\n",
            "pyswarms.single.global_best:  10%|█         |105/1000, best_cost=1.53e-7\u001b[A\u001b[A\n",
            "\n",
            "pyswarms.single.global_best:  10%|█         |105/1000, best_cost=9.53e-8\u001b[A\u001b[A\n",
            "\n",
            "pyswarms.single.global_best:  10%|█         |105/1000, best_cost=9.53e-8\u001b[A\u001b[A\n",
            "\n",
            "pyswarms.single.global_best:  12%|█▏        |117/1000, best_cost=9.53e-8\u001b[A\u001b[A\n",
            "\n",
            "pyswarms.single.global_best:  12%|█▏        |117/1000, best_cost=9.53e-8\u001b[A\u001b[A\n",
            "\n",
            "pyswarms.single.global_best:  12%|█▏        |117/1000, best_cost=8.46e-8\u001b[A\u001b[A\n",
            "\n",
            "pyswarms.single.global_best:  12%|█▏        |117/1000, best_cost=8.46e-8\u001b[A\u001b[A\n",
            "\n",
            "pyswarms.single.global_best:  12%|█▏        |117/1000, best_cost=8.46e-8\u001b[A\u001b[A\n",
            "\n",
            "pyswarms.single.global_best:  12%|█▏        |117/1000, best_cost=7.85e-8\u001b[A\u001b[A\n",
            "\n",
            "pyswarms.single.global_best:  12%|█▏        |117/1000, best_cost=7.85e-8\u001b[A\u001b[A\n",
            "\n",
            "pyswarms.single.global_best:  12%|█▏        |117/1000, best_cost=6.88e-8\u001b[A\u001b[A\n",
            "\n",
            "pyswarms.single.global_best:  12%|█▏        |117/1000, best_cost=6.15e-8\u001b[A\u001b[A\n",
            "\n",
            "pyswarms.single.global_best:  12%|█▏        |117/1000, best_cost=4.1e-8 \u001b[A\u001b[A\n",
            "\n",
            "pyswarms.single.global_best:  12%|█▏        |117/1000, best_cost=4.1e-8\u001b[A\u001b[A\n",
            "\n",
            "pyswarms.single.global_best:  12%|█▏        |117/1000, best_cost=4.1e-8\u001b[A\u001b[A\n",
            "\n",
            "pyswarms.single.global_best:  12%|█▏        |117/1000, best_cost=3.48e-8\u001b[A\u001b[A\n",
            "\n",
            "pyswarms.single.global_best:  12%|█▏        |117/1000, best_cost=3.32e-8\u001b[A\u001b[A\n",
            "\n",
            "pyswarms.single.global_best:  13%|█▎        |130/1000, best_cost=3.32e-8\u001b[A\u001b[A\n",
            "\n",
            "pyswarms.single.global_best:  13%|█▎        |130/1000, best_cost=1.47e-8\u001b[A\u001b[A\n",
            "\n",
            "pyswarms.single.global_best:  13%|█▎        |130/1000, best_cost=1.33e-8\u001b[A\u001b[A\n",
            "\n",
            "pyswarms.single.global_best:  13%|█▎        |130/1000, best_cost=1.33e-8\u001b[A\u001b[A\n",
            "\n",
            "pyswarms.single.global_best:  13%|█▎        |130/1000, best_cost=1.17e-8\u001b[A\u001b[A\n",
            "\n",
            "pyswarms.single.global_best:  13%|█▎        |130/1000, best_cost=8.36e-9\u001b[A\u001b[A\n",
            "\n",
            "pyswarms.single.global_best:  13%|█▎        |130/1000, best_cost=8.36e-9\u001b[A\u001b[A\n",
            "\n",
            "pyswarms.single.global_best:  13%|█▎        |130/1000, best_cost=8.36e-9\u001b[A\u001b[A\n",
            "\n",
            "pyswarms.single.global_best:  13%|█▎        |130/1000, best_cost=5.51e-9\u001b[A\u001b[A\n",
            "\n",
            "pyswarms.single.global_best:  13%|█▎        |130/1000, best_cost=5.51e-9\u001b[A\u001b[A\n",
            "\n",
            "pyswarms.single.global_best:  13%|█▎        |130/1000, best_cost=5.29e-9\u001b[A\u001b[A\n",
            "\n",
            "pyswarms.single.global_best:  13%|█▎        |130/1000, best_cost=5.29e-9\u001b[A\u001b[A\n",
            "\n",
            "pyswarms.single.global_best:  13%|█▎        |130/1000, best_cost=3.6e-9 \u001b[A\u001b[A\n",
            "\n",
            "pyswarms.single.global_best:  14%|█▍        |142/1000, best_cost=3.6e-9\u001b[A\u001b[A\n",
            "\n",
            "pyswarms.single.global_best:  14%|█▍        |142/1000, best_cost=3.6e-9\u001b[A\u001b[A\n",
            "\n",
            "pyswarms.single.global_best:  14%|█▍        |142/1000, best_cost=2.77e-9\u001b[A\u001b[A\n",
            "\n",
            "pyswarms.single.global_best:  14%|█▍        |142/1000, best_cost=2.7e-9 \u001b[A\u001b[A\n",
            "\n",
            "pyswarms.single.global_best:  14%|█▍        |142/1000, best_cost=2.7e-9\u001b[A\u001b[A\n",
            "\n",
            "pyswarms.single.global_best:  14%|█▍        |142/1000, best_cost=2.7e-9\u001b[A\u001b[A\n",
            "\n",
            "pyswarms.single.global_best:  14%|█▍        |142/1000, best_cost=2.7e-9\u001b[A\u001b[A\n",
            "\n",
            "pyswarms.single.global_best:  14%|█▍        |142/1000, best_cost=2.7e-9\u001b[A\u001b[A\n",
            "\n",
            "pyswarms.single.global_best:  14%|█▍        |142/1000, best_cost=2.47e-9\u001b[A\u001b[A\n",
            "\n",
            "pyswarms.single.global_best:  14%|█▍        |142/1000, best_cost=2.47e-9\u001b[A\u001b[A\n",
            "\n",
            "pyswarms.single.global_best:  14%|█▍        |142/1000, best_cost=2.47e-9\u001b[A\u001b[A\n",
            "\n",
            "pyswarms.single.global_best:  14%|█▍        |142/1000, best_cost=2.27e-9\u001b[A\u001b[A\n",
            "\n",
            "pyswarms.single.global_best:  14%|█▍        |142/1000, best_cost=2.27e-9\u001b[A\u001b[A\n",
            "\n",
            "pyswarms.single.global_best:  15%|█▌        |154/1000, best_cost=2.27e-9\u001b[A\u001b[A\n",
            "\n",
            "pyswarms.single.global_best:  15%|█▌        |154/1000, best_cost=2.27e-9\u001b[A\u001b[A\n",
            "\n",
            "pyswarms.single.global_best:  15%|█▌        |154/1000, best_cost=2.27e-9\u001b[A\u001b[A\n",
            "\n",
            "pyswarms.single.global_best:  15%|█▌        |154/1000, best_cost=2.27e-9\u001b[A\u001b[A\n",
            "\n",
            "pyswarms.single.global_best:  15%|█▌        |154/1000, best_cost=2.27e-9\u001b[A\u001b[A\n",
            "\n",
            "pyswarms.single.global_best:  15%|█▌        |154/1000, best_cost=2.27e-9\u001b[A\u001b[A\n",
            "\n",
            "pyswarms.single.global_best:  15%|█▌        |154/1000, best_cost=2.12e-9\u001b[A\u001b[A\n",
            "\n",
            "pyswarms.single.global_best:  15%|█▌        |154/1000, best_cost=1.84e-9\u001b[A\u001b[A\n",
            "\n",
            "pyswarms.single.global_best:  15%|█▌        |154/1000, best_cost=1.82e-9\u001b[A\u001b[A\n",
            "\n",
            "pyswarms.single.global_best:  15%|█▌        |154/1000, best_cost=1.41e-9\u001b[A\u001b[A\n",
            "\n",
            "pyswarms.single.global_best:  15%|█▌        |154/1000, best_cost=1.18e-9\u001b[A\u001b[A\n",
            "\n",
            "pyswarms.single.global_best:  15%|█▌        |154/1000, best_cost=1.09e-9\u001b[A\u001b[A\n",
            "\n",
            "pyswarms.single.global_best:  15%|█▌        |154/1000, best_cost=9.11e-10\u001b[A\u001b[A\n",
            "\n",
            "pyswarms.single.global_best:  15%|█▌        |154/1000, best_cost=7.62e-10\u001b[A\u001b[A\n",
            "\n",
            "pyswarms.single.global_best:  15%|█▌        |154/1000, best_cost=5.44e-10\u001b[A\u001b[A\n",
            "\n",
            "pyswarms.single.global_best:  17%|█▋        |168/1000, best_cost=5.44e-10\u001b[A\u001b[A\n",
            "\n",
            "pyswarms.single.global_best:  17%|█▋        |168/1000, best_cost=4.81e-10\u001b[A\u001b[A\n",
            "\n",
            "pyswarms.single.global_best:  17%|█▋        |168/1000, best_cost=2.32e-10\u001b[A\u001b[A\n",
            "\n",
            "pyswarms.single.global_best:  17%|█▋        |168/1000, best_cost=2.32e-10\u001b[A\u001b[A\n",
            "\n",
            "pyswarms.single.global_best:  17%|█▋        |168/1000, best_cost=2.32e-10\u001b[A\u001b[A\n",
            "\n",
            "pyswarms.single.global_best:  17%|█▋        |168/1000, best_cost=2.32e-10\u001b[A\u001b[A\n",
            "\n",
            "pyswarms.single.global_best:  17%|█▋        |168/1000, best_cost=2.32e-10\u001b[A\u001b[A\n",
            "\n",
            "pyswarms.single.global_best:  17%|█▋        |168/1000, best_cost=2.05e-10\u001b[A\u001b[A\n",
            "\n",
            "pyswarms.single.global_best:  17%|█▋        |168/1000, best_cost=2.05e-10\u001b[A\u001b[A\n",
            "\n",
            "pyswarms.single.global_best:  17%|█▋        |168/1000, best_cost=1.67e-10\u001b[A\u001b[A\n",
            "\n",
            "pyswarms.single.global_best:  17%|█▋        |168/1000, best_cost=1.67e-10\u001b[A\u001b[A\n",
            "\n",
            "pyswarms.single.global_best:  17%|█▋        |168/1000, best_cost=1.67e-10\u001b[A\u001b[A\n",
            "\n",
            "pyswarms.single.global_best:  17%|█▋        |168/1000, best_cost=9.76e-11\u001b[A\u001b[A\n",
            "\n",
            "pyswarms.single.global_best:  17%|█▋        |168/1000, best_cost=9.76e-11\u001b[A\u001b[A\n",
            "\n",
            "pyswarms.single.global_best:  18%|█▊        |181/1000, best_cost=9.76e-11\u001b[A\u001b[A\n",
            "\n",
            "pyswarms.single.global_best:  18%|█▊        |181/1000, best_cost=9.76e-11\u001b[A\u001b[A\n",
            "\n",
            "pyswarms.single.global_best:  18%|█▊        |181/1000, best_cost=9.76e-11\u001b[A\u001b[A\n",
            "\n",
            "pyswarms.single.global_best:  18%|█▊        |181/1000, best_cost=5.39e-11\u001b[A\u001b[A\n",
            "\n",
            "pyswarms.single.global_best:  18%|█▊        |181/1000, best_cost=5.39e-11\u001b[A\u001b[A\n",
            "\n",
            "pyswarms.single.global_best:  18%|█▊        |181/1000, best_cost=5.39e-11\u001b[A\u001b[A\n",
            "\n",
            "pyswarms.single.global_best:  18%|█▊        |181/1000, best_cost=5.34e-11\u001b[A\u001b[A\n",
            "\n",
            "pyswarms.single.global_best:  18%|█▊        |181/1000, best_cost=4.86e-11\u001b[A\u001b[A\n",
            "\n",
            "pyswarms.single.global_best:  18%|█▊        |181/1000, best_cost=4.06e-11\u001b[A\u001b[A\n",
            "\n",
            "pyswarms.single.global_best:  18%|█▊        |181/1000, best_cost=4.06e-11\u001b[A\u001b[A\n",
            "\n",
            "pyswarms.single.global_best:  18%|█▊        |181/1000, best_cost=3.57e-11\u001b[A\u001b[A\n",
            "\n",
            "pyswarms.single.global_best:  18%|█▊        |181/1000, best_cost=3.57e-11\u001b[A\u001b[A\n",
            "\n",
            "pyswarms.single.global_best:  18%|█▊        |181/1000, best_cost=3.57e-11\u001b[A\u001b[A\n",
            "\n",
            "pyswarms.single.global_best:  19%|█▉        |193/1000, best_cost=3.57e-11\u001b[A\u001b[A\n",
            "\n",
            "pyswarms.single.global_best:  19%|█▉        |193/1000, best_cost=3.57e-11\u001b[A\u001b[A\n",
            "\n",
            "pyswarms.single.global_best:  19%|█▉        |193/1000, best_cost=3.22e-11\u001b[A\u001b[A\n",
            "\n",
            "pyswarms.single.global_best:  19%|█▉        |193/1000, best_cost=2.89e-11\u001b[A\u001b[A\n",
            "\n",
            "pyswarms.single.global_best:  19%|█▉        |193/1000, best_cost=2.28e-11\u001b[A\u001b[A\n",
            "\n",
            "pyswarms.single.global_best:  19%|█▉        |193/1000, best_cost=1.84e-11\u001b[A\u001b[A\n",
            "\n",
            "pyswarms.single.global_best:  19%|█▉        |193/1000, best_cost=1.84e-11\u001b[A\u001b[A\n",
            "\n",
            "pyswarms.single.global_best:  19%|█▉        |193/1000, best_cost=1.84e-11\u001b[A\u001b[A\n",
            "\n",
            "pyswarms.single.global_best:  19%|█▉        |193/1000, best_cost=9.01e-12\u001b[A\u001b[A\n",
            "\n",
            "pyswarms.single.global_best:  19%|█▉        |193/1000, best_cost=9.01e-12\u001b[A\u001b[A\n",
            "\n",
            "pyswarms.single.global_best:  19%|█▉        |193/1000, best_cost=9.01e-12\u001b[A\u001b[A\n",
            "\n",
            "pyswarms.single.global_best:  20%|██        |203/1000, best_cost=9.01e-12\u001b[A\u001b[A\n",
            "\n",
            "pyswarms.single.global_best:  20%|██        |203/1000, best_cost=8.74e-12\u001b[A\u001b[A\n",
            "\n",
            "pyswarms.single.global_best:  20%|██        |203/1000, best_cost=8.74e-12\u001b[A\u001b[A\n",
            "\n",
            "pyswarms.single.global_best:  20%|██        |203/1000, best_cost=8.74e-12\u001b[A\u001b[A\n",
            "\n",
            "pyswarms.single.global_best:  20%|██        |203/1000, best_cost=8.74e-12\u001b[A\u001b[A\n",
            "\n",
            "pyswarms.single.global_best:  20%|██        |203/1000, best_cost=6.79e-12\u001b[A\u001b[A\n",
            "\n",
            "pyswarms.single.global_best:  20%|██        |203/1000, best_cost=6.23e-12\u001b[A\u001b[A\n",
            "\n",
            "pyswarms.single.global_best:  20%|██        |203/1000, best_cost=5.28e-12\u001b[A\u001b[A\n",
            "\n",
            "pyswarms.single.global_best:  20%|██        |203/1000, best_cost=5.28e-12\u001b[A\u001b[A\n",
            "\n",
            "pyswarms.single.global_best:  20%|██        |203/1000, best_cost=5.28e-12\u001b[A\u001b[A\n",
            "\n",
            "pyswarms.single.global_best:  21%|██        |212/1000, best_cost=5.28e-12\u001b[A\u001b[A\n",
            "\n",
            "pyswarms.single.global_best:  21%|██        |212/1000, best_cost=5.28e-12\u001b[A\u001b[A\n",
            "\n",
            "pyswarms.single.global_best:  21%|██        |212/1000, best_cost=5.12e-12\u001b[A\u001b[A\n",
            "\n",
            "pyswarms.single.global_best:  21%|██        |212/1000, best_cost=5.12e-12\u001b[A\u001b[A\n",
            "\n",
            "pyswarms.single.global_best:  21%|██        |212/1000, best_cost=4.67e-12\u001b[A\u001b[A\n",
            "\n",
            "pyswarms.single.global_best:  21%|██        |212/1000, best_cost=4.67e-12\u001b[A\u001b[A\n",
            "\n",
            "pyswarms.single.global_best:  21%|██        |212/1000, best_cost=4.16e-12\u001b[A\u001b[A\n",
            "\n",
            "pyswarms.single.global_best:  21%|██        |212/1000, best_cost=4.16e-12\u001b[A\u001b[A\n",
            "\n",
            "pyswarms.single.global_best:  21%|██        |212/1000, best_cost=4.16e-12\u001b[A\u001b[A\n",
            "\n",
            "pyswarms.single.global_best:  22%|██▏       |220/1000, best_cost=4.16e-12\u001b[A\u001b[A\n",
            "\n",
            "pyswarms.single.global_best:  22%|██▏       |220/1000, best_cost=3.61e-12\u001b[A\u001b[A\n",
            "\n",
            "pyswarms.single.global_best:  22%|██▏       |220/1000, best_cost=3.54e-12\u001b[A\u001b[A\n",
            "\n",
            "pyswarms.single.global_best:  22%|██▏       |220/1000, best_cost=3.39e-12\u001b[A\u001b[A\n",
            "\n",
            "pyswarms.single.global_best:  22%|██▏       |220/1000, best_cost=3.35e-12\u001b[A\u001b[A\n",
            "\n",
            "pyswarms.single.global_best:  22%|██▏       |220/1000, best_cost=2.28e-12\u001b[A\u001b[A\n",
            "\n",
            "pyswarms.single.global_best:  22%|██▏       |220/1000, best_cost=2e-12   \u001b[A\u001b[A\n",
            "\n",
            "pyswarms.single.global_best:  22%|██▏       |220/1000, best_cost=1.71e-12\u001b[A\u001b[A\n",
            "\n",
            "pyswarms.single.global_best:  22%|██▏       |220/1000, best_cost=1.71e-12\u001b[A\u001b[A\n",
            "\n",
            "pyswarms.single.global_best:  23%|██▎       |228/1000, best_cost=1.71e-12\u001b[A\u001b[A\n",
            "\n",
            "pyswarms.single.global_best:  23%|██▎       |228/1000, best_cost=1.71e-12\u001b[A\u001b[A\n",
            "\n",
            "pyswarms.single.global_best:  23%|██▎       |228/1000, best_cost=1.71e-12\u001b[A\u001b[A\n",
            "\n",
            "pyswarms.single.global_best:  23%|██▎       |228/1000, best_cost=1.46e-12\u001b[A\u001b[A\n",
            "\n",
            "pyswarms.single.global_best:  23%|██▎       |228/1000, best_cost=8.87e-13\u001b[A\u001b[A\n",
            "\n",
            "pyswarms.single.global_best:  23%|██▎       |228/1000, best_cost=8.87e-13\u001b[A\u001b[A\n",
            "\n",
            "pyswarms.single.global_best:  23%|██▎       |228/1000, best_cost=8.87e-13\u001b[A\u001b[A\n",
            "\n",
            "pyswarms.single.global_best:  23%|██▎       |228/1000, best_cost=7.66e-13\u001b[A\u001b[A\n",
            "\n",
            "pyswarms.single.global_best:  24%|██▎       |235/1000, best_cost=7.66e-13\u001b[A\u001b[A\n",
            "\n",
            "pyswarms.single.global_best:  24%|██▎       |235/1000, best_cost=7.66e-13\u001b[A\u001b[A\n",
            "\n",
            "pyswarms.single.global_best:  24%|██▎       |235/1000, best_cost=4.98e-13\u001b[A\u001b[A\n",
            "\n",
            "pyswarms.single.global_best:  24%|██▎       |235/1000, best_cost=4.98e-13\u001b[A\u001b[A\n",
            "\n",
            "pyswarms.single.global_best:  24%|██▎       |235/1000, best_cost=4.45e-13\u001b[A\u001b[A\n",
            "\n",
            "pyswarms.single.global_best:  24%|██▎       |235/1000, best_cost=4.45e-13\u001b[A\u001b[A\n",
            "\n",
            "pyswarms.single.global_best:  24%|██▎       |235/1000, best_cost=4.45e-13\u001b[A\u001b[A\n",
            "\n",
            "pyswarms.single.global_best:  24%|██▎       |235/1000, best_cost=4.18e-13\u001b[A\u001b[A\n",
            "\n",
            "pyswarms.single.global_best:  24%|██▍       |242/1000, best_cost=4.18e-13\u001b[A\u001b[A\n",
            "\n",
            "pyswarms.single.global_best:  24%|██▍       |242/1000, best_cost=3.75e-13\u001b[A\u001b[A\n",
            "\n",
            "pyswarms.single.global_best:  24%|██▍       |242/1000, best_cost=3.75e-13\u001b[A\u001b[A\n",
            "\n",
            "pyswarms.single.global_best:  24%|██▍       |242/1000, best_cost=2.88e-13\u001b[A\u001b[A\n",
            "\n",
            "pyswarms.single.global_best:  24%|██▍       |242/1000, best_cost=2.07e-13\u001b[A\u001b[A\n",
            "\n",
            "pyswarms.single.global_best:  24%|██▍       |242/1000, best_cost=2.07e-13\u001b[A\u001b[A\n",
            "\n",
            "pyswarms.single.global_best:  24%|██▍       |242/1000, best_cost=1.93e-13\u001b[A\u001b[A\n",
            "\n",
            "pyswarms.single.global_best:  24%|██▍       |242/1000, best_cost=1.37e-13\u001b[A\u001b[A\n",
            "\n",
            "pyswarms.single.global_best:  25%|██▍       |249/1000, best_cost=1.37e-13\u001b[A\u001b[A\n",
            "\n",
            "pyswarms.single.global_best:  25%|██▍       |249/1000, best_cost=1.37e-13\u001b[A\u001b[A\n",
            "\n",
            "pyswarms.single.global_best:  25%|██▍       |249/1000, best_cost=1.37e-13\u001b[A\u001b[A\n",
            "\n",
            "pyswarms.single.global_best:  25%|██▍       |249/1000, best_cost=1.37e-13\u001b[A\u001b[A\n",
            "\n",
            "pyswarms.single.global_best:  25%|██▍       |249/1000, best_cost=1.37e-13\u001b[A\u001b[A\n",
            "\n",
            "pyswarms.single.global_best:  25%|██▍       |249/1000, best_cost=1.37e-13\u001b[A\u001b[A\n",
            "\n",
            "pyswarms.single.global_best:  25%|██▍       |249/1000, best_cost=1.3e-13 \u001b[A\u001b[A\n",
            "\n",
            "pyswarms.single.global_best:  25%|██▍       |249/1000, best_cost=1.3e-13\u001b[A\u001b[A\n",
            "\n",
            "pyswarms.single.global_best:  26%|██▌       |256/1000, best_cost=1.3e-13\u001b[A\u001b[A\n",
            "\n",
            "pyswarms.single.global_best:  26%|██▌       |256/1000, best_cost=9.3e-14\u001b[A\u001b[A\n",
            "\n",
            "pyswarms.single.global_best:  26%|██▌       |256/1000, best_cost=9.3e-14\u001b[A\u001b[A\n",
            "\n",
            "pyswarms.single.global_best:  26%|██▌       |256/1000, best_cost=9.3e-14\u001b[A\u001b[A\n",
            "\n",
            "pyswarms.single.global_best:  26%|██▌       |256/1000, best_cost=6.55e-14\u001b[A\u001b[A\n",
            "\n",
            "pyswarms.single.global_best:  26%|██▌       |256/1000, best_cost=6.55e-14\u001b[A\u001b[A\n",
            "\n",
            "pyswarms.single.global_best:  26%|██▌       |256/1000, best_cost=6.55e-14\u001b[A\u001b[A\n",
            "\n",
            "pyswarms.single.global_best:  26%|██▌       |256/1000, best_cost=6.55e-14\u001b[A\u001b[A\n",
            "\n",
            "pyswarms.single.global_best:  26%|██▋       |263/1000, best_cost=6.55e-14\u001b[A\u001b[A\n",
            "\n",
            "pyswarms.single.global_best:  26%|██▋       |263/1000, best_cost=6.55e-14\u001b[A\u001b[A\n",
            "\n",
            "pyswarms.single.global_best:  26%|██▋       |263/1000, best_cost=6.55e-14\u001b[A\u001b[A\n",
            "\n",
            "pyswarms.single.global_best:  26%|██▋       |263/1000, best_cost=6.52e-14\u001b[A\u001b[A\n",
            "\n",
            "pyswarms.single.global_best:  26%|██▋       |263/1000, best_cost=6.52e-14\u001b[A\u001b[A\n",
            "\n",
            "pyswarms.single.global_best:  26%|██▋       |263/1000, best_cost=5.82e-14\u001b[A\u001b[A\n",
            "\n",
            "pyswarms.single.global_best:  26%|██▋       |263/1000, best_cost=5.82e-14\u001b[A\u001b[A\n",
            "\n",
            "pyswarms.single.global_best:  26%|██▋       |263/1000, best_cost=4.31e-14\u001b[A\u001b[A\n",
            "\n",
            "pyswarms.single.global_best:  27%|██▋       |270/1000, best_cost=4.31e-14\u001b[A\u001b[A\n",
            "\n",
            "pyswarms.single.global_best:  27%|██▋       |270/1000, best_cost=4.31e-14\u001b[A\u001b[A\n",
            "\n",
            "pyswarms.single.global_best:  27%|██▋       |270/1000, best_cost=3.55e-14\u001b[A\u001b[A\n",
            "\n",
            "pyswarms.single.global_best:  27%|██▋       |270/1000, best_cost=3.55e-14\u001b[A\u001b[A\n",
            "\n",
            "pyswarms.single.global_best:  27%|██▋       |270/1000, best_cost=2.7e-14 \u001b[A\u001b[A\n",
            "\n",
            "pyswarms.single.global_best:  27%|██▋       |270/1000, best_cost=2.7e-14\u001b[A\u001b[A\n",
            "\n",
            "pyswarms.single.global_best:  27%|██▋       |270/1000, best_cost=2.5e-14\u001b[A\u001b[A\n",
            "\n",
            "pyswarms.single.global_best:  27%|██▋       |270/1000, best_cost=2.5e-14\u001b[A\u001b[A\n",
            "\n",
            "pyswarms.single.global_best:  28%|██▊       |277/1000, best_cost=2.5e-14\u001b[A\u001b[A\n",
            "\n",
            "pyswarms.single.global_best:  28%|██▊       |277/1000, best_cost=2.27e-14\u001b[A\u001b[A\n",
            "\n",
            "pyswarms.single.global_best:  28%|██▊       |277/1000, best_cost=2.27e-14\u001b[A\u001b[A\n",
            "\n",
            "pyswarms.single.global_best:  28%|██▊       |277/1000, best_cost=2.27e-14\u001b[A\u001b[A\n",
            "\n",
            "pyswarms.single.global_best:  28%|██▊       |277/1000, best_cost=2.27e-14\u001b[A\u001b[A\n",
            "\n",
            "pyswarms.single.global_best:  28%|██▊       |277/1000, best_cost=2.27e-14\u001b[A\u001b[A\n",
            "\n",
            "pyswarms.single.global_best:  28%|██▊       |277/1000, best_cost=2.27e-14\u001b[A\u001b[A\n",
            "\n",
            "pyswarms.single.global_best:  28%|██▊       |277/1000, best_cost=2.27e-14\u001b[A\u001b[A\n",
            "\n",
            "pyswarms.single.global_best:  28%|██▊       |284/1000, best_cost=2.27e-14\u001b[A\u001b[A\n",
            "\n",
            "pyswarms.single.global_best:  28%|██▊       |284/1000, best_cost=2.27e-14\u001b[A\u001b[A\n",
            "\n",
            "pyswarms.single.global_best:  28%|██▊       |284/1000, best_cost=1.57e-14\u001b[A\u001b[A\n",
            "\n",
            "pyswarms.single.global_best:  28%|██▊       |284/1000, best_cost=1.57e-14\u001b[A\u001b[A\n",
            "\n",
            "pyswarms.single.global_best:  28%|██▊       |284/1000, best_cost=1.57e-14\u001b[A\u001b[A\n",
            "\n",
            "pyswarms.single.global_best:  28%|██▊       |284/1000, best_cost=1.57e-14\u001b[A\u001b[A\n",
            "\n",
            "pyswarms.single.global_best:  28%|██▊       |284/1000, best_cost=1.57e-14\u001b[A\u001b[A\n",
            "\n",
            "pyswarms.single.global_best:  28%|██▊       |284/1000, best_cost=1.38e-14\u001b[A\u001b[A\n",
            "\n",
            "pyswarms.single.global_best:  29%|██▉       |291/1000, best_cost=1.38e-14\u001b[A\u001b[A\n",
            "\n",
            "pyswarms.single.global_best:  29%|██▉       |291/1000, best_cost=1.3e-14 \u001b[A\u001b[A\n",
            "\n",
            "pyswarms.single.global_best:  29%|██▉       |291/1000, best_cost=1.2e-14\u001b[A\u001b[A\n",
            "\n",
            "pyswarms.single.global_best:  29%|██▉       |291/1000, best_cost=1.07e-14\u001b[A\u001b[A\n",
            "\n",
            "pyswarms.single.global_best:  29%|██▉       |291/1000, best_cost=1.07e-14\u001b[A\u001b[A\n",
            "\n",
            "pyswarms.single.global_best:  29%|██▉       |291/1000, best_cost=7.32e-15\u001b[A\u001b[A\n",
            "\n",
            "pyswarms.single.global_best:  29%|██▉       |291/1000, best_cost=7.32e-15\u001b[A\u001b[A\n",
            "\n",
            "pyswarms.single.global_best:  29%|██▉       |291/1000, best_cost=7.32e-15\u001b[A\u001b[A\n",
            "\n",
            "pyswarms.single.global_best:  30%|██▉       |298/1000, best_cost=7.32e-15\u001b[A\u001b[A\n",
            "\n",
            "pyswarms.single.global_best:  30%|██▉       |298/1000, best_cost=6.05e-15\u001b[A\u001b[A\n",
            "\n",
            "pyswarms.single.global_best:  30%|██▉       |298/1000, best_cost=6.05e-15\u001b[A\u001b[A\n",
            "\n",
            "pyswarms.single.global_best:  30%|██▉       |298/1000, best_cost=5.45e-15\u001b[A\u001b[A\n",
            "\n",
            "pyswarms.single.global_best:  30%|██▉       |298/1000, best_cost=4.58e-15\u001b[A\u001b[A\n",
            "\n",
            "pyswarms.single.global_best:  30%|██▉       |298/1000, best_cost=4.58e-15\u001b[A\u001b[A\n",
            "\n",
            "pyswarms.single.global_best:  30%|██▉       |298/1000, best_cost=4.23e-15\u001b[A\u001b[A\n",
            "\n",
            "pyswarms.single.global_best:  30%|██▉       |298/1000, best_cost=3.65e-15\u001b[A\u001b[A\n",
            "\n",
            "pyswarms.single.global_best:  30%|███       |305/1000, best_cost=3.65e-15\u001b[A\u001b[A\n",
            "\n",
            "pyswarms.single.global_best:  30%|███       |305/1000, best_cost=3.65e-15\u001b[A\u001b[A\n",
            "\n",
            "pyswarms.single.global_best:  30%|███       |305/1000, best_cost=3.08e-15\u001b[A\u001b[A\n",
            "\n",
            "pyswarms.single.global_best:  30%|███       |305/1000, best_cost=2.93e-15\u001b[A\u001b[A\n",
            "\n",
            "pyswarms.single.global_best:  30%|███       |305/1000, best_cost=2.71e-15\u001b[A\u001b[A\n",
            "\n",
            "pyswarms.single.global_best:  30%|███       |305/1000, best_cost=2.54e-15\u001b[A\u001b[A\n",
            "\n",
            "pyswarms.single.global_best:  30%|███       |305/1000, best_cost=2.47e-15\u001b[A\u001b[A\n",
            "\n",
            "pyswarms.single.global_best:  31%|███       |311/1000, best_cost=2.47e-15\u001b[A\u001b[A\n",
            "\n",
            "pyswarms.single.global_best:  31%|███       |311/1000, best_cost=2.2e-15 \u001b[A\u001b[A\n",
            "\n",
            "pyswarms.single.global_best:  31%|███       |311/1000, best_cost=1.32e-15\u001b[A\u001b[A\n",
            "\n",
            "pyswarms.single.global_best:  31%|███       |311/1000, best_cost=1.32e-15\u001b[A\u001b[A\n",
            "\n",
            "pyswarms.single.global_best:  31%|███       |311/1000, best_cost=1.3e-15 \u001b[A\u001b[A\n",
            "\n",
            "pyswarms.single.global_best:  31%|███       |311/1000, best_cost=1.26e-15\u001b[A\u001b[A\n",
            "\n",
            "pyswarms.single.global_best:  31%|███       |311/1000, best_cost=1.26e-15\u001b[A\u001b[A\n",
            "\n",
            "pyswarms.single.global_best:  32%|███▏      |317/1000, best_cost=1.26e-15\u001b[A\u001b[A\n",
            "\n",
            "pyswarms.single.global_best:  32%|███▏      |317/1000, best_cost=1.22e-15\u001b[A\u001b[A\n",
            "\n",
            "pyswarms.single.global_best:  32%|███▏      |317/1000, best_cost=1.22e-15\u001b[A\u001b[A\n",
            "\n",
            "pyswarms.single.global_best:  32%|███▏      |317/1000, best_cost=8.16e-16\u001b[A\u001b[A\n",
            "\n",
            "pyswarms.single.global_best:  32%|███▏      |317/1000, best_cost=8.16e-16\u001b[A\u001b[A\n",
            "\n",
            "pyswarms.single.global_best:  32%|███▏      |317/1000, best_cost=8.16e-16\u001b[A\u001b[A\n",
            "\n",
            "pyswarms.single.global_best:  32%|███▏      |317/1000, best_cost=7.71e-16\u001b[A\u001b[A\n",
            "\n",
            "pyswarms.single.global_best:  32%|███▏      |317/1000, best_cost=4.41e-16\u001b[A\u001b[A\n",
            "\n",
            "pyswarms.single.global_best:  32%|███▏      |324/1000, best_cost=4.41e-16\u001b[A\u001b[A\n",
            "\n",
            "pyswarms.single.global_best:  32%|███▏      |324/1000, best_cost=4.41e-16\u001b[A\u001b[A\n",
            "\n",
            "pyswarms.single.global_best:  32%|███▏      |324/1000, best_cost=4.41e-16\u001b[A\u001b[A\n",
            "\n",
            "pyswarms.single.global_best:  32%|███▏      |324/1000, best_cost=4.41e-16\u001b[A\u001b[A\n",
            "\n",
            "pyswarms.single.global_best:  32%|███▏      |324/1000, best_cost=3.75e-16\u001b[A\u001b[A\n",
            "\n",
            "pyswarms.single.global_best:  32%|███▏      |324/1000, best_cost=3.75e-16\u001b[A\u001b[A\n",
            "\n",
            "pyswarms.single.global_best:  32%|███▏      |324/1000, best_cost=3.75e-16\u001b[A\u001b[A\n",
            "\n",
            "pyswarms.single.global_best:  33%|███▎      |330/1000, best_cost=3.75e-16\u001b[A\u001b[A\n",
            "\n",
            "pyswarms.single.global_best:  33%|███▎      |330/1000, best_cost=3.67e-16\u001b[A\u001b[A\n",
            "\n",
            "pyswarms.single.global_best:  33%|███▎      |330/1000, best_cost=2.73e-16\u001b[A\u001b[A\n",
            "\n",
            "pyswarms.single.global_best:  33%|███▎      |330/1000, best_cost=2.73e-16\u001b[A\u001b[A\n",
            "\n",
            "pyswarms.single.global_best:  33%|███▎      |330/1000, best_cost=2.73e-16\u001b[A\u001b[A\n",
            "\n",
            "pyswarms.single.global_best:  33%|███▎      |330/1000, best_cost=2.6e-16 \u001b[A\u001b[A\n",
            "\n",
            "pyswarms.single.global_best:  33%|███▎      |330/1000, best_cost=2.58e-16\u001b[A\u001b[A\n",
            "\n",
            "pyswarms.single.global_best:  33%|███▎      |330/1000, best_cost=2.44e-16\u001b[A\u001b[A\n",
            "\n",
            "pyswarms.single.global_best:  34%|███▎      |337/1000, best_cost=2.44e-16\u001b[A\u001b[A\n",
            "\n",
            "pyswarms.single.global_best:  34%|███▎      |337/1000, best_cost=2.41e-16\u001b[A\u001b[A\n",
            "\n",
            "pyswarms.single.global_best:  34%|███▎      |337/1000, best_cost=2.28e-16\u001b[A\u001b[A\n",
            "\n",
            "pyswarms.single.global_best:  34%|███▎      |337/1000, best_cost=1.98e-16\u001b[A\u001b[A\n",
            "\n",
            "pyswarms.single.global_best:  34%|███▎      |337/1000, best_cost=1.98e-16\u001b[A\u001b[A\n",
            "\n",
            "pyswarms.single.global_best:  34%|███▎      |337/1000, best_cost=1.62e-16\u001b[A\u001b[A\n",
            "\n",
            "pyswarms.single.global_best:  34%|███▎      |337/1000, best_cost=1.47e-16\u001b[A\u001b[A\n",
            "\n",
            "pyswarms.single.global_best:  34%|███▍      |343/1000, best_cost=1.47e-16\u001b[A\u001b[A\n",
            "\n",
            "pyswarms.single.global_best:  34%|███▍      |343/1000, best_cost=1.42e-16\u001b[A\u001b[A\n",
            "\n",
            "pyswarms.single.global_best:  34%|███▍      |343/1000, best_cost=7.95e-17\u001b[A\u001b[A\n",
            "\n",
            "pyswarms.single.global_best:  34%|███▍      |343/1000, best_cost=7.95e-17\u001b[A\u001b[A\n",
            "\n",
            "pyswarms.single.global_best:  34%|███▍      |343/1000, best_cost=7.95e-17\u001b[A\u001b[A\n",
            "\n",
            "pyswarms.single.global_best:  34%|███▍      |343/1000, best_cost=6.35e-17\u001b[A\u001b[A\n",
            "\n",
            "pyswarms.single.global_best:  34%|███▍      |343/1000, best_cost=5.27e-17\u001b[A\u001b[A\n",
            "\n",
            "pyswarms.single.global_best:  34%|███▍      |343/1000, best_cost=5.27e-17\u001b[A\u001b[A\n",
            "\n",
            "pyswarms.single.global_best:  35%|███▌      |350/1000, best_cost=5.27e-17\u001b[A\u001b[A\n",
            "\n",
            "pyswarms.single.global_best:  35%|███▌      |350/1000, best_cost=4.55e-17\u001b[A\u001b[A\n",
            "\n",
            "pyswarms.single.global_best:  35%|███▌      |350/1000, best_cost=4.55e-17\u001b[A\u001b[A\n",
            "\n",
            "pyswarms.single.global_best:  35%|███▌      |350/1000, best_cost=4.32e-17\u001b[A\u001b[A\n",
            "\n",
            "pyswarms.single.global_best:  35%|███▌      |350/1000, best_cost=4.12e-17\u001b[A\u001b[A\n",
            "\n",
            "pyswarms.single.global_best:  35%|███▌      |350/1000, best_cost=3.51e-17\u001b[A\u001b[A\n",
            "\n",
            "pyswarms.single.global_best:  35%|███▌      |350/1000, best_cost=3.17e-17\u001b[A\u001b[A\n",
            "\n",
            "pyswarms.single.global_best:  36%|███▌      |356/1000, best_cost=3.17e-17\u001b[A\u001b[A\n",
            "\n",
            "pyswarms.single.global_best:  36%|███▌      |356/1000, best_cost=2.69e-17\u001b[A\u001b[A\n",
            "\n",
            "pyswarms.single.global_best:  36%|███▌      |356/1000, best_cost=2.17e-17\u001b[A\u001b[A\n",
            "\n",
            "pyswarms.single.global_best:  36%|███▌      |356/1000, best_cost=2.06e-17\u001b[A\u001b[A\n",
            "\n",
            "pyswarms.single.global_best:  36%|███▌      |356/1000, best_cost=2.06e-17\u001b[A\u001b[A\n",
            "\n",
            "pyswarms.single.global_best:  36%|███▌      |356/1000, best_cost=2.06e-17\u001b[A\u001b[A\n",
            "\n",
            "pyswarms.single.global_best:  36%|███▌      |356/1000, best_cost=1.92e-17\u001b[A\u001b[A\n",
            "\n",
            "pyswarms.single.global_best:  36%|███▌      |356/1000, best_cost=1.79e-17\u001b[A\u001b[A\n",
            "\n",
            "pyswarms.single.global_best:  36%|███▋      |363/1000, best_cost=1.79e-17\u001b[A\u001b[A\n",
            "\n",
            "pyswarms.single.global_best:  36%|███▋      |363/1000, best_cost=1.76e-17\u001b[A\u001b[A\n",
            "\n",
            "pyswarms.single.global_best:  36%|███▋      |363/1000, best_cost=1.76e-17\u001b[A\u001b[A\n",
            "\n",
            "pyswarms.single.global_best:  36%|███▋      |363/1000, best_cost=1.67e-17\u001b[A\u001b[A\n",
            "\n",
            "pyswarms.single.global_best:  36%|███▋      |363/1000, best_cost=1.53e-17\u001b[A\u001b[A\n",
            "\n",
            "pyswarms.single.global_best:  36%|███▋      |363/1000, best_cost=1.44e-17\u001b[A\u001b[A\n",
            "\n",
            "pyswarms.single.global_best:  36%|███▋      |363/1000, best_cost=1.44e-17\u001b[A\u001b[A\n",
            "\n",
            "pyswarms.single.global_best:  37%|███▋      |369/1000, best_cost=1.44e-17\u001b[A\u001b[A\n",
            "\n",
            "pyswarms.single.global_best:  37%|███▋      |369/1000, best_cost=1.29e-17\u001b[A\u001b[A\n",
            "\n",
            "pyswarms.single.global_best:  37%|███▋      |369/1000, best_cost=9.3e-18 \u001b[A\u001b[A\n",
            "\n",
            "pyswarms.single.global_best:  37%|███▋      |369/1000, best_cost=6.13e-18\u001b[A\u001b[A\n",
            "\n",
            "pyswarms.single.global_best:  37%|███▋      |369/1000, best_cost=6.13e-18\u001b[A\u001b[A\n",
            "\n",
            "pyswarms.single.global_best:  37%|███▋      |369/1000, best_cost=6.13e-18\u001b[A\u001b[A\n",
            "\n",
            "pyswarms.single.global_best:  37%|███▋      |369/1000, best_cost=6.13e-18\u001b[A\u001b[A\n",
            "\n",
            "pyswarms.single.global_best:  38%|███▊      |375/1000, best_cost=6.13e-18\u001b[A\u001b[A\n",
            "\n",
            "pyswarms.single.global_best:  38%|███▊      |375/1000, best_cost=6.13e-18\u001b[A\u001b[A\n",
            "\n",
            "pyswarms.single.global_best:  38%|███▊      |375/1000, best_cost=5.44e-18\u001b[A\u001b[A\n",
            "\n",
            "pyswarms.single.global_best:  38%|███▊      |375/1000, best_cost=4.35e-18\u001b[A\u001b[A\n",
            "\n",
            "pyswarms.single.global_best:  38%|███▊      |375/1000, best_cost=4.35e-18\u001b[A\u001b[A\n",
            "\n",
            "pyswarms.single.global_best:  38%|███▊      |375/1000, best_cost=3.75e-18\u001b[A\u001b[A\n",
            "\n",
            "pyswarms.single.global_best:  38%|███▊      |375/1000, best_cost=3.75e-18\u001b[A\u001b[A\n",
            "\n",
            "pyswarms.single.global_best:  38%|███▊      |375/1000, best_cost=3.54e-18\u001b[A\u001b[A\n",
            "\n",
            "pyswarms.single.global_best:  38%|███▊      |382/1000, best_cost=3.54e-18\u001b[A\u001b[A\n",
            "\n",
            "pyswarms.single.global_best:  38%|███▊      |382/1000, best_cost=3.54e-18\u001b[A\u001b[A\n",
            "\n",
            "pyswarms.single.global_best:  38%|███▊      |382/1000, best_cost=3.34e-18\u001b[A\u001b[A\n",
            "\n",
            "pyswarms.single.global_best:  38%|███▊      |382/1000, best_cost=3.34e-18\u001b[A\u001b[A\n",
            "\n",
            "pyswarms.single.global_best:  38%|███▊      |382/1000, best_cost=3.34e-18\u001b[A\u001b[A\n",
            "\n",
            "pyswarms.single.global_best:  38%|███▊      |382/1000, best_cost=2.49e-18\u001b[A\u001b[A\n",
            "\n",
            "pyswarms.single.global_best:  38%|███▊      |382/1000, best_cost=2.44e-18\u001b[A\u001b[A\n",
            "\n",
            "pyswarms.single.global_best:  38%|███▊      |382/1000, best_cost=2.28e-18\u001b[A\u001b[A\n",
            "\n",
            "pyswarms.single.global_best:  39%|███▉      |389/1000, best_cost=2.28e-18\u001b[A\u001b[A\n",
            "\n",
            "pyswarms.single.global_best:  39%|███▉      |389/1000, best_cost=2.25e-18\u001b[A\u001b[A\n",
            "\n",
            "pyswarms.single.global_best:  39%|███▉      |389/1000, best_cost=1.72e-18\u001b[A\u001b[A\n",
            "\n",
            "pyswarms.single.global_best:  39%|███▉      |389/1000, best_cost=1.72e-18\u001b[A\u001b[A\n",
            "\n",
            "pyswarms.single.global_best:  39%|███▉      |389/1000, best_cost=1.72e-18\u001b[A\u001b[A\n",
            "\n",
            "pyswarms.single.global_best:  39%|███▉      |389/1000, best_cost=1.64e-18\u001b[A\u001b[A\n",
            "\n",
            "pyswarms.single.global_best:  39%|███▉      |389/1000, best_cost=1.58e-18\u001b[A\u001b[A\n",
            "\n",
            "pyswarms.single.global_best:  40%|███▉      |395/1000, best_cost=1.58e-18\u001b[A\u001b[A\n",
            "\n",
            "pyswarms.single.global_best:  40%|███▉      |395/1000, best_cost=1.44e-18\u001b[A\u001b[A\n",
            "\n",
            "pyswarms.single.global_best:  40%|███▉      |395/1000, best_cost=1.05e-18\u001b[A\u001b[A\n",
            "\n",
            "pyswarms.single.global_best:  40%|███▉      |395/1000, best_cost=1.02e-18\u001b[A\u001b[A\n",
            "\n",
            "pyswarms.single.global_best:  40%|███▉      |395/1000, best_cost=9.86e-19\u001b[A\u001b[A\n",
            "\n",
            "pyswarms.single.global_best:  40%|███▉      |395/1000, best_cost=9.86e-19\u001b[A\u001b[A\n",
            "\n",
            "pyswarms.single.global_best:  40%|███▉      |395/1000, best_cost=8.49e-19\u001b[A\u001b[A\n",
            "\n",
            "pyswarms.single.global_best:  40%|████      |401/1000, best_cost=8.49e-19\u001b[A\u001b[A\n",
            "\n",
            "pyswarms.single.global_best:  40%|████      |401/1000, best_cost=8.49e-19\u001b[A\u001b[A\n",
            "\n",
            "pyswarms.single.global_best:  40%|████      |401/1000, best_cost=8.49e-19\u001b[A\u001b[A\n",
            "\n",
            "pyswarms.single.global_best:  40%|████      |401/1000, best_cost=8.09e-19\u001b[A\u001b[A\n",
            "\n",
            "pyswarms.single.global_best:  40%|████      |401/1000, best_cost=7.24e-19\u001b[A\u001b[A\n",
            "\n",
            "pyswarms.single.global_best:  40%|████      |401/1000, best_cost=7.24e-19\u001b[A\u001b[A\n",
            "\n",
            "pyswarms.single.global_best:  40%|████      |401/1000, best_cost=7.24e-19\u001b[A\u001b[A\n",
            "\n",
            "pyswarms.single.global_best:  41%|████      |407/1000, best_cost=7.24e-19\u001b[A\u001b[A\n",
            "\n",
            "pyswarms.single.global_best:  41%|████      |407/1000, best_cost=7.24e-19\u001b[A\u001b[A\n",
            "\n",
            "pyswarms.single.global_best:  41%|████      |407/1000, best_cost=6.74e-19\u001b[A\u001b[A\n",
            "\n",
            "pyswarms.single.global_best:  41%|████      |407/1000, best_cost=6.61e-19\u001b[A\u001b[A\n",
            "\n",
            "pyswarms.single.global_best:  41%|████      |407/1000, best_cost=6.61e-19\u001b[A\u001b[A\n",
            "\n",
            "pyswarms.single.global_best:  41%|████      |407/1000, best_cost=6.11e-19\u001b[A\u001b[A\n",
            "\n",
            "pyswarms.single.global_best:  41%|████      |407/1000, best_cost=5.94e-19\u001b[A\u001b[A\n",
            "\n",
            "pyswarms.single.global_best:  41%|████▏     |413/1000, best_cost=5.94e-19\u001b[A\u001b[A\n",
            "\n",
            "pyswarms.single.global_best:  41%|████▏     |413/1000, best_cost=5.94e-19\u001b[A\u001b[A\n",
            "\n",
            "pyswarms.single.global_best:  41%|████▏     |413/1000, best_cost=5.93e-19\u001b[A\u001b[A\n",
            "\n",
            "pyswarms.single.global_best:  41%|████▏     |413/1000, best_cost=5.51e-19\u001b[A\u001b[A\n",
            "\n",
            "pyswarms.single.global_best:  41%|████▏     |413/1000, best_cost=5.48e-19\u001b[A\u001b[A\n",
            "\n",
            "pyswarms.single.global_best:  41%|████▏     |413/1000, best_cost=5.37e-19\u001b[A\u001b[A\n",
            "\n",
            "pyswarms.single.global_best:  41%|████▏     |413/1000, best_cost=4.31e-19\u001b[A\u001b[A\n",
            "\n",
            "pyswarms.single.global_best:  42%|████▏     |419/1000, best_cost=4.31e-19\u001b[A\u001b[A\n",
            "\n",
            "pyswarms.single.global_best:  42%|████▏     |419/1000, best_cost=3.21e-19\u001b[A\u001b[A\n",
            "\n",
            "pyswarms.single.global_best:  42%|████▏     |419/1000, best_cost=2.61e-19\u001b[A\u001b[A\n",
            "\n",
            "pyswarms.single.global_best:  42%|████▏     |419/1000, best_cost=2.61e-19\u001b[A\u001b[A\n",
            "\n",
            "pyswarms.single.global_best:  42%|████▏     |419/1000, best_cost=2.59e-19\u001b[A\u001b[A\n",
            "\n",
            "pyswarms.single.global_best:  42%|████▏     |419/1000, best_cost=2.01e-19\u001b[A\u001b[A\n",
            "\n",
            "pyswarms.single.global_best:  42%|████▏     |419/1000, best_cost=1.86e-19\u001b[A\u001b[A\n",
            "\n",
            "pyswarms.single.global_best:  42%|████▎     |425/1000, best_cost=1.86e-19\u001b[A\u001b[A\n",
            "\n",
            "pyswarms.single.global_best:  42%|████▎     |425/1000, best_cost=1.29e-19\u001b[A\u001b[A\n",
            "\n",
            "pyswarms.single.global_best:  42%|████▎     |425/1000, best_cost=1.26e-19\u001b[A\u001b[A\n",
            "\n",
            "pyswarms.single.global_best:  42%|████▎     |425/1000, best_cost=7.45e-20\u001b[A\u001b[A\n",
            "\n",
            "pyswarms.single.global_best:  42%|████▎     |425/1000, best_cost=7.45e-20\u001b[A\u001b[A\n",
            "\n",
            "pyswarms.single.global_best:  42%|████▎     |425/1000, best_cost=7.45e-20\u001b[A\u001b[A\n",
            "\n",
            "pyswarms.single.global_best:  42%|████▎     |425/1000, best_cost=7.45e-20\u001b[A\u001b[A\n",
            "\n",
            "pyswarms.single.global_best:  43%|████▎     |431/1000, best_cost=7.45e-20\u001b[A\u001b[A\n",
            "\n",
            "pyswarms.single.global_best:  43%|████▎     |431/1000, best_cost=7.45e-20\u001b[A\u001b[A\n",
            "\n",
            "pyswarms.single.global_best:  43%|████▎     |431/1000, best_cost=7.45e-20\u001b[A\u001b[A\n",
            "\n",
            "pyswarms.single.global_best:  43%|████▎     |431/1000, best_cost=5.37e-20\u001b[A\u001b[A\n",
            "\n",
            "pyswarms.single.global_best:  43%|████▎     |431/1000, best_cost=5.37e-20\u001b[A\u001b[A\n",
            "\n",
            "pyswarms.single.global_best:  43%|████▎     |431/1000, best_cost=4.66e-20\u001b[A\u001b[A\n",
            "\n",
            "pyswarms.single.global_best:  43%|████▎     |431/1000, best_cost=4.66e-20\u001b[A\u001b[A\n",
            "\n",
            "pyswarms.single.global_best:  44%|████▎     |437/1000, best_cost=4.66e-20\u001b[A\u001b[A\n",
            "\n",
            "pyswarms.single.global_best:  44%|████▎     |437/1000, best_cost=4.66e-20\u001b[A\u001b[A\n",
            "\n",
            "pyswarms.single.global_best:  44%|████▎     |437/1000, best_cost=4.66e-20\u001b[A\u001b[A\n",
            "\n",
            "pyswarms.single.global_best:  44%|████▎     |437/1000, best_cost=4.66e-20\u001b[A\u001b[A\n",
            "\n",
            "pyswarms.single.global_best:  44%|████▎     |437/1000, best_cost=4.22e-20\u001b[A\u001b[A\n",
            "\n",
            "pyswarms.single.global_best:  44%|████▎     |437/1000, best_cost=3.33e-20\u001b[A\u001b[A\n",
            "\n",
            "pyswarms.single.global_best:  44%|████▎     |437/1000, best_cost=2.97e-20\u001b[A\u001b[A\n",
            "\n",
            "pyswarms.single.global_best:  44%|████▎     |437/1000, best_cost=2.97e-20\u001b[A\u001b[A\n",
            "\n",
            "pyswarms.single.global_best:  44%|████▍     |444/1000, best_cost=2.97e-20\u001b[A\u001b[A\n",
            "\n",
            "pyswarms.single.global_best:  44%|████▍     |444/1000, best_cost=1.95e-20\u001b[A\u001b[A\n",
            "\n",
            "pyswarms.single.global_best:  44%|████▍     |444/1000, best_cost=1.95e-20\u001b[A\u001b[A\n",
            "\n",
            "pyswarms.single.global_best:  44%|████▍     |444/1000, best_cost=1.95e-20\u001b[A\u001b[A\n",
            "\n",
            "pyswarms.single.global_best:  44%|████▍     |444/1000, best_cost=1.95e-20\u001b[A\u001b[A\n",
            "\n",
            "pyswarms.single.global_best:  44%|████▍     |444/1000, best_cost=1.95e-20\u001b[A\u001b[A\n",
            "\n",
            "pyswarms.single.global_best:  44%|████▍     |444/1000, best_cost=1.95e-20\u001b[A\u001b[A\n",
            "\n",
            "pyswarms.single.global_best:  45%|████▌     |450/1000, best_cost=1.95e-20\u001b[A\u001b[A\n",
            "\n",
            "pyswarms.single.global_best:  45%|████▌     |450/1000, best_cost=1.9e-20 \u001b[A\u001b[A\n",
            "\n",
            "pyswarms.single.global_best:  45%|████▌     |450/1000, best_cost=1.46e-20\u001b[A\u001b[A\n",
            "\n",
            "pyswarms.single.global_best:  45%|████▌     |450/1000, best_cost=1.15e-20\u001b[A\u001b[A\n",
            "\n",
            "pyswarms.single.global_best:  45%|████▌     |450/1000, best_cost=1.15e-20\u001b[A\u001b[A\n",
            "\n",
            "pyswarms.single.global_best:  45%|████▌     |450/1000, best_cost=1.15e-20\u001b[A\u001b[A\n",
            "\n",
            "pyswarms.single.global_best:  45%|████▌     |450/1000, best_cost=1.13e-20\u001b[A\u001b[A\n",
            "\n",
            "pyswarms.single.global_best:  45%|████▌     |450/1000, best_cost=1.13e-20\u001b[A\u001b[A\n",
            "\n",
            "pyswarms.single.global_best:  46%|████▌     |457/1000, best_cost=1.13e-20\u001b[A\u001b[A\n",
            "\n",
            "pyswarms.single.global_best:  46%|████▌     |457/1000, best_cost=1.13e-20\u001b[A\u001b[A\n",
            "\n",
            "pyswarms.single.global_best:  46%|████▌     |457/1000, best_cost=1.13e-20\u001b[A\u001b[A\n",
            "\n",
            "pyswarms.single.global_best:  46%|████▌     |457/1000, best_cost=1.05e-20\u001b[A\u001b[A\n",
            "\n",
            "pyswarms.single.global_best:  46%|████▌     |457/1000, best_cost=1e-20   \u001b[A\u001b[A\n",
            "\n",
            "pyswarms.single.global_best:  46%|████▌     |457/1000, best_cost=7.8e-21\u001b[A\u001b[A\n",
            "\n",
            "pyswarms.single.global_best:  46%|████▌     |457/1000, best_cost=7.8e-21\u001b[A\u001b[A\n",
            "\n",
            "pyswarms.single.global_best:  46%|████▋     |463/1000, best_cost=7.8e-21\u001b[A\u001b[A\n",
            "\n",
            "pyswarms.single.global_best:  46%|████▋     |463/1000, best_cost=7.41e-21\u001b[A\u001b[A\n",
            "\n",
            "pyswarms.single.global_best:  46%|████▋     |463/1000, best_cost=7.22e-21\u001b[A\u001b[A\n",
            "\n",
            "pyswarms.single.global_best:  46%|████▋     |463/1000, best_cost=6.39e-21\u001b[A\u001b[A\n",
            "\n",
            "pyswarms.single.global_best:  46%|████▋     |463/1000, best_cost=5.88e-21\u001b[A\u001b[A\n",
            "\n",
            "pyswarms.single.global_best:  46%|████▋     |463/1000, best_cost=5.35e-21\u001b[A\u001b[A\n",
            "\n",
            "pyswarms.single.global_best:  46%|████▋     |463/1000, best_cost=5.35e-21\u001b[A\u001b[A\n",
            "\n",
            "pyswarms.single.global_best:  46%|████▋     |463/1000, best_cost=4.93e-21\u001b[A\u001b[A\n",
            "\n",
            "pyswarms.single.global_best:  47%|████▋     |470/1000, best_cost=4.93e-21\u001b[A\u001b[A\n",
            "\n",
            "pyswarms.single.global_best:  47%|████▋     |470/1000, best_cost=4.55e-21\u001b[A\u001b[A\n",
            "\n",
            "pyswarms.single.global_best:  47%|████▋     |470/1000, best_cost=4.55e-21\u001b[A\u001b[A\n",
            "\n",
            "pyswarms.single.global_best:  47%|████▋     |470/1000, best_cost=2.78e-21\u001b[A\u001b[A\n",
            "\n",
            "pyswarms.single.global_best:  47%|████▋     |470/1000, best_cost=2.09e-21\u001b[A\u001b[A\n",
            "\n",
            "pyswarms.single.global_best:  47%|████▋     |470/1000, best_cost=1.47e-21\u001b[A\u001b[A\n",
            "\n",
            "pyswarms.single.global_best:  47%|████▋     |470/1000, best_cost=1.14e-21\u001b[A\u001b[A\n",
            "\n",
            "pyswarms.single.global_best:  47%|████▋     |470/1000, best_cost=7.09e-22\u001b[A\u001b[A\n",
            "\n",
            "pyswarms.single.global_best:  48%|████▊     |477/1000, best_cost=7.09e-22\u001b[A\u001b[A\n",
            "\n",
            "pyswarms.single.global_best:  48%|████▊     |477/1000, best_cost=7.09e-22\u001b[A\u001b[A\n",
            "\n",
            "pyswarms.single.global_best:  48%|████▊     |477/1000, best_cost=6.75e-22\u001b[A\u001b[A\n",
            "\n",
            "pyswarms.single.global_best:  48%|████▊     |477/1000, best_cost=6.75e-22\u001b[A\u001b[A\n",
            "\n",
            "pyswarms.single.global_best:  48%|████▊     |477/1000, best_cost=6.75e-22\u001b[A\u001b[A\n",
            "\n",
            "pyswarms.single.global_best:  48%|████▊     |477/1000, best_cost=6.75e-22\u001b[A\u001b[A\n",
            "\n",
            "pyswarms.single.global_best:  48%|████▊     |477/1000, best_cost=6.75e-22\u001b[A\u001b[A\n",
            "\n",
            "pyswarms.single.global_best:  48%|████▊     |477/1000, best_cost=6.75e-22\u001b[A\u001b[A\n",
            "\n",
            "pyswarms.single.global_best:  48%|████▊     |484/1000, best_cost=6.75e-22\u001b[A\u001b[A\n",
            "\n",
            "pyswarms.single.global_best:  48%|████▊     |484/1000, best_cost=6.75e-22\u001b[A\u001b[A\n",
            "\n",
            "pyswarms.single.global_best:  48%|████▊     |484/1000, best_cost=4.38e-22\u001b[A\u001b[A\n",
            "\n",
            "pyswarms.single.global_best:  48%|████▊     |484/1000, best_cost=4.05e-22\u001b[A\u001b[A\n",
            "\n",
            "pyswarms.single.global_best:  48%|████▊     |484/1000, best_cost=3.58e-22\u001b[A\u001b[A\n",
            "\n",
            "pyswarms.single.global_best:  48%|████▊     |484/1000, best_cost=3.58e-22\u001b[A\u001b[A\n",
            "\n",
            "pyswarms.single.global_best:  48%|████▊     |484/1000, best_cost=2.34e-22\u001b[A\u001b[A\n",
            "\n",
            "pyswarms.single.global_best:  48%|████▊     |484/1000, best_cost=2.23e-22\u001b[A\u001b[A\n",
            "\n",
            "pyswarms.single.global_best:  49%|████▉     |491/1000, best_cost=2.23e-22\u001b[A\u001b[A\n",
            "\n",
            "pyswarms.single.global_best:  49%|████▉     |491/1000, best_cost=2.23e-22\u001b[A\u001b[A\n",
            "\n",
            "pyswarms.single.global_best:  49%|████▉     |491/1000, best_cost=2.18e-22\u001b[A\u001b[A\n",
            "\n",
            "pyswarms.single.global_best:  49%|████▉     |491/1000, best_cost=2.18e-22\u001b[A\u001b[A\n",
            "\n",
            "pyswarms.single.global_best:  49%|████▉     |491/1000, best_cost=1.82e-22\u001b[A\u001b[A\n",
            "\n",
            "pyswarms.single.global_best:  49%|████▉     |491/1000, best_cost=1.82e-22\u001b[A\u001b[A\n",
            "\n",
            "pyswarms.single.global_best:  49%|████▉     |491/1000, best_cost=1.82e-22\u001b[A\u001b[A\n",
            "\n",
            "pyswarms.single.global_best:  49%|████▉     |491/1000, best_cost=1.82e-22\u001b[A\u001b[A\n",
            "\n",
            "pyswarms.single.global_best:  50%|████▉     |498/1000, best_cost=1.82e-22\u001b[A\u001b[A\n",
            "\n",
            "pyswarms.single.global_best:  50%|████▉     |498/1000, best_cost=1.82e-22\u001b[A\u001b[A\n",
            "\n",
            "pyswarms.single.global_best:  50%|████▉     |498/1000, best_cost=1.65e-22\u001b[A\u001b[A\n",
            "\n",
            "pyswarms.single.global_best:  50%|████▉     |498/1000, best_cost=1.31e-22\u001b[A\u001b[A\n",
            "\n",
            "pyswarms.single.global_best:  50%|████▉     |498/1000, best_cost=1.13e-22\u001b[A\u001b[A\n",
            "\n",
            "pyswarms.single.global_best:  50%|████▉     |498/1000, best_cost=1.13e-22\u001b[A\u001b[A\n",
            "\n",
            "pyswarms.single.global_best:  50%|████▉     |498/1000, best_cost=1.04e-22\u001b[A\u001b[A\n",
            "\n",
            "pyswarms.single.global_best:  50%|████▉     |498/1000, best_cost=9.76e-23\u001b[A\u001b[A\n",
            "\n",
            "pyswarms.single.global_best:  50%|█████     |505/1000, best_cost=9.76e-23\u001b[A\u001b[A\n",
            "\n",
            "pyswarms.single.global_best:  50%|█████     |505/1000, best_cost=9.61e-23\u001b[A\u001b[A\n",
            "\n",
            "pyswarms.single.global_best:  50%|█████     |505/1000, best_cost=8.66e-23\u001b[A\u001b[A\n",
            "\n",
            "pyswarms.single.global_best:  50%|█████     |505/1000, best_cost=7.78e-23\u001b[A\u001b[A\n",
            "\n",
            "pyswarms.single.global_best:  50%|█████     |505/1000, best_cost=6.29e-23\u001b[A\u001b[A\n",
            "\n",
            "pyswarms.single.global_best:  50%|█████     |505/1000, best_cost=5.91e-23\u001b[A\u001b[A\n",
            "\n",
            "pyswarms.single.global_best:  50%|█████     |505/1000, best_cost=5.91e-23\u001b[A\u001b[A\n",
            "\n",
            "pyswarms.single.global_best:  50%|█████     |505/1000, best_cost=4.29e-23\u001b[A\u001b[A\n",
            "\n",
            "pyswarms.single.global_best:  51%|█████     |512/1000, best_cost=4.29e-23\u001b[A\u001b[A\n",
            "\n",
            "pyswarms.single.global_best:  51%|█████     |512/1000, best_cost=4.29e-23\u001b[A\u001b[A\n",
            "\n",
            "pyswarms.single.global_best:  51%|█████     |512/1000, best_cost=4.29e-23\u001b[A\u001b[A\n",
            "\n",
            "pyswarms.single.global_best:  51%|█████     |512/1000, best_cost=3.06e-23\u001b[A\u001b[A\n",
            "\n",
            "pyswarms.single.global_best:  51%|█████     |512/1000, best_cost=3.06e-23\u001b[A\u001b[A\n",
            "\n",
            "pyswarms.single.global_best:  51%|█████     |512/1000, best_cost=2.5e-23 \u001b[A\u001b[A\n",
            "\n",
            "pyswarms.single.global_best:  51%|█████     |512/1000, best_cost=2.49e-23\u001b[A\u001b[A\n",
            "\n",
            "pyswarms.single.global_best:  51%|█████     |512/1000, best_cost=2.38e-23\u001b[A\u001b[A\n",
            "\n",
            "pyswarms.single.global_best:  52%|█████▏    |519/1000, best_cost=2.38e-23\u001b[A\u001b[A\n",
            "\n",
            "pyswarms.single.global_best:  52%|█████▏    |519/1000, best_cost=2.35e-23\u001b[A\u001b[A\n",
            "\n",
            "pyswarms.single.global_best:  52%|█████▏    |519/1000, best_cost=2.04e-23\u001b[A\u001b[A\n",
            "\n",
            "pyswarms.single.global_best:  52%|█████▏    |519/1000, best_cost=1.61e-23\u001b[A\u001b[A\n",
            "\n",
            "pyswarms.single.global_best:  52%|█████▏    |519/1000, best_cost=1.26e-23\u001b[A\u001b[A\n",
            "\n",
            "pyswarms.single.global_best:  52%|█████▏    |519/1000, best_cost=9.41e-24\u001b[A\u001b[A\n",
            "\n",
            "pyswarms.single.global_best:  52%|█████▏    |519/1000, best_cost=9.41e-24\u001b[A\u001b[A\n",
            "\n",
            "pyswarms.single.global_best:  52%|█████▏    |519/1000, best_cost=6.26e-24\u001b[A\u001b[A\n",
            "\n",
            "pyswarms.single.global_best:  53%|█████▎    |526/1000, best_cost=6.26e-24\u001b[A\u001b[A\n",
            "\n",
            "pyswarms.single.global_best:  53%|█████▎    |526/1000, best_cost=6.26e-24\u001b[A\u001b[A\n",
            "\n",
            "pyswarms.single.global_best:  53%|█████▎    |526/1000, best_cost=6.11e-24\u001b[A\u001b[A\n",
            "\n",
            "pyswarms.single.global_best:  53%|█████▎    |526/1000, best_cost=6.11e-24\u001b[A\u001b[A\n",
            "\n",
            "pyswarms.single.global_best:  53%|█████▎    |526/1000, best_cost=6.11e-24\u001b[A\u001b[A\n",
            "\n",
            "pyswarms.single.global_best:  53%|█████▎    |526/1000, best_cost=6.11e-24\u001b[A\u001b[A\n",
            "\n",
            "pyswarms.single.global_best:  53%|█████▎    |526/1000, best_cost=5.73e-24\u001b[A\u001b[A\n",
            "\n",
            "pyswarms.single.global_best:  53%|█████▎    |526/1000, best_cost=5.73e-24\u001b[A\u001b[A\n",
            "\n",
            "pyswarms.single.global_best:  53%|█████▎    |533/1000, best_cost=5.73e-24\u001b[A\u001b[A\n",
            "\n",
            "pyswarms.single.global_best:  53%|█████▎    |533/1000, best_cost=5.73e-24\u001b[A\u001b[A\n",
            "\n",
            "pyswarms.single.global_best:  53%|█████▎    |533/1000, best_cost=5.73e-24\u001b[A\u001b[A\n",
            "\n",
            "pyswarms.single.global_best:  53%|█████▎    |533/1000, best_cost=5.35e-24\u001b[A\u001b[A\n",
            "\n",
            "pyswarms.single.global_best:  53%|█████▎    |533/1000, best_cost=4.86e-24\u001b[A\u001b[A\n",
            "\n",
            "pyswarms.single.global_best:  53%|█████▎    |533/1000, best_cost=3.83e-24\u001b[A\u001b[A\n",
            "\n",
            "pyswarms.single.global_best:  53%|█████▎    |533/1000, best_cost=3.83e-24\u001b[A\u001b[A\n",
            "\n",
            "pyswarms.single.global_best:  53%|█████▎    |533/1000, best_cost=3.83e-24\u001b[A\u001b[A\n",
            "\n",
            "pyswarms.single.global_best:  54%|█████▍    |540/1000, best_cost=3.83e-24\u001b[A\u001b[A\n",
            "\n",
            "pyswarms.single.global_best:  54%|█████▍    |540/1000, best_cost=3.83e-24\u001b[A\u001b[A\n",
            "\n",
            "pyswarms.single.global_best:  54%|█████▍    |540/1000, best_cost=3.83e-24\u001b[A\u001b[A\n",
            "\n",
            "pyswarms.single.global_best:  54%|█████▍    |540/1000, best_cost=3.83e-24\u001b[A\u001b[A\n",
            "\n",
            "pyswarms.single.global_best:  54%|█████▍    |540/1000, best_cost=3.79e-24\u001b[A\u001b[A\n",
            "\n",
            "pyswarms.single.global_best:  54%|█████▍    |540/1000, best_cost=2.91e-24\u001b[A\u001b[A\n",
            "\n",
            "pyswarms.single.global_best:  54%|█████▍    |540/1000, best_cost=2.91e-24\u001b[A\u001b[A\n",
            "\n",
            "pyswarms.single.global_best:  54%|█████▍    |540/1000, best_cost=2.91e-24\u001b[A\u001b[A\n",
            "\n",
            "pyswarms.single.global_best:  55%|█████▍    |547/1000, best_cost=2.91e-24\u001b[A\u001b[A\n",
            "\n",
            "pyswarms.single.global_best:  55%|█████▍    |547/1000, best_cost=2.91e-24\u001b[A\u001b[A\n",
            "\n",
            "pyswarms.single.global_best:  55%|█████▍    |547/1000, best_cost=2.76e-24\u001b[A\u001b[A\n",
            "\n",
            "pyswarms.single.global_best:  55%|█████▍    |547/1000, best_cost=2.76e-24\u001b[A\u001b[A\n",
            "\n",
            "pyswarms.single.global_best:  55%|█████▍    |547/1000, best_cost=2.54e-24\u001b[A\u001b[A\n",
            "\n",
            "pyswarms.single.global_best:  55%|█████▍    |547/1000, best_cost=2.5e-24 \u001b[A\u001b[A\n",
            "\n",
            "pyswarms.single.global_best:  55%|█████▍    |547/1000, best_cost=2.25e-24\u001b[A\u001b[A\n",
            "\n",
            "pyswarms.single.global_best:  55%|█████▍    |547/1000, best_cost=1.6e-24 \u001b[A\u001b[A\n",
            "\n",
            "pyswarms.single.global_best:  55%|█████▌    |554/1000, best_cost=1.6e-24\u001b[A\u001b[A\n",
            "\n",
            "pyswarms.single.global_best:  55%|█████▌    |554/1000, best_cost=1.43e-24\u001b[A\u001b[A\n",
            "\n",
            "pyswarms.single.global_best:  55%|█████▌    |554/1000, best_cost=1.43e-24\u001b[A\u001b[A\n",
            "\n",
            "pyswarms.single.global_best:  55%|█████▌    |554/1000, best_cost=1.43e-24\u001b[A\u001b[A\n",
            "\n",
            "pyswarms.single.global_best:  55%|█████▌    |554/1000, best_cost=1.43e-24\u001b[A\u001b[A\n",
            "\n",
            "pyswarms.single.global_best:  55%|█████▌    |554/1000, best_cost=1.43e-24\u001b[A\u001b[A\n",
            "\n",
            "pyswarms.single.global_best:  55%|█████▌    |554/1000, best_cost=1.43e-24\u001b[A\u001b[A\n",
            "\n",
            "pyswarms.single.global_best:  55%|█████▌    |554/1000, best_cost=1.33e-24\u001b[A\u001b[A\n",
            "\n",
            "pyswarms.single.global_best:  56%|█████▌    |561/1000, best_cost=1.33e-24\u001b[A\u001b[A\n",
            "\n",
            "pyswarms.single.global_best:  56%|█████▌    |561/1000, best_cost=8.83e-25\u001b[A\u001b[A\n",
            "\n",
            "pyswarms.single.global_best:  56%|█████▌    |561/1000, best_cost=8.83e-25\u001b[A\u001b[A\n",
            "\n",
            "pyswarms.single.global_best:  56%|█████▌    |561/1000, best_cost=8.83e-25\u001b[A\u001b[A\n",
            "\n",
            "pyswarms.single.global_best:  56%|█████▌    |561/1000, best_cost=8.13e-25\u001b[A\u001b[A\n",
            "\n",
            "pyswarms.single.global_best:  56%|█████▌    |561/1000, best_cost=8.09e-25\u001b[A\u001b[A\n",
            "\n",
            "pyswarms.single.global_best:  56%|█████▌    |561/1000, best_cost=6.58e-25\u001b[A\u001b[A\n",
            "\n",
            "pyswarms.single.global_best:  56%|█████▌    |561/1000, best_cost=6.58e-25\u001b[A\u001b[A\n",
            "\n",
            "pyswarms.single.global_best:  57%|█████▋    |568/1000, best_cost=6.58e-25\u001b[A\u001b[A\n",
            "\n",
            "pyswarms.single.global_best:  57%|█████▋    |568/1000, best_cost=6.38e-25\u001b[A\u001b[A\n",
            "\n",
            "pyswarms.single.global_best:  57%|█████▋    |568/1000, best_cost=6.38e-25\u001b[A\u001b[A\n",
            "\n",
            "pyswarms.single.global_best:  57%|█████▋    |568/1000, best_cost=6.38e-25\u001b[A\u001b[A\n",
            "\n",
            "pyswarms.single.global_best:  57%|█████▋    |568/1000, best_cost=6.38e-25\u001b[A\u001b[A\n",
            "\n",
            "pyswarms.single.global_best:  57%|█████▋    |568/1000, best_cost=6.05e-25\u001b[A\u001b[A\n",
            "\n",
            "pyswarms.single.global_best:  57%|█████▋    |568/1000, best_cost=6.05e-25\u001b[A\u001b[A\n",
            "\n",
            "pyswarms.single.global_best:  57%|█████▋    |568/1000, best_cost=6.05e-25\u001b[A\u001b[A\n",
            "\n",
            "pyswarms.single.global_best:  57%|█████▋    |568/1000, best_cost=6.05e-25\u001b[A\u001b[A\n",
            "\n",
            "pyswarms.single.global_best:  58%|█████▊    |576/1000, best_cost=6.05e-25\u001b[A\u001b[A\n",
            "\n",
            "pyswarms.single.global_best:  58%|█████▊    |576/1000, best_cost=6.05e-25\u001b[A\u001b[A\n",
            "\n",
            "pyswarms.single.global_best:  58%|█████▊    |576/1000, best_cost=4.24e-25\u001b[A\u001b[A\n",
            "\n",
            "pyswarms.single.global_best:  58%|█████▊    |576/1000, best_cost=4.24e-25\u001b[A\u001b[A\n",
            "\n",
            "pyswarms.single.global_best:  58%|█████▊    |576/1000, best_cost=4.24e-25\u001b[A\u001b[A\n",
            "\n",
            "pyswarms.single.global_best:  58%|█████▊    |576/1000, best_cost=4.23e-25\u001b[A\u001b[A\n",
            "\n",
            "pyswarms.single.global_best:  58%|█████▊    |576/1000, best_cost=4.14e-25\u001b[A\u001b[A\n",
            "\n",
            "pyswarms.single.global_best:  58%|█████▊    |576/1000, best_cost=2.64e-25\u001b[A\u001b[A\n",
            "\n",
            "pyswarms.single.global_best:  58%|█████▊    |576/1000, best_cost=2.64e-25\u001b[A\u001b[A\n",
            "\n",
            "pyswarms.single.global_best:  58%|█████▊    |584/1000, best_cost=2.64e-25\u001b[A\u001b[A\n",
            "\n",
            "pyswarms.single.global_best:  58%|█████▊    |584/1000, best_cost=2.3e-25 \u001b[A\u001b[A\n",
            "\n",
            "pyswarms.single.global_best:  58%|█████▊    |584/1000, best_cost=2.3e-25\u001b[A\u001b[A\n",
            "\n",
            "pyswarms.single.global_best:  58%|█████▊    |584/1000, best_cost=2.01e-25\u001b[A\u001b[A\n",
            "\n",
            "pyswarms.single.global_best:  58%|█████▊    |584/1000, best_cost=1.45e-25\u001b[A\u001b[A\n",
            "\n",
            "pyswarms.single.global_best:  58%|█████▊    |584/1000, best_cost=1.45e-25\u001b[A\u001b[A\n",
            "\n",
            "pyswarms.single.global_best:  58%|█████▊    |584/1000, best_cost=1.42e-25\u001b[A\u001b[A\n",
            "\n",
            "pyswarms.single.global_best:  58%|█████▊    |584/1000, best_cost=1.3e-25 \u001b[A\u001b[A\n",
            "\n",
            "pyswarms.single.global_best:  58%|█████▊    |584/1000, best_cost=1.15e-25\u001b[A\u001b[A\n",
            "\n",
            "pyswarms.single.global_best:  59%|█████▉    |592/1000, best_cost=1.15e-25\u001b[A\u001b[A\n",
            "\n",
            "pyswarms.single.global_best:  59%|█████▉    |592/1000, best_cost=1.03e-25\u001b[A\u001b[A\n",
            "\n",
            "pyswarms.single.global_best:  59%|█████▉    |592/1000, best_cost=1.03e-25\u001b[A\u001b[A\n",
            "\n",
            "pyswarms.single.global_best:  59%|█████▉    |592/1000, best_cost=9.76e-26\u001b[A\u001b[A\n",
            "\n",
            "pyswarms.single.global_best:  59%|█████▉    |592/1000, best_cost=9.76e-26\u001b[A\u001b[A\n",
            "\n",
            "pyswarms.single.global_best:  59%|█████▉    |592/1000, best_cost=9.76e-26\u001b[A\u001b[A\n",
            "\n",
            "pyswarms.single.global_best:  59%|█████▉    |592/1000, best_cost=8.6e-26 \u001b[A\u001b[A\n",
            "\n",
            "pyswarms.single.global_best:  59%|█████▉    |592/1000, best_cost=8.6e-26\u001b[A\u001b[A\n",
            "\n",
            "pyswarms.single.global_best:  59%|█████▉    |592/1000, best_cost=8.6e-26\u001b[A\u001b[A\n",
            "\n",
            "pyswarms.single.global_best:  60%|██████    |600/1000, best_cost=8.6e-26\u001b[A\u001b[A\n",
            "\n",
            "pyswarms.single.global_best:  60%|██████    |600/1000, best_cost=8.6e-26\u001b[A\u001b[A\n",
            "\n",
            "pyswarms.single.global_best:  60%|██████    |600/1000, best_cost=8.37e-26\u001b[A\u001b[A\n",
            "\n",
            "pyswarms.single.global_best:  60%|██████    |600/1000, best_cost=8.37e-26\u001b[A\u001b[A\n",
            "\n",
            "pyswarms.single.global_best:  60%|██████    |600/1000, best_cost=6.98e-26\u001b[A\u001b[A\n",
            "\n",
            "pyswarms.single.global_best:  60%|██████    |600/1000, best_cost=6.08e-26\u001b[A\u001b[A\n",
            "\n",
            "pyswarms.single.global_best:  60%|██████    |600/1000, best_cost=6.08e-26\u001b[A\u001b[A\n",
            "\n",
            "pyswarms.single.global_best:  60%|██████    |600/1000, best_cost=4.46e-26\u001b[A\u001b[A\n",
            "\n",
            "pyswarms.single.global_best:  60%|██████    |600/1000, best_cost=4.46e-26\u001b[A\u001b[A\n",
            "\n",
            "pyswarms.single.global_best:  61%|██████    |608/1000, best_cost=4.46e-26\u001b[A\u001b[A\n",
            "\n",
            "pyswarms.single.global_best:  61%|██████    |608/1000, best_cost=4.46e-26\u001b[A\u001b[A\n",
            "\n",
            "pyswarms.single.global_best:  61%|██████    |608/1000, best_cost=4.44e-26\u001b[A\u001b[A\n",
            "\n",
            "pyswarms.single.global_best:  61%|██████    |608/1000, best_cost=4.38e-26\u001b[A\u001b[A\n",
            "\n",
            "pyswarms.single.global_best:  61%|██████    |608/1000, best_cost=2.91e-26\u001b[A\u001b[A\n",
            "\n",
            "pyswarms.single.global_best:  61%|██████    |608/1000, best_cost=2.91e-26\u001b[A\u001b[A\n",
            "\n",
            "pyswarms.single.global_best:  61%|██████    |608/1000, best_cost=2.02e-26\u001b[A\u001b[A\n",
            "\n",
            "pyswarms.single.global_best:  61%|██████    |608/1000, best_cost=1.55e-26\u001b[A\u001b[A\n",
            "\n",
            "pyswarms.single.global_best:  61%|██████    |608/1000, best_cost=1.55e-26\u001b[A\u001b[A\n",
            "\n",
            "pyswarms.single.global_best:  62%|██████▏   |616/1000, best_cost=1.55e-26\u001b[A\u001b[A\n",
            "\n",
            "pyswarms.single.global_best:  62%|██████▏   |616/1000, best_cost=1.53e-26\u001b[A\u001b[A\n",
            "\n",
            "pyswarms.single.global_best:  62%|██████▏   |616/1000, best_cost=9.35e-27\u001b[A\u001b[A\n",
            "\n",
            "pyswarms.single.global_best:  62%|██████▏   |616/1000, best_cost=9.35e-27\u001b[A\u001b[A\n",
            "\n",
            "pyswarms.single.global_best:  62%|██████▏   |616/1000, best_cost=9.35e-27\u001b[A\u001b[A\n",
            "\n",
            "pyswarms.single.global_best:  62%|██████▏   |616/1000, best_cost=8.28e-27\u001b[A\u001b[A\n",
            "\n",
            "pyswarms.single.global_best:  62%|██████▏   |616/1000, best_cost=7.13e-27\u001b[A\u001b[A\n",
            "\n",
            "pyswarms.single.global_best:  62%|██████▏   |616/1000, best_cost=7.13e-27\u001b[A\u001b[A\n",
            "\n",
            "pyswarms.single.global_best:  62%|██████▏   |616/1000, best_cost=7.13e-27\u001b[A\u001b[A\n",
            "\n",
            "pyswarms.single.global_best:  62%|██████▏   |624/1000, best_cost=7.13e-27\u001b[A\u001b[A\n",
            "\n",
            "pyswarms.single.global_best:  62%|██████▏   |624/1000, best_cost=7.13e-27\u001b[A\u001b[A\n",
            "\n",
            "pyswarms.single.global_best:  62%|██████▏   |624/1000, best_cost=7.13e-27\u001b[A\u001b[A\n",
            "\n",
            "pyswarms.single.global_best:  62%|██████▏   |624/1000, best_cost=6.14e-27\u001b[A\u001b[A\n",
            "\n",
            "pyswarms.single.global_best:  62%|██████▏   |624/1000, best_cost=5.45e-27\u001b[A\u001b[A\n",
            "\n",
            "pyswarms.single.global_best:  62%|██████▏   |624/1000, best_cost=4.56e-27\u001b[A\u001b[A\n",
            "\n",
            "pyswarms.single.global_best:  62%|██████▏   |624/1000, best_cost=4.56e-27\u001b[A\u001b[A\n",
            "\n",
            "pyswarms.single.global_best:  62%|██████▏   |624/1000, best_cost=4.41e-27\u001b[A\u001b[A\n",
            "\n",
            "pyswarms.single.global_best:  62%|██████▏   |624/1000, best_cost=4.41e-27\u001b[A\u001b[A\n",
            "\n",
            "pyswarms.single.global_best:  63%|██████▎   |632/1000, best_cost=4.41e-27\u001b[A\u001b[A\n",
            "\n",
            "pyswarms.single.global_best:  63%|██████▎   |632/1000, best_cost=4.28e-27\u001b[A\u001b[A\n",
            "\n",
            "pyswarms.single.global_best:  63%|██████▎   |632/1000, best_cost=4e-27   \u001b[A\u001b[A\n",
            "\n",
            "pyswarms.single.global_best:  63%|██████▎   |632/1000, best_cost=3.04e-27\u001b[A\u001b[A\n",
            "\n",
            "pyswarms.single.global_best:  63%|██████▎   |632/1000, best_cost=3.04e-27\u001b[A\u001b[A\n",
            "\n",
            "pyswarms.single.global_best:  63%|██████▎   |632/1000, best_cost=2.47e-27\u001b[A\u001b[A\n",
            "\n",
            "pyswarms.single.global_best:  63%|██████▎   |632/1000, best_cost=2.47e-27\u001b[A\u001b[A\n",
            "\n",
            "pyswarms.single.global_best:  63%|██████▎   |632/1000, best_cost=2.47e-27\u001b[A\u001b[A\n",
            "\n",
            "pyswarms.single.global_best:  63%|██████▎   |632/1000, best_cost=2.1e-27 \u001b[A\u001b[A\n",
            "\n",
            "pyswarms.single.global_best:  64%|██████▍   |640/1000, best_cost=2.1e-27\u001b[A\u001b[A\n",
            "\n",
            "pyswarms.single.global_best:  64%|██████▍   |640/1000, best_cost=2.1e-27\u001b[A\u001b[A\n",
            "\n",
            "pyswarms.single.global_best:  64%|██████▍   |640/1000, best_cost=2.1e-27\u001b[A\u001b[A\n",
            "\n",
            "pyswarms.single.global_best:  64%|██████▍   |640/1000, best_cost=1.52e-27\u001b[A\u001b[A\n",
            "\n",
            "pyswarms.single.global_best:  64%|██████▍   |640/1000, best_cost=1.26e-27\u001b[A\u001b[A\n",
            "\n",
            "pyswarms.single.global_best:  64%|██████▍   |640/1000, best_cost=1.26e-27\u001b[A\u001b[A\n",
            "\n",
            "pyswarms.single.global_best:  64%|██████▍   |640/1000, best_cost=6.53e-28\u001b[A\u001b[A\n",
            "\n",
            "pyswarms.single.global_best:  64%|██████▍   |640/1000, best_cost=6.53e-28\u001b[A\u001b[A\n",
            "\n",
            "pyswarms.single.global_best:  64%|██████▍   |640/1000, best_cost=6.53e-28\u001b[A\u001b[A\n",
            "\n",
            "pyswarms.single.global_best:  65%|██████▍   |648/1000, best_cost=6.53e-28\u001b[A\u001b[A\n",
            "\n",
            "pyswarms.single.global_best:  65%|██████▍   |648/1000, best_cost=6.53e-28\u001b[A\u001b[A\n",
            "\n",
            "pyswarms.single.global_best:  65%|██████▍   |648/1000, best_cost=6.53e-28\u001b[A\u001b[A\n",
            "\n",
            "pyswarms.single.global_best:  65%|██████▍   |648/1000, best_cost=3.97e-28\u001b[A\u001b[A\n",
            "\n",
            "pyswarms.single.global_best:  65%|██████▍   |648/1000, best_cost=3.97e-28\u001b[A\u001b[A\n",
            "\n",
            "pyswarms.single.global_best:  65%|██████▍   |648/1000, best_cost=3.97e-28\u001b[A\u001b[A\n",
            "\n",
            "pyswarms.single.global_best:  65%|██████▍   |648/1000, best_cost=3.82e-28\u001b[A\u001b[A\n",
            "\n",
            "pyswarms.single.global_best:  65%|██████▍   |648/1000, best_cost=3.6e-28 \u001b[A\u001b[A\n",
            "\n",
            "pyswarms.single.global_best:  65%|██████▍   |648/1000, best_cost=3.25e-28\u001b[A\u001b[A\n",
            "\n",
            "pyswarms.single.global_best:  66%|██████▌   |656/1000, best_cost=3.25e-28\u001b[A\u001b[A\n",
            "\n",
            "pyswarms.single.global_best:  66%|██████▌   |656/1000, best_cost=3.24e-28\u001b[A\u001b[A\n",
            "\n",
            "pyswarms.single.global_best:  66%|██████▌   |656/1000, best_cost=3.24e-28\u001b[A\u001b[A\n",
            "\n",
            "pyswarms.single.global_best:  66%|██████▌   |656/1000, best_cost=2.93e-28\u001b[A\u001b[A\n",
            "\n",
            "pyswarms.single.global_best:  66%|██████▌   |656/1000, best_cost=1.88e-28\u001b[A\u001b[A\n",
            "\n",
            "pyswarms.single.global_best:  66%|██████▌   |656/1000, best_cost=1.88e-28\u001b[A\u001b[A\n",
            "\n",
            "pyswarms.single.global_best:  66%|██████▌   |656/1000, best_cost=1.88e-28\u001b[A\u001b[A\n",
            "\n",
            "pyswarms.single.global_best:  66%|██████▌   |656/1000, best_cost=1.88e-28\u001b[A\u001b[A\n",
            "\n",
            "pyswarms.single.global_best:  66%|██████▌   |656/1000, best_cost=1.88e-28\u001b[A\u001b[A\n",
            "\n",
            "pyswarms.single.global_best:  66%|██████▋   |664/1000, best_cost=1.88e-28\u001b[A\u001b[A\n",
            "\n",
            "pyswarms.single.global_best:  66%|██████▋   |664/1000, best_cost=1.88e-28\u001b[A\u001b[A\n",
            "\n",
            "pyswarms.single.global_best:  66%|██████▋   |664/1000, best_cost=1.88e-28\u001b[A\u001b[A\n",
            "\n",
            "pyswarms.single.global_best:  66%|██████▋   |664/1000, best_cost=1.88e-28\u001b[A\u001b[A\n",
            "\n",
            "pyswarms.single.global_best:  66%|██████▋   |664/1000, best_cost=1.79e-28\u001b[A\u001b[A\n",
            "\n",
            "pyswarms.single.global_best:  66%|██████▋   |664/1000, best_cost=1.79e-28\u001b[A\u001b[A\n",
            "\n",
            "pyswarms.single.global_best:  66%|██████▋   |664/1000, best_cost=1.79e-28\u001b[A\u001b[A\n",
            "\n",
            "pyswarms.single.global_best:  66%|██████▋   |664/1000, best_cost=1.79e-28\u001b[A\u001b[A\n",
            "\n",
            "pyswarms.single.global_best:  66%|██████▋   |664/1000, best_cost=1.79e-28\u001b[A\u001b[A\n",
            "\n",
            "pyswarms.single.global_best:  67%|██████▋   |672/1000, best_cost=1.79e-28\u001b[A\u001b[A\n",
            "\n",
            "pyswarms.single.global_best:  67%|██████▋   |672/1000, best_cost=1.79e-28\u001b[A\u001b[A\n",
            "\n",
            "pyswarms.single.global_best:  67%|██████▋   |672/1000, best_cost=1.74e-28\u001b[A\u001b[A\n",
            "\n",
            "pyswarms.single.global_best:  67%|██████▋   |672/1000, best_cost=1.74e-28\u001b[A\u001b[A\n",
            "\n",
            "pyswarms.single.global_best:  67%|██████▋   |672/1000, best_cost=1.39e-28\u001b[A\u001b[A\n",
            "\n",
            "pyswarms.single.global_best:  67%|██████▋   |672/1000, best_cost=1.39e-28\u001b[A\u001b[A\n",
            "\n",
            "pyswarms.single.global_best:  67%|██████▋   |672/1000, best_cost=9.17e-29\u001b[A\u001b[A\n",
            "\n",
            "pyswarms.single.global_best:  67%|██████▋   |672/1000, best_cost=9.17e-29\u001b[A\u001b[A\n",
            "\n",
            "pyswarms.single.global_best:  67%|██████▋   |672/1000, best_cost=9.17e-29\u001b[A\u001b[A\n",
            "\n",
            "pyswarms.single.global_best:  68%|██████▊   |680/1000, best_cost=9.17e-29\u001b[A\u001b[A\n",
            "\n",
            "pyswarms.single.global_best:  68%|██████▊   |680/1000, best_cost=9.17e-29\u001b[A\u001b[A\n",
            "\n",
            "pyswarms.single.global_best:  68%|██████▊   |680/1000, best_cost=9.17e-29\u001b[A\u001b[A\n",
            "\n",
            "pyswarms.single.global_best:  68%|██████▊   |680/1000, best_cost=9.17e-29\u001b[A\u001b[A\n",
            "\n",
            "pyswarms.single.global_best:  68%|██████▊   |680/1000, best_cost=9.17e-29\u001b[A\u001b[A\n",
            "\n",
            "pyswarms.single.global_best:  68%|██████▊   |680/1000, best_cost=8.24e-29\u001b[A\u001b[A\n",
            "\n",
            "pyswarms.single.global_best:  68%|██████▊   |680/1000, best_cost=8.24e-29\u001b[A\u001b[A\n",
            "\n",
            "pyswarms.single.global_best:  68%|██████▊   |680/1000, best_cost=8.14e-29\u001b[A\u001b[A\n",
            "\n",
            "pyswarms.single.global_best:  68%|██████▊   |680/1000, best_cost=6.26e-29\u001b[A\u001b[A\n",
            "\n",
            "pyswarms.single.global_best:  69%|██████▉   |688/1000, best_cost=6.26e-29\u001b[A\u001b[A\n",
            "\n",
            "pyswarms.single.global_best:  69%|██████▉   |688/1000, best_cost=6.26e-29\u001b[A\u001b[A\n",
            "\n",
            "pyswarms.single.global_best:  69%|██████▉   |688/1000, best_cost=5.57e-29\u001b[A\u001b[A\n",
            "\n",
            "pyswarms.single.global_best:  69%|██████▉   |688/1000, best_cost=4.41e-29\u001b[A\u001b[A\n",
            "\n",
            "pyswarms.single.global_best:  69%|██████▉   |688/1000, best_cost=4.27e-29\u001b[A\u001b[A\n",
            "\n",
            "pyswarms.single.global_best:  69%|██████▉   |688/1000, best_cost=4.27e-29\u001b[A\u001b[A\n",
            "\n",
            "pyswarms.single.global_best:  69%|██████▉   |688/1000, best_cost=4.27e-29\u001b[A\u001b[A\n",
            "\n",
            "pyswarms.single.global_best:  69%|██████▉   |688/1000, best_cost=4.27e-29\u001b[A\u001b[A\n",
            "\n",
            "pyswarms.single.global_best:  69%|██████▉   |688/1000, best_cost=4.27e-29\u001b[A\u001b[A\n",
            "\n",
            "pyswarms.single.global_best:  70%|██████▉   |696/1000, best_cost=4.27e-29\u001b[A\u001b[A\n",
            "\n",
            "pyswarms.single.global_best:  70%|██████▉   |696/1000, best_cost=4.06e-29\u001b[A\u001b[A\n",
            "\n",
            "pyswarms.single.global_best:  70%|██████▉   |696/1000, best_cost=4.06e-29\u001b[A\u001b[A\n",
            "\n",
            "pyswarms.single.global_best:  70%|██████▉   |696/1000, best_cost=4.06e-29\u001b[A\u001b[A\n",
            "\n",
            "pyswarms.single.global_best:  70%|██████▉   |696/1000, best_cost=3.77e-29\u001b[A\u001b[A\n",
            "\n",
            "pyswarms.single.global_best:  70%|██████▉   |696/1000, best_cost=3.77e-29\u001b[A\u001b[A\n",
            "\n",
            "pyswarms.single.global_best:  70%|██████▉   |696/1000, best_cost=3.77e-29\u001b[A\u001b[A\n",
            "\n",
            "pyswarms.single.global_best:  70%|██████▉   |696/1000, best_cost=3.2e-29 \u001b[A\u001b[A\n",
            "\n",
            "pyswarms.single.global_best:  70%|██████▉   |696/1000, best_cost=2.57e-29\u001b[A\u001b[A\n",
            "\n",
            "pyswarms.single.global_best:  70%|███████   |704/1000, best_cost=2.57e-29\u001b[A\u001b[A\n",
            "\n",
            "pyswarms.single.global_best:  70%|███████   |704/1000, best_cost=2.57e-29\u001b[A\u001b[A\n",
            "\n",
            "pyswarms.single.global_best:  70%|███████   |704/1000, best_cost=2.07e-29\u001b[A\u001b[A\n",
            "\n",
            "pyswarms.single.global_best:  70%|███████   |704/1000, best_cost=2.07e-29\u001b[A\u001b[A\n",
            "\n",
            "pyswarms.single.global_best:  70%|███████   |704/1000, best_cost=2.04e-29\u001b[A\u001b[A\n",
            "\n",
            "pyswarms.single.global_best:  70%|███████   |704/1000, best_cost=1.76e-29\u001b[A\u001b[A\n",
            "\n",
            "pyswarms.single.global_best:  70%|███████   |704/1000, best_cost=1.64e-29\u001b[A\u001b[A\n",
            "\n",
            "pyswarms.single.global_best:  70%|███████   |704/1000, best_cost=1.64e-29\u001b[A\u001b[A\n",
            "\n",
            "pyswarms.single.global_best:  70%|███████   |704/1000, best_cost=1.6e-29 \u001b[A\u001b[A\n",
            "\n",
            "pyswarms.single.global_best:  71%|███████   |712/1000, best_cost=1.6e-29\u001b[A\u001b[A\n",
            "\n",
            "pyswarms.single.global_best:  71%|███████   |712/1000, best_cost=1.56e-29\u001b[A\u001b[A\n",
            "\n",
            "pyswarms.single.global_best:  71%|███████   |712/1000, best_cost=1.56e-29\u001b[A\u001b[A\n",
            "\n",
            "pyswarms.single.global_best:  71%|███████   |712/1000, best_cost=1.11e-29\u001b[A\u001b[A\n",
            "\n",
            "pyswarms.single.global_best:  71%|███████   |712/1000, best_cost=1.11e-29\u001b[A\u001b[A\n",
            "\n",
            "pyswarms.single.global_best:  71%|███████   |712/1000, best_cost=1.1e-29 \u001b[A\u001b[A\n",
            "\n",
            "pyswarms.single.global_best:  71%|███████   |712/1000, best_cost=8.98e-30\u001b[A\u001b[A\n",
            "\n",
            "pyswarms.single.global_best:  71%|███████   |712/1000, best_cost=8.98e-30\u001b[A\u001b[A\n",
            "\n",
            "pyswarms.single.global_best:  71%|███████   |712/1000, best_cost=8.16e-30\u001b[A\u001b[A\n",
            "\n",
            "pyswarms.single.global_best:  72%|███████▏  |720/1000, best_cost=8.16e-30\u001b[A\u001b[A\n",
            "\n",
            "pyswarms.single.global_best:  72%|███████▏  |720/1000, best_cost=6.08e-30\u001b[A\u001b[A\n",
            "\n",
            "pyswarms.single.global_best:  72%|███████▏  |720/1000, best_cost=3.62e-30\u001b[A\u001b[A\n",
            "\n",
            "pyswarms.single.global_best:  72%|███████▏  |720/1000, best_cost=3.62e-30\u001b[A\u001b[A\n",
            "\n",
            "pyswarms.single.global_best:  72%|███████▏  |720/1000, best_cost=3.55e-30\u001b[A\u001b[A\n",
            "\n",
            "pyswarms.single.global_best:  72%|███████▏  |720/1000, best_cost=3.05e-30\u001b[A\u001b[A\n",
            "\n",
            "pyswarms.single.global_best:  72%|███████▏  |720/1000, best_cost=2.51e-30\u001b[A\u001b[A\n",
            "\n",
            "pyswarms.single.global_best:  72%|███████▏  |720/1000, best_cost=2.51e-30\u001b[A\u001b[A\n",
            "\n",
            "pyswarms.single.global_best:  72%|███████▏  |720/1000, best_cost=1.44e-30\u001b[A\u001b[A\n",
            "\n",
            "pyswarms.single.global_best:  73%|███████▎  |728/1000, best_cost=1.44e-30\u001b[A\u001b[A\n",
            "\n",
            "pyswarms.single.global_best:  73%|███████▎  |728/1000, best_cost=1.44e-30\u001b[A\u001b[A\n",
            "\n",
            "pyswarms.single.global_best:  73%|███████▎  |728/1000, best_cost=1.44e-30\u001b[A\u001b[A\n",
            "\n",
            "pyswarms.single.global_best:  73%|███████▎  |728/1000, best_cost=1.44e-30\u001b[A\u001b[A\n",
            "\n",
            "pyswarms.single.global_best:  73%|███████▎  |728/1000, best_cost=1.44e-30\u001b[A\u001b[A\n",
            "\n",
            "pyswarms.single.global_best:  73%|███████▎  |728/1000, best_cost=1.44e-30\u001b[A\u001b[A\n",
            "\n",
            "pyswarms.single.global_best:  73%|███████▎  |728/1000, best_cost=1.44e-30\u001b[A\u001b[A\n",
            "\n",
            "pyswarms.single.global_best:  73%|███████▎  |728/1000, best_cost=1.37e-30\u001b[A\u001b[A\n",
            "\n",
            "pyswarms.single.global_best:  73%|███████▎  |728/1000, best_cost=1.2e-30 \u001b[A\u001b[A\n",
            "\n",
            "pyswarms.single.global_best:  74%|███████▎  |736/1000, best_cost=1.2e-30\u001b[A\u001b[A\n",
            "\n",
            "pyswarms.single.global_best:  74%|███████▎  |736/1000, best_cost=1.06e-30\u001b[A\u001b[A\n",
            "\n",
            "pyswarms.single.global_best:  74%|███████▎  |736/1000, best_cost=1.06e-30\u001b[A\u001b[A\n",
            "\n",
            "pyswarms.single.global_best:  74%|███████▎  |736/1000, best_cost=1.06e-30\u001b[A\u001b[A\n",
            "\n",
            "pyswarms.single.global_best:  74%|███████▎  |736/1000, best_cost=9.36e-31\u001b[A\u001b[A\n",
            "\n",
            "pyswarms.single.global_best:  74%|███████▎  |736/1000, best_cost=9.36e-31\u001b[A\u001b[A\n",
            "\n",
            "pyswarms.single.global_best:  74%|███████▎  |736/1000, best_cost=9.36e-31\u001b[A\u001b[A\n",
            "\n",
            "pyswarms.single.global_best:  74%|███████▎  |736/1000, best_cost=8.83e-31\u001b[A\u001b[A\n",
            "\n",
            "pyswarms.single.global_best:  74%|███████▎  |736/1000, best_cost=8.83e-31\u001b[A\u001b[A\n",
            "\n",
            "pyswarms.single.global_best:  74%|███████▍  |744/1000, best_cost=8.83e-31\u001b[A\u001b[A\n",
            "\n",
            "pyswarms.single.global_best:  74%|███████▍  |744/1000, best_cost=7.02e-31\u001b[A\u001b[A\n",
            "\n",
            "pyswarms.single.global_best:  74%|███████▍  |744/1000, best_cost=6.85e-31\u001b[A\u001b[A\n",
            "\n",
            "pyswarms.single.global_best:  74%|███████▍  |744/1000, best_cost=5.59e-31\u001b[A\u001b[A\n",
            "\n",
            "pyswarms.single.global_best:  74%|███████▍  |744/1000, best_cost=5.59e-31\u001b[A\u001b[A\n",
            "\n",
            "pyswarms.single.global_best:  74%|███████▍  |744/1000, best_cost=4.87e-31\u001b[A\u001b[A\n",
            "\n",
            "pyswarms.single.global_best:  74%|███████▍  |744/1000, best_cost=4.87e-31\u001b[A\u001b[A\n",
            "\n",
            "pyswarms.single.global_best:  74%|███████▍  |744/1000, best_cost=4.87e-31\u001b[A\u001b[A\n",
            "\n",
            "pyswarms.single.global_best:  74%|███████▍  |744/1000, best_cost=4.87e-31\u001b[A\u001b[A\n",
            "\n",
            "pyswarms.single.global_best:  75%|███████▌  |752/1000, best_cost=4.87e-31\u001b[A\u001b[A\n",
            "\n",
            "pyswarms.single.global_best:  75%|███████▌  |752/1000, best_cost=3.61e-31\u001b[A\u001b[A\n",
            "\n",
            "pyswarms.single.global_best:  75%|███████▌  |752/1000, best_cost=3.61e-31\u001b[A\u001b[A\n",
            "\n",
            "pyswarms.single.global_best:  75%|███████▌  |752/1000, best_cost=3.61e-31\u001b[A\u001b[A\n",
            "\n",
            "pyswarms.single.global_best:  75%|███████▌  |752/1000, best_cost=3.61e-31\u001b[A\u001b[A\n",
            "\n",
            "pyswarms.single.global_best:  75%|███████▌  |752/1000, best_cost=3.41e-31\u001b[A\u001b[A\n",
            "\n",
            "pyswarms.single.global_best:  75%|███████▌  |752/1000, best_cost=3.41e-31\u001b[A\u001b[A\n",
            "\n",
            "pyswarms.single.global_best:  75%|███████▌  |752/1000, best_cost=3.15e-31\u001b[A\u001b[A\n",
            "\n",
            "pyswarms.single.global_best:  75%|███████▌  |752/1000, best_cost=3.15e-31\u001b[A\u001b[A\n",
            "\n",
            "pyswarms.single.global_best:  76%|███████▌  |760/1000, best_cost=3.15e-31\u001b[A\u001b[A\n",
            "\n",
            "pyswarms.single.global_best:  76%|███████▌  |760/1000, best_cost=2.81e-31\u001b[A\u001b[A\n",
            "\n",
            "pyswarms.single.global_best:  76%|███████▌  |760/1000, best_cost=2.51e-31\u001b[A\u001b[A\n",
            "\n",
            "pyswarms.single.global_best:  76%|███████▌  |760/1000, best_cost=2.51e-31\u001b[A\u001b[A\n",
            "\n",
            "pyswarms.single.global_best:  76%|███████▌  |760/1000, best_cost=2.28e-31\u001b[A\u001b[A\n",
            "\n",
            "pyswarms.single.global_best:  76%|███████▌  |760/1000, best_cost=1.84e-31\u001b[A\u001b[A\n",
            "\n",
            "pyswarms.single.global_best:  76%|███████▌  |760/1000, best_cost=1.55e-31\u001b[A\u001b[A\n",
            "\n",
            "pyswarms.single.global_best:  76%|███████▌  |760/1000, best_cost=1.55e-31\u001b[A\u001b[A\n",
            "\n",
            "pyswarms.single.global_best:  76%|███████▌  |760/1000, best_cost=1.55e-31\u001b[A\u001b[A\n",
            "\n",
            "pyswarms.single.global_best:  77%|███████▋  |768/1000, best_cost=1.55e-31\u001b[A\u001b[A\n",
            "\n",
            "pyswarms.single.global_best:  77%|███████▋  |768/1000, best_cost=1.55e-31\u001b[A\u001b[A\n",
            "\n",
            "pyswarms.single.global_best:  77%|███████▋  |768/1000, best_cost=1.55e-31\u001b[A\u001b[A\n",
            "\n",
            "pyswarms.single.global_best:  77%|███████▋  |768/1000, best_cost=1.31e-31\u001b[A\u001b[A\n",
            "\n",
            "pyswarms.single.global_best:  77%|███████▋  |768/1000, best_cost=1.24e-31\u001b[A\u001b[A\n",
            "\n",
            "pyswarms.single.global_best:  77%|███████▋  |768/1000, best_cost=1.14e-31\u001b[A\u001b[A\n",
            "\n",
            "pyswarms.single.global_best:  77%|███████▋  |768/1000, best_cost=1.07e-31\u001b[A\u001b[A\n",
            "\n",
            "pyswarms.single.global_best:  77%|███████▋  |768/1000, best_cost=8.18e-32\u001b[A\u001b[A\n",
            "\n",
            "pyswarms.single.global_best:  77%|███████▋  |768/1000, best_cost=7.49e-32\u001b[A\u001b[A\n",
            "\n",
            "pyswarms.single.global_best:  78%|███████▊  |776/1000, best_cost=7.49e-32\u001b[A\u001b[A\n",
            "\n",
            "pyswarms.single.global_best:  78%|███████▊  |776/1000, best_cost=6.63e-32\u001b[A\u001b[A\n",
            "\n",
            "pyswarms.single.global_best:  78%|███████▊  |776/1000, best_cost=6.54e-32\u001b[A\u001b[A\n",
            "\n",
            "pyswarms.single.global_best:  78%|███████▊  |776/1000, best_cost=6.54e-32\u001b[A\u001b[A\n",
            "\n",
            "pyswarms.single.global_best:  78%|███████▊  |776/1000, best_cost=4.92e-32\u001b[A\u001b[A\n",
            "\n",
            "pyswarms.single.global_best:  78%|███████▊  |776/1000, best_cost=4.92e-32\u001b[A\u001b[A\n",
            "\n",
            "pyswarms.single.global_best:  78%|███████▊  |776/1000, best_cost=4.87e-32\u001b[A\u001b[A\n",
            "\n",
            "pyswarms.single.global_best:  78%|███████▊  |776/1000, best_cost=4.52e-32\u001b[A\u001b[A\n",
            "\n",
            "pyswarms.single.global_best:  78%|███████▊  |776/1000, best_cost=4.43e-32\u001b[A\u001b[A\n",
            "\n",
            "pyswarms.single.global_best:  78%|███████▊  |784/1000, best_cost=4.43e-32\u001b[A\u001b[A\n",
            "\n",
            "pyswarms.single.global_best:  78%|███████▊  |784/1000, best_cost=3.88e-32\u001b[A\u001b[A\n",
            "\n",
            "pyswarms.single.global_best:  78%|███████▊  |784/1000, best_cost=3.88e-32\u001b[A\u001b[A\n",
            "\n",
            "pyswarms.single.global_best:  78%|███████▊  |784/1000, best_cost=3.76e-32\u001b[A\u001b[A\n",
            "\n",
            "pyswarms.single.global_best:  78%|███████▊  |784/1000, best_cost=3.62e-32\u001b[A\u001b[A\n",
            "\n",
            "pyswarms.single.global_best:  78%|███████▊  |784/1000, best_cost=3.26e-32\u001b[A\u001b[A\n",
            "\n",
            "pyswarms.single.global_best:  78%|███████▊  |784/1000, best_cost=3.26e-32\u001b[A\u001b[A\n",
            "\n",
            "pyswarms.single.global_best:  78%|███████▊  |784/1000, best_cost=3.26e-32\u001b[A\u001b[A\n",
            "\n",
            "pyswarms.single.global_best:  78%|███████▊  |784/1000, best_cost=3.25e-32\u001b[A\u001b[A\n",
            "\n",
            "pyswarms.single.global_best:  79%|███████▉  |792/1000, best_cost=3.25e-32\u001b[A\u001b[A\n",
            "\n",
            "pyswarms.single.global_best:  79%|███████▉  |792/1000, best_cost=3.14e-32\u001b[A\u001b[A\n",
            "\n",
            "pyswarms.single.global_best:  79%|███████▉  |792/1000, best_cost=2.76e-32\u001b[A\u001b[A\n",
            "\n",
            "pyswarms.single.global_best:  79%|███████▉  |792/1000, best_cost=2.58e-32\u001b[A\u001b[A\n",
            "\n",
            "pyswarms.single.global_best:  79%|███████▉  |792/1000, best_cost=2.58e-32\u001b[A\u001b[A\n",
            "\n",
            "pyswarms.single.global_best:  79%|███████▉  |792/1000, best_cost=2.46e-32\u001b[A\u001b[A\n",
            "\n",
            "pyswarms.single.global_best:  79%|███████▉  |792/1000, best_cost=2.17e-32\u001b[A\u001b[A\n",
            "\n",
            "pyswarms.single.global_best:  79%|███████▉  |792/1000, best_cost=2e-32   \u001b[A\u001b[A\n",
            "\n",
            "pyswarms.single.global_best:  79%|███████▉  |792/1000, best_cost=1.99e-32\u001b[A\u001b[A\n",
            "\n",
            "pyswarms.single.global_best:  80%|████████  |800/1000, best_cost=1.99e-32\u001b[A\u001b[A\n",
            "\n",
            "pyswarms.single.global_best:  80%|████████  |800/1000, best_cost=1.92e-32\u001b[A\u001b[A\n",
            "\n",
            "pyswarms.single.global_best:  80%|████████  |800/1000, best_cost=1.48e-32\u001b[A\u001b[A\n",
            "\n",
            "pyswarms.single.global_best:  80%|████████  |800/1000, best_cost=1.48e-32\u001b[A\u001b[A\n",
            "\n",
            "pyswarms.single.global_best:  80%|████████  |800/1000, best_cost=1.33e-32\u001b[A\u001b[A\n",
            "\n",
            "pyswarms.single.global_best:  80%|████████  |800/1000, best_cost=1.13e-32\u001b[A\u001b[A\n",
            "\n",
            "pyswarms.single.global_best:  80%|████████  |800/1000, best_cost=1.13e-32\u001b[A\u001b[A\n",
            "\n",
            "pyswarms.single.global_best:  80%|████████  |800/1000, best_cost=1.1e-32 \u001b[A\u001b[A\n",
            "\n",
            "pyswarms.single.global_best:  80%|████████  |800/1000, best_cost=7.06e-33\u001b[A\u001b[A\n",
            "\n",
            "pyswarms.single.global_best:  81%|████████  |808/1000, best_cost=7.06e-33\u001b[A\u001b[A\n",
            "\n",
            "pyswarms.single.global_best:  81%|████████  |808/1000, best_cost=6.32e-33\u001b[A\u001b[A\n",
            "\n",
            "pyswarms.single.global_best:  81%|████████  |808/1000, best_cost=6.32e-33\u001b[A\u001b[A\n",
            "\n",
            "pyswarms.single.global_best:  81%|████████  |808/1000, best_cost=5.56e-33\u001b[A\u001b[A\n",
            "\n",
            "pyswarms.single.global_best:  81%|████████  |808/1000, best_cost=4.68e-33\u001b[A\u001b[A\n",
            "\n",
            "pyswarms.single.global_best:  81%|████████  |808/1000, best_cost=4.03e-33\u001b[A\u001b[A\n",
            "\n",
            "pyswarms.single.global_best:  81%|████████  |808/1000, best_cost=2.36e-33\u001b[A\u001b[A\n",
            "\n",
            "pyswarms.single.global_best:  81%|████████  |808/1000, best_cost=2.36e-33\u001b[A\u001b[A\n",
            "\n",
            "pyswarms.single.global_best:  81%|████████  |808/1000, best_cost=2.13e-33\u001b[A\u001b[A\n",
            "\n",
            "pyswarms.single.global_best:  82%|████████▏ |816/1000, best_cost=2.13e-33\u001b[A\u001b[A\n",
            "\n",
            "pyswarms.single.global_best:  82%|████████▏ |816/1000, best_cost=1.34e-33\u001b[A\u001b[A\n",
            "\n",
            "pyswarms.single.global_best:  82%|████████▏ |816/1000, best_cost=1.34e-33\u001b[A\u001b[A\n",
            "\n",
            "pyswarms.single.global_best:  82%|████████▏ |816/1000, best_cost=1.34e-33\u001b[A\u001b[A\n",
            "\n",
            "pyswarms.single.global_best:  82%|████████▏ |816/1000, best_cost=1.34e-33\u001b[A\u001b[A\n",
            "\n",
            "pyswarms.single.global_best:  82%|████████▏ |816/1000, best_cost=1.34e-33\u001b[A\u001b[A\n",
            "\n",
            "pyswarms.single.global_best:  82%|████████▏ |816/1000, best_cost=8.96e-34\u001b[A\u001b[A\n",
            "\n",
            "pyswarms.single.global_best:  82%|████████▏ |816/1000, best_cost=8.76e-34\u001b[A\u001b[A\n",
            "\n",
            "pyswarms.single.global_best:  82%|████████▏ |816/1000, best_cost=8.76e-34\u001b[A\u001b[A\n",
            "\n",
            "pyswarms.single.global_best:  82%|████████▏ |824/1000, best_cost=8.76e-34\u001b[A\u001b[A\n",
            "\n",
            "pyswarms.single.global_best:  82%|████████▏ |824/1000, best_cost=6.54e-34\u001b[A\u001b[A\n",
            "\n",
            "pyswarms.single.global_best:  82%|████████▏ |824/1000, best_cost=6.54e-34\u001b[A\u001b[A\n",
            "\n",
            "pyswarms.single.global_best:  82%|████████▏ |824/1000, best_cost=6.54e-34\u001b[A\u001b[A\n",
            "\n",
            "pyswarms.single.global_best:  82%|████████▏ |824/1000, best_cost=6.54e-34\u001b[A\u001b[A\n",
            "\n",
            "pyswarms.single.global_best:  82%|████████▏ |824/1000, best_cost=6.54e-34\u001b[A\u001b[A\n",
            "\n",
            "pyswarms.single.global_best:  82%|████████▏ |824/1000, best_cost=5.7e-34 \u001b[A\u001b[A\n",
            "\n",
            "pyswarms.single.global_best:  82%|████████▏ |824/1000, best_cost=4.97e-34\u001b[A\u001b[A\n",
            "\n",
            "pyswarms.single.global_best:  82%|████████▏ |824/1000, best_cost=4.97e-34\u001b[A\u001b[A\n",
            "\n",
            "pyswarms.single.global_best:  83%|████████▎ |832/1000, best_cost=4.97e-34\u001b[A\u001b[A\n",
            "\n",
            "pyswarms.single.global_best:  83%|████████▎ |832/1000, best_cost=4.61e-34\u001b[A\u001b[A\n",
            "\n",
            "pyswarms.single.global_best:  83%|████████▎ |832/1000, best_cost=2.22e-34\u001b[A\u001b[A\n",
            "\n",
            "pyswarms.single.global_best:  83%|████████▎ |832/1000, best_cost=2.22e-34\u001b[A\u001b[A\n",
            "\n",
            "pyswarms.single.global_best:  83%|████████▎ |832/1000, best_cost=2.22e-34\u001b[A\u001b[A\n",
            "\n",
            "pyswarms.single.global_best:  83%|████████▎ |832/1000, best_cost=2.22e-34\u001b[A\u001b[A\n",
            "\n",
            "pyswarms.single.global_best:  83%|████████▎ |832/1000, best_cost=1.97e-34\u001b[A\u001b[A\n",
            "\n",
            "pyswarms.single.global_best:  83%|████████▎ |832/1000, best_cost=1.97e-34\u001b[A\u001b[A\n",
            "\n",
            "pyswarms.single.global_best:  83%|████████▎ |832/1000, best_cost=1.97e-34\u001b[A\u001b[A\n",
            "\n",
            "pyswarms.single.global_best:  84%|████████▍ |840/1000, best_cost=1.97e-34\u001b[A\u001b[A\n",
            "\n",
            "pyswarms.single.global_best:  84%|████████▍ |840/1000, best_cost=1.5e-34 \u001b[A\u001b[A\n",
            "\n",
            "pyswarms.single.global_best:  84%|████████▍ |840/1000, best_cost=1.5e-34\u001b[A\u001b[A\n",
            "\n",
            "pyswarms.single.global_best:  84%|████████▍ |840/1000, best_cost=1.5e-34\u001b[A\u001b[A\n",
            "\n",
            "pyswarms.single.global_best:  84%|████████▍ |840/1000, best_cost=1.5e-34\u001b[A\u001b[A\n",
            "\n",
            "pyswarms.single.global_best:  84%|████████▍ |840/1000, best_cost=1.12e-34\u001b[A\u001b[A\n",
            "\n",
            "pyswarms.single.global_best:  84%|████████▍ |840/1000, best_cost=1.12e-34\u001b[A\u001b[A\n",
            "\n",
            "pyswarms.single.global_best:  84%|████████▍ |840/1000, best_cost=1.12e-34\u001b[A\u001b[A\n",
            "\n",
            "pyswarms.single.global_best:  84%|████████▍ |840/1000, best_cost=1.09e-34\u001b[A\u001b[A\n",
            "\n",
            "pyswarms.single.global_best:  84%|████████▍ |840/1000, best_cost=1.09e-34\u001b[A\u001b[A\n",
            "\n",
            "pyswarms.single.global_best:  85%|████████▍ |849/1000, best_cost=1.09e-34\u001b[A\u001b[A\n",
            "\n",
            "pyswarms.single.global_best:  85%|████████▍ |849/1000, best_cost=1.09e-34\u001b[A\u001b[A\n",
            "\n",
            "pyswarms.single.global_best:  85%|████████▍ |849/1000, best_cost=1.09e-34\u001b[A\u001b[A\n",
            "\n",
            "pyswarms.single.global_best:  85%|████████▍ |849/1000, best_cost=8.31e-35\u001b[A\u001b[A\n",
            "\n",
            "pyswarms.single.global_best:  85%|████████▍ |849/1000, best_cost=8.31e-35\u001b[A\u001b[A\n",
            "\n",
            "pyswarms.single.global_best:  85%|████████▍ |849/1000, best_cost=8.24e-35\u001b[A\u001b[A\n",
            "\n",
            "pyswarms.single.global_best:  85%|████████▍ |849/1000, best_cost=8.24e-35\u001b[A\u001b[A\n",
            "\n",
            "pyswarms.single.global_best:  85%|████████▍ |849/1000, best_cost=5.63e-35\u001b[A\u001b[A\n",
            "\n",
            "pyswarms.single.global_best:  85%|████████▍ |849/1000, best_cost=5.63e-35\u001b[A\u001b[A\n",
            "\n",
            "pyswarms.single.global_best:  85%|████████▍ |849/1000, best_cost=5.63e-35\u001b[A\u001b[A\n",
            "\n",
            "pyswarms.single.global_best:  86%|████████▌ |858/1000, best_cost=5.63e-35\u001b[A\u001b[A\n",
            "\n",
            "pyswarms.single.global_best:  86%|████████▌ |858/1000, best_cost=5.63e-35\u001b[A\u001b[A\n",
            "\n",
            "pyswarms.single.global_best:  86%|████████▌ |858/1000, best_cost=5.63e-35\u001b[A\u001b[A\n",
            "\n",
            "pyswarms.single.global_best:  86%|████████▌ |858/1000, best_cost=5.63e-35\u001b[A\u001b[A\n",
            "\n",
            "pyswarms.single.global_best:  86%|████████▌ |858/1000, best_cost=5.16e-35\u001b[A\u001b[A\n",
            "\n",
            "pyswarms.single.global_best:  86%|████████▌ |858/1000, best_cost=5.16e-35\u001b[A\u001b[A\n",
            "\n",
            "pyswarms.single.global_best:  86%|████████▌ |858/1000, best_cost=4.78e-35\u001b[A\u001b[A\n",
            "\n",
            "pyswarms.single.global_best:  86%|████████▌ |858/1000, best_cost=3.6e-35 \u001b[A\u001b[A\n",
            "\n",
            "pyswarms.single.global_best:  86%|████████▌ |858/1000, best_cost=3.6e-35\u001b[A\u001b[A\n",
            "\n",
            "pyswarms.single.global_best:  86%|████████▌ |858/1000, best_cost=3.6e-35\u001b[A\u001b[A\n",
            "\n",
            "pyswarms.single.global_best:  87%|████████▋ |867/1000, best_cost=3.6e-35\u001b[A\u001b[A\n",
            "\n",
            "pyswarms.single.global_best:  87%|████████▋ |867/1000, best_cost=3.6e-35\u001b[A\u001b[A\n",
            "\n",
            "pyswarms.single.global_best:  87%|████████▋ |867/1000, best_cost=3.52e-35\u001b[A\u001b[A\n",
            "\n",
            "pyswarms.single.global_best:  87%|████████▋ |867/1000, best_cost=3.52e-35\u001b[A\u001b[A\n",
            "\n",
            "pyswarms.single.global_best:  87%|████████▋ |867/1000, best_cost=3.21e-35\u001b[A\u001b[A\n",
            "\n",
            "pyswarms.single.global_best:  87%|████████▋ |867/1000, best_cost=3.18e-35\u001b[A\u001b[A\n",
            "\n",
            "pyswarms.single.global_best:  87%|████████▋ |867/1000, best_cost=2.86e-35\u001b[A\u001b[A\n",
            "\n",
            "pyswarms.single.global_best:  87%|████████▋ |867/1000, best_cost=2.56e-35\u001b[A\u001b[A\n",
            "\n",
            "pyswarms.single.global_best:  87%|████████▋ |867/1000, best_cost=2.56e-35\u001b[A\u001b[A\n",
            "\n",
            "pyswarms.single.global_best:  88%|████████▊ |875/1000, best_cost=2.56e-35\u001b[A\u001b[A\n",
            "\n",
            "pyswarms.single.global_best:  88%|████████▊ |875/1000, best_cost=2.56e-35\u001b[A\u001b[A\n",
            "\n",
            "pyswarms.single.global_best:  88%|████████▊ |875/1000, best_cost=2.56e-35\u001b[A\u001b[A\n",
            "\n",
            "pyswarms.single.global_best:  88%|████████▊ |875/1000, best_cost=2.56e-35\u001b[A\u001b[A\n",
            "\n",
            "pyswarms.single.global_best:  88%|████████▊ |875/1000, best_cost=2.56e-35\u001b[A\u001b[A\n",
            "\n",
            "pyswarms.single.global_best:  88%|████████▊ |875/1000, best_cost=2.53e-35\u001b[A\u001b[A\n",
            "\n",
            "pyswarms.single.global_best:  88%|████████▊ |875/1000, best_cost=2.46e-35\u001b[A\u001b[A\n",
            "\n",
            "pyswarms.single.global_best:  88%|████████▊ |875/1000, best_cost=2.45e-35\u001b[A\u001b[A\n",
            "\n",
            "pyswarms.single.global_best:  88%|████████▊ |875/1000, best_cost=2.1e-35 \u001b[A\u001b[A\n",
            "\n",
            "pyswarms.single.global_best:  88%|████████▊ |883/1000, best_cost=2.1e-35\u001b[A\u001b[A\n",
            "\n",
            "pyswarms.single.global_best:  88%|████████▊ |883/1000, best_cost=1.82e-35\u001b[A\u001b[A\n",
            "\n",
            "pyswarms.single.global_best:  88%|████████▊ |883/1000, best_cost=1.82e-35\u001b[A\u001b[A\n",
            "\n",
            "pyswarms.single.global_best:  88%|████████▊ |883/1000, best_cost=1.42e-35\u001b[A\u001b[A\n",
            "\n",
            "pyswarms.single.global_best:  88%|████████▊ |883/1000, best_cost=1.42e-35\u001b[A\u001b[A\n",
            "\n",
            "pyswarms.single.global_best:  88%|████████▊ |883/1000, best_cost=1.04e-35\u001b[A\u001b[A\n",
            "\n",
            "pyswarms.single.global_best:  88%|████████▊ |883/1000, best_cost=1.04e-35\u001b[A\u001b[A\n",
            "\n",
            "pyswarms.single.global_best:  88%|████████▊ |883/1000, best_cost=9.71e-36\u001b[A\u001b[A\n",
            "\n",
            "pyswarms.single.global_best:  88%|████████▊ |883/1000, best_cost=9.71e-36\u001b[A\u001b[A\n",
            "\n",
            "pyswarms.single.global_best:  89%|████████▉ |891/1000, best_cost=9.71e-36\u001b[A\u001b[A\n",
            "\n",
            "pyswarms.single.global_best:  89%|████████▉ |891/1000, best_cost=9.71e-36\u001b[A\u001b[A\n",
            "\n",
            "pyswarms.single.global_best:  89%|████████▉ |891/1000, best_cost=9.71e-36\u001b[A\u001b[A\n",
            "\n",
            "pyswarms.single.global_best:  89%|████████▉ |891/1000, best_cost=8.44e-36\u001b[A\u001b[A\n",
            "\n",
            "pyswarms.single.global_best:  89%|████████▉ |891/1000, best_cost=8.44e-36\u001b[A\u001b[A\n",
            "\n",
            "pyswarms.single.global_best:  89%|████████▉ |891/1000, best_cost=7.91e-36\u001b[A\u001b[A\n",
            "\n",
            "pyswarms.single.global_best:  89%|████████▉ |891/1000, best_cost=7.91e-36\u001b[A\u001b[A\n",
            "\n",
            "pyswarms.single.global_best:  89%|████████▉ |891/1000, best_cost=7.91e-36\u001b[A\u001b[A\n",
            "\n",
            "pyswarms.single.global_best:  89%|████████▉ |891/1000, best_cost=5.61e-36\u001b[A\u001b[A\n",
            "\n",
            "pyswarms.single.global_best:  90%|████████▉ |899/1000, best_cost=5.61e-36\u001b[A\u001b[A\n",
            "\n",
            "pyswarms.single.global_best:  90%|████████▉ |899/1000, best_cost=5.33e-36\u001b[A\u001b[A\n",
            "\n",
            "pyswarms.single.global_best:  90%|████████▉ |899/1000, best_cost=5.33e-36\u001b[A\u001b[A\n",
            "\n",
            "pyswarms.single.global_best:  90%|████████▉ |899/1000, best_cost=3.6e-36 \u001b[A\u001b[A\n",
            "\n",
            "pyswarms.single.global_best:  90%|████████▉ |899/1000, best_cost=3.6e-36\u001b[A\u001b[A\n",
            "\n",
            "pyswarms.single.global_best:  90%|████████▉ |899/1000, best_cost=3.6e-36\u001b[A\u001b[A\n",
            "\n",
            "pyswarms.single.global_best:  90%|████████▉ |899/1000, best_cost=3.53e-36\u001b[A\u001b[A\n",
            "\n",
            "pyswarms.single.global_best:  90%|████████▉ |899/1000, best_cost=3.53e-36\u001b[A\u001b[A\n",
            "\n",
            "pyswarms.single.global_best:  90%|████████▉ |899/1000, best_cost=3.29e-36\u001b[A\u001b[A\n",
            "\n",
            "pyswarms.single.global_best:  91%|█████████ |907/1000, best_cost=3.29e-36\u001b[A\u001b[A\n",
            "\n",
            "pyswarms.single.global_best:  91%|█████████ |907/1000, best_cost=2.96e-36\u001b[A\u001b[A\n",
            "\n",
            "pyswarms.single.global_best:  91%|█████████ |907/1000, best_cost=1.26e-36\u001b[A\u001b[A\n",
            "\n",
            "pyswarms.single.global_best:  91%|█████████ |907/1000, best_cost=1.26e-36\u001b[A\u001b[A\n",
            "\n",
            "pyswarms.single.global_best:  91%|█████████ |907/1000, best_cost=1.26e-36\u001b[A\u001b[A\n",
            "\n",
            "pyswarms.single.global_best:  91%|█████████ |907/1000, best_cost=9.91e-37\u001b[A\u001b[A\n",
            "\n",
            "pyswarms.single.global_best:  91%|█████████ |907/1000, best_cost=8.77e-37\u001b[A\u001b[A\n",
            "\n",
            "pyswarms.single.global_best:  91%|█████████ |907/1000, best_cost=7.4e-37 \u001b[A\u001b[A\n",
            "\n",
            "pyswarms.single.global_best:  91%|█████████ |907/1000, best_cost=7.4e-37\u001b[A\u001b[A\n",
            "\n",
            "pyswarms.single.global_best:  92%|█████████▏|915/1000, best_cost=7.4e-37\u001b[A\u001b[A\n",
            "\n",
            "pyswarms.single.global_best:  92%|█████████▏|915/1000, best_cost=7.4e-37\u001b[A\u001b[A\n",
            "\n",
            "pyswarms.single.global_best:  92%|█████████▏|915/1000, best_cost=5.26e-37\u001b[A\u001b[A\n",
            "\n",
            "pyswarms.single.global_best:  92%|█████████▏|915/1000, best_cost=5.26e-37\u001b[A\u001b[A\n",
            "\n",
            "pyswarms.single.global_best:  92%|█████████▏|915/1000, best_cost=5.26e-37\u001b[A\u001b[A\n",
            "\n",
            "pyswarms.single.global_best:  92%|█████████▏|915/1000, best_cost=5.26e-37\u001b[A\u001b[A\n",
            "\n",
            "pyswarms.single.global_best:  92%|█████████▏|915/1000, best_cost=5.26e-37\u001b[A\u001b[A\n",
            "\n",
            "pyswarms.single.global_best:  92%|█████████▏|915/1000, best_cost=4.42e-37\u001b[A\u001b[A\n",
            "\n",
            "pyswarms.single.global_best:  92%|█████████▏|915/1000, best_cost=4.42e-37\u001b[A\u001b[A\n",
            "\n",
            "pyswarms.single.global_best:  92%|█████████▏|923/1000, best_cost=4.42e-37\u001b[A\u001b[A\n",
            "\n",
            "pyswarms.single.global_best:  92%|█████████▏|923/1000, best_cost=4.38e-37\u001b[A\u001b[A\n",
            "\n",
            "pyswarms.single.global_best:  92%|█████████▏|923/1000, best_cost=3.36e-37\u001b[A\u001b[A\n",
            "\n",
            "pyswarms.single.global_best:  92%|█████████▏|923/1000, best_cost=2.82e-37\u001b[A\u001b[A\n",
            "\n",
            "pyswarms.single.global_best:  92%|█████████▏|923/1000, best_cost=2.82e-37\u001b[A\u001b[A\n",
            "\n",
            "pyswarms.single.global_best:  92%|█████████▏|923/1000, best_cost=2.82e-37\u001b[A\u001b[A\n",
            "\n",
            "pyswarms.single.global_best:  92%|█████████▏|923/1000, best_cost=2.82e-37\u001b[A\u001b[A\n",
            "\n",
            "pyswarms.single.global_best:  92%|█████████▏|923/1000, best_cost=2.82e-37\u001b[A\u001b[A\n",
            "\n",
            "pyswarms.single.global_best:  92%|█████████▏|923/1000, best_cost=2.82e-37\u001b[A\u001b[A\n",
            "\n",
            "pyswarms.single.global_best:  93%|█████████▎|931/1000, best_cost=2.82e-37\u001b[A\u001b[A\n",
            "\n",
            "pyswarms.single.global_best:  93%|█████████▎|931/1000, best_cost=2.31e-37\u001b[A\u001b[A\n",
            "\n",
            "pyswarms.single.global_best:  93%|█████████▎|931/1000, best_cost=2.31e-37\u001b[A\u001b[A\n",
            "\n",
            "pyswarms.single.global_best:  93%|█████████▎|931/1000, best_cost=1.99e-37\u001b[A\u001b[A\n",
            "\n",
            "pyswarms.single.global_best:  93%|█████████▎|931/1000, best_cost=1.87e-37\u001b[A\u001b[A\n",
            "\n",
            "pyswarms.single.global_best:  93%|█████████▎|931/1000, best_cost=1.42e-37\u001b[A\u001b[A\n",
            "\n",
            "pyswarms.single.global_best:  93%|█████████▎|931/1000, best_cost=1.42e-37\u001b[A\u001b[A\n",
            "\n",
            "pyswarms.single.global_best:  93%|█████████▎|931/1000, best_cost=1.42e-37\u001b[A\u001b[A\n",
            "\n",
            "pyswarms.single.global_best:  93%|█████████▎|931/1000, best_cost=1.14e-37\u001b[A\u001b[A\n",
            "\n",
            "pyswarms.single.global_best:  93%|█████████▎|931/1000, best_cost=1.14e-37\u001b[A\u001b[A\n",
            "\n",
            "pyswarms.single.global_best:  94%|█████████▍|940/1000, best_cost=1.14e-37\u001b[A\u001b[A\n",
            "\n",
            "pyswarms.single.global_best:  94%|█████████▍|940/1000, best_cost=1.14e-37\u001b[A\u001b[A\n",
            "\n",
            "pyswarms.single.global_best:  94%|█████████▍|940/1000, best_cost=1.02e-37\u001b[A\u001b[A\n",
            "\n",
            "pyswarms.single.global_best:  94%|█████████▍|940/1000, best_cost=8.44e-38\u001b[A\u001b[A\n",
            "\n",
            "pyswarms.single.global_best:  94%|█████████▍|940/1000, best_cost=8.44e-38\u001b[A\u001b[A\n",
            "\n",
            "pyswarms.single.global_best:  94%|█████████▍|940/1000, best_cost=8.44e-38\u001b[A\u001b[A\n",
            "\n",
            "pyswarms.single.global_best:  94%|█████████▍|940/1000, best_cost=7.55e-38\u001b[A\u001b[A\n",
            "\n",
            "pyswarms.single.global_best:  94%|█████████▍|940/1000, best_cost=7.55e-38\u001b[A\u001b[A\n",
            "\n",
            "pyswarms.single.global_best:  94%|█████████▍|940/1000, best_cost=7.55e-38\u001b[A\u001b[A\n",
            "\n",
            "pyswarms.single.global_best:  94%|█████████▍|940/1000, best_cost=7.55e-38\u001b[A\u001b[A\n",
            "\n",
            "pyswarms.single.global_best:  95%|█████████▍|949/1000, best_cost=7.55e-38\u001b[A\u001b[A\n",
            "\n",
            "pyswarms.single.global_best:  95%|█████████▍|949/1000, best_cost=6.75e-38\u001b[A\u001b[A\n",
            "\n",
            "pyswarms.single.global_best:  95%|█████████▍|949/1000, best_cost=6.75e-38\u001b[A\u001b[A\n",
            "\n",
            "pyswarms.single.global_best:  95%|█████████▍|949/1000, best_cost=6.75e-38\u001b[A\u001b[A\n",
            "\n",
            "pyswarms.single.global_best:  95%|█████████▍|949/1000, best_cost=6.75e-38\u001b[A\u001b[A\n",
            "\n",
            "pyswarms.single.global_best:  95%|█████████▍|949/1000, best_cost=6.67e-38\u001b[A\u001b[A\n",
            "\n",
            "pyswarms.single.global_best:  95%|█████████▍|949/1000, best_cost=6.67e-38\u001b[A\u001b[A\n",
            "\n",
            "pyswarms.single.global_best:  95%|█████████▍|949/1000, best_cost=6.08e-38\u001b[A\u001b[A\n",
            "\n",
            "pyswarms.single.global_best:  95%|█████████▍|949/1000, best_cost=6.08e-38\u001b[A\u001b[A\n",
            "\n",
            "pyswarms.single.global_best:  95%|█████████▍|949/1000, best_cost=6.08e-38\u001b[A\u001b[A\n",
            "\n",
            "pyswarms.single.global_best:  96%|█████████▌|958/1000, best_cost=6.08e-38\u001b[A\u001b[A\n",
            "\n",
            "pyswarms.single.global_best:  96%|█████████▌|958/1000, best_cost=6.08e-38\u001b[A\u001b[A\n",
            "\n",
            "pyswarms.single.global_best:  96%|█████████▌|958/1000, best_cost=6.08e-38\u001b[A\u001b[A\n",
            "\n",
            "pyswarms.single.global_best:  96%|█████████▌|958/1000, best_cost=6.05e-38\u001b[A\u001b[A\n",
            "\n",
            "pyswarms.single.global_best:  96%|█████████▌|958/1000, best_cost=4.62e-38\u001b[A\u001b[A\n",
            "\n",
            "pyswarms.single.global_best:  96%|█████████▌|958/1000, best_cost=4.6e-38 \u001b[A\u001b[A\n",
            "\n",
            "pyswarms.single.global_best:  96%|█████████▌|958/1000, best_cost=4.47e-38\u001b[A\u001b[A\n",
            "\n",
            "pyswarms.single.global_best:  96%|█████████▌|958/1000, best_cost=3.63e-38\u001b[A\u001b[A\n",
            "\n",
            "pyswarms.single.global_best:  96%|█████████▌|958/1000, best_cost=3.47e-38\u001b[A\u001b[A\n",
            "\n",
            "pyswarms.single.global_best:  96%|█████████▌|958/1000, best_cost=2.94e-38\u001b[A\u001b[A\n",
            "\n",
            "pyswarms.single.global_best:  97%|█████████▋|967/1000, best_cost=2.94e-38\u001b[A\u001b[A\n",
            "\n",
            "pyswarms.single.global_best:  97%|█████████▋|967/1000, best_cost=2.94e-38\u001b[A\u001b[A\n",
            "\n",
            "pyswarms.single.global_best:  97%|█████████▋|967/1000, best_cost=2.94e-38\u001b[A\u001b[A\n",
            "\n",
            "pyswarms.single.global_best:  97%|█████████▋|967/1000, best_cost=2.84e-38\u001b[A\u001b[A\n",
            "\n",
            "pyswarms.single.global_best:  97%|█████████▋|967/1000, best_cost=2.58e-38\u001b[A\u001b[A\n",
            "\n",
            "pyswarms.single.global_best:  97%|█████████▋|967/1000, best_cost=2.46e-38\u001b[A\u001b[A\n",
            "\n",
            "pyswarms.single.global_best:  97%|█████████▋|967/1000, best_cost=1.71e-38\u001b[A\u001b[A\n",
            "\n",
            "pyswarms.single.global_best:  97%|█████████▋|967/1000, best_cost=1.71e-38\u001b[A\u001b[A\n",
            "\n",
            "pyswarms.single.global_best:  97%|█████████▋|967/1000, best_cost=1.59e-38\u001b[A\u001b[A\n",
            "\n",
            "pyswarms.single.global_best:  97%|█████████▋|967/1000, best_cost=1.45e-38\u001b[A\u001b[A\n",
            "\n",
            "pyswarms.single.global_best:  98%|█████████▊|976/1000, best_cost=1.45e-38\u001b[A\u001b[A\n",
            "\n",
            "pyswarms.single.global_best:  98%|█████████▊|976/1000, best_cost=1.12e-38\u001b[A\u001b[A\n",
            "\n",
            "pyswarms.single.global_best:  98%|█████████▊|976/1000, best_cost=1.12e-38\u001b[A\u001b[A\n",
            "\n",
            "pyswarms.single.global_best:  98%|█████████▊|976/1000, best_cost=1.12e-38\u001b[A\u001b[A\n",
            "\n",
            "pyswarms.single.global_best:  98%|█████████▊|976/1000, best_cost=1.12e-38\u001b[A\u001b[A\n",
            "\n",
            "pyswarms.single.global_best:  98%|█████████▊|976/1000, best_cost=1.09e-38\u001b[A\u001b[A\n",
            "\n",
            "pyswarms.single.global_best:  98%|█████████▊|976/1000, best_cost=1.09e-38\u001b[A\u001b[A\n",
            "\n",
            "pyswarms.single.global_best:  98%|█████████▊|976/1000, best_cost=8.56e-39\u001b[A\u001b[A\n",
            "\n",
            "pyswarms.single.global_best:  98%|█████████▊|976/1000, best_cost=8.56e-39\u001b[A\u001b[A\n",
            "\n",
            "pyswarms.single.global_best:  98%|█████████▊|976/1000, best_cost=8.56e-39\u001b[A\u001b[A\n",
            "\n",
            "pyswarms.single.global_best:  98%|█████████▊|985/1000, best_cost=8.56e-39\u001b[A\u001b[A\n",
            "\n",
            "pyswarms.single.global_best:  98%|█████████▊|985/1000, best_cost=7.57e-39\u001b[A\u001b[A\n",
            "\n",
            "pyswarms.single.global_best:  98%|█████████▊|985/1000, best_cost=7.57e-39\u001b[A\u001b[A\n",
            "\n",
            "pyswarms.single.global_best:  98%|█████████▊|985/1000, best_cost=4.03e-39\u001b[A\u001b[A\n",
            "\n",
            "pyswarms.single.global_best:  98%|█████████▊|985/1000, best_cost=4.03e-39\u001b[A\u001b[A\n",
            "\n",
            "pyswarms.single.global_best:  98%|█████████▊|985/1000, best_cost=3.37e-39\u001b[A\u001b[A\n",
            "\n",
            "pyswarms.single.global_best:  98%|█████████▊|985/1000, best_cost=2.35e-39\u001b[A\u001b[A\n",
            "\n",
            "pyswarms.single.global_best:  98%|█████████▊|985/1000, best_cost=2.35e-39\u001b[A\u001b[A\n",
            "\n",
            "pyswarms.single.global_best:  98%|█████████▊|985/1000, best_cost=2.31e-39\u001b[A\u001b[A\n",
            "\n",
            "pyswarms.single.global_best:  98%|█████████▊|985/1000, best_cost=2.31e-39\u001b[A\u001b[A\n",
            "\n",
            "pyswarms.single.global_best:  99%|█████████▉|994/1000, best_cost=2.31e-39\u001b[A\u001b[A\n",
            "\n",
            "pyswarms.single.global_best:  99%|█████████▉|994/1000, best_cost=2.31e-39\u001b[A\u001b[A\n",
            "\n",
            "pyswarms.single.global_best:  99%|█████████▉|994/1000, best_cost=2.31e-39\u001b[A\u001b[A\n",
            "\n",
            "pyswarms.single.global_best:  99%|█████████▉|994/1000, best_cost=2.22e-39\u001b[A\u001b[A\n",
            "\n",
            "pyswarms.single.global_best:  99%|█████████▉|994/1000, best_cost=1.79e-39\u001b[A\u001b[A\n",
            "\n",
            "pyswarms.single.global_best:  99%|█████████▉|994/1000, best_cost=1.79e-39\u001b[A\u001b[A\n",
            "\n",
            "pyswarms.single.global_best:  99%|█████████▉|994/1000, best_cost=1.75e-39\u001b[A\u001b[A\n",
            "\n",
            "pyswarms.single.global_best: 100%|██████████|1000/1000, best_cost=1.75e-39\u001b[A\u001b[A2019-11-20 05:45:28,796 - pyswarms.single.global_best - INFO - Optimization finished | best cost: 1.7483326269683844e-39, best pos: [ 2.32371677e-20 -4.87152480e-22 -8.38805520e-21  1.37024161e-20\n",
            " -2.09303415e-21  1.46523193e-20  9.56072717e-22 -1.28216185e-20\n",
            " -1.55728329e-20 -9.23293174e-21 -7.40421312e-21 -1.26309680e-20\n",
            "  4.84876923e-21]\n"
          ],
          "name": "stderr"
        }
      ]
    },
    {
      "cell_type": "code",
      "metadata": {
        "id": "Ldf5Xjd8Pk4-",
        "colab_type": "code",
        "outputId": "b6039cf9-8378-4c2d-a947-c406b77d39f4",
        "colab": {
          "base_uri": "https://localhost:8080/",
          "height": 145
        }
      },
      "source": [
        "#!conda install -c conda-forge ffmpeg"
      ],
      "execution_count": 0,
      "outputs": [
        {
          "output_type": "stream",
          "text": [
            "ERROR: The install method you used for conda--probably either `pip install conda`\n",
            "or `easy_install conda`--is not compatible with using conda as an application.\n",
            "If your intention is to install conda as a standalone application, currently\n",
            "supported install methods include the Anaconda installer and the miniconda\n",
            "installer.  You can download the miniconda installer from\n",
            "https://conda.io/miniconda.html.\n",
            "\n"
          ],
          "name": "stdout"
        }
      ]
    },
    {
      "cell_type": "code",
      "metadata": {
        "id": "rf_qzlsSO_5K",
        "colab_type": "code",
        "colab": {}
      },
      "source": [
        "#from pyswarms.utils.environments import PlotEnvironment\n",
        "#plt_env = PlotEnvironment(optimizer, fx.sphere_func, 1000)"
      ],
      "execution_count": 0,
      "outputs": []
    },
    {
      "cell_type": "code",
      "metadata": {
        "id": "Gd1iH23GLA8P",
        "colab_type": "code",
        "colab": {}
      },
      "source": [
        "weight=list(pos[0:12])"
      ],
      "execution_count": 0,
      "outputs": []
    },
    {
      "cell_type": "markdown",
      "metadata": {
        "id": "Y1rACzUGbp0E",
        "colab_type": "text"
      },
      "source": [
        "# ============Voting Ensemble for Classification=========\n",
        "\n",
        "---\n",
        "\n"
      ]
    },
    {
      "cell_type": "code",
      "metadata": {
        "id": "FTTOx5tgRwH1",
        "colab_type": "code",
        "colab": {}
      },
      "source": [
        "from sklearn.ensemble import VotingClassifier"
      ],
      "execution_count": 0,
      "outputs": []
    },
    {
      "cell_type": "code",
      "metadata": {
        "id": "7YGnY1PQx2FO",
        "colab_type": "code",
        "colab": {}
      },
      "source": [
        "from sklearn.pipeline import Pipeline"
      ],
      "execution_count": 0,
      "outputs": []
    },
    {
      "cell_type": "code",
      "metadata": {
        "id": "fPWj9Nqeyv4t",
        "colab_type": "code",
        "colab": {}
      },
      "source": [
        "estimators = []\n",
        "leng = [1,2,3,4,5,6]\n",
        "for n,No in zip(([1,3,5,7,9,11]),leng):\n",
        "  KNN = OneVsRestClassifier(KNeighborsClassifier(n_neighbors=n, algorithm = 'auto', p=2, metric='euclidean'))\n",
        "  estimators.append((\"Knn_{} ,\".format(No),KNN))"
      ],
      "execution_count": 0,
      "outputs": []
    },
    {
      "cell_type": "code",
      "metadata": {
        "id": "8aE7_y7l2kQB",
        "colab_type": "code",
        "colab": {}
      },
      "source": [
        "leng = [1,2,3,4,5,6]\n",
        "for c,No in zip(([5,2,1,0.5,0.2,0.1]),leng):\n",
        "  SVM = OneVsRestClassifier(SVC(kernel = 'rbf',C = c,gamma= 'auto',probability=True))\n",
        "  estimators.append((\"SVM_{} ,\".format(No),SVM))"
      ],
      "execution_count": 0,
      "outputs": []
    },
    {
      "cell_type": "code",
      "metadata": {
        "id": "1R09yVKmd79E",
        "colab_type": "code",
        "colab": {}
      },
      "source": [
        "svm_knn =OneVsRestClassifier(VotingClassifier(estimators = estimators, voting='soft',weights=weight))\n",
        "svm_knn = svm_knn.fit(X_train.values,y_train.values)\n",
        "yPred=  svm_knn.predict(x1_test)"
      ],
      "execution_count": 0,
      "outputs": []
    },
    {
      "cell_type": "code",
      "metadata": {
        "id": "LL16vTgDkzIV",
        "colab_type": "code",
        "colab": {}
      },
      "source": [
        "yPred2=  svm_knn.predict(x2_test)\n",
        "yPred3=  svm_knn.predict(x3_test)\n",
        "yPred4=  svm_knn.predict(x4_test)\n",
        "yPred5=  svm_knn.predict(x5_test)\n",
        "yPred6=  svm_knn.predict(x6_test)"
      ],
      "execution_count": 0,
      "outputs": []
    },
    {
      "cell_type": "code",
      "metadata": {
        "id": "qF0ZCBryiMJa",
        "colab_type": "code",
        "outputId": "fa4b110c-64bb-43d8-8d69-52f6ea6e0a2d",
        "colab": {
          "base_uri": "https://localhost:8080/",
          "height": 54
        }
      },
      "source": [
        "knn_SVM_pred_score1 = prediction_score(y1_test.values, yPred, data_name = 'test set')"
      ],
      "execution_count": 0,
      "outputs": [
        {
          "output_type": "stream",
          "text": [
            "Classification accuracy score on the test set\n",
            "\n"
          ],
          "name": "stdout"
        }
      ]
    },
    {
      "cell_type": "code",
      "metadata": {
        "id": "z3ishhV_rD1x",
        "colab_type": "code",
        "outputId": "ec01209c-075c-485c-9091-138adb756e3d",
        "colab": {
          "base_uri": "https://localhost:8080/",
          "height": 35
        }
      },
      "source": [
        "knn_SVM_pred_score1"
      ],
      "execution_count": 0,
      "outputs": [
        {
          "output_type": "execute_result",
          "data": {
            "text/plain": [
              "{'Dos': 80.0, 'Normal': 80.0, 'Probe': 80.0, 'R2L': 80.0, 'U2R': 80.0}"
            ]
          },
          "metadata": {
            "tags": []
          },
          "execution_count": 164
        }
      ]
    },
    {
      "cell_type": "code",
      "metadata": {
        "id": "cd-uTxjDjf2L",
        "colab_type": "code",
        "outputId": "f73a3947-e5dc-44c9-e186-81f837f42374",
        "colab": {
          "base_uri": "https://localhost:8080/",
          "height": 199
        }
      },
      "source": [
        "knn_SVM_pred_score2 = prediction_score(y2_test.values, yPred2, data_name = 'test set')\n",
        "knn_SVM_pred_score3 = prediction_score(y3_test.values, yPred3, data_name = 'test set')\n",
        "knn_SVM_pred_score4 = prediction_score(y4_test.values, yPred4, data_name = 'test set')\n",
        "knn_SVM_pred_score5 = prediction_score(y5_test.values, yPred5, data_name = 'test set')\n",
        "knn_SVM_pred_score6 = prediction_score(y6_test.values, yPred6, data_name = 'test set')"
      ],
      "execution_count": 0,
      "outputs": [
        {
          "output_type": "stream",
          "text": [
            "Classification accuracy score on the test set\n",
            "\n",
            "Classification accuracy score on the test set\n",
            "\n",
            "Classification accuracy score on the test set\n",
            "\n",
            "Classification accuracy score on the test set\n",
            "\n",
            "Classification accuracy score on the test set\n",
            "\n"
          ],
          "name": "stdout"
        }
      ]
    },
    {
      "cell_type": "code",
      "metadata": {
        "id": "A9669TlzoWfY",
        "colab_type": "code",
        "colab": {}
      },
      "source": [
        "All_score1 = [knn_SVM_pred_score1,knn_SVM_pred_score2,knn_SVM_pred_score3,knn_SVM_pred_score4,knn_SVM_pred_score5,knn_SVM_pred_score6]"
      ],
      "execution_count": 0,
      "outputs": []
    },
    {
      "cell_type": "code",
      "metadata": {
        "id": "x0gd-3Leoyd3",
        "colab_type": "code",
        "outputId": "e9ae78af-ec90-4315-c97f-e7a8691ba2b2",
        "colab": {
          "base_uri": "https://localhost:8080/",
          "height": 108
        }
      },
      "source": [
        "avg_accuracy_score_ = all_prediction_score_avg(All_score1)\n",
        "avg_accuracy_score_"
      ],
      "execution_count": 0,
      "outputs": [
        {
          "output_type": "execute_result",
          "data": {
            "text/plain": [
              "{'Dos': 96.66666666666667,\n",
              " 'Normal': 96.66666666666667,\n",
              " 'Probe': 96.66666666666667,\n",
              " 'R2L': 96.66666666666667,\n",
              " 'U2R': 96.66666666666667}"
            ]
          },
          "metadata": {
            "tags": []
          },
          "execution_count": 169
        }
      ]
    }
  ]
}